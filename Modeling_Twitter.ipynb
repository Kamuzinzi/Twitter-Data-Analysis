{
  "cells": [
    {
      "cell_type": "markdown",
      "metadata": {
        "id": "XwFOba1pbdVc"
      },
      "source": [
        "## **Objective **\n",
        "### Social Media Tweet Analysis on Twitter Dataset\n",
        "*   Topic Modeling on Twitter Dataset\n",
        "\n",
        "\n",
        "*   Reference for [Topic modeling ](https://towardsdatascience.com/topic-modeling-and-latent-dirichlet-allocation-in-python-9bf156893c24)\n",
        "\n",
        "*   Sentiment analysis on Twitter Dataset\n",
        "\n"
      ]
    },
    {
      "cell_type": "markdown",
      "metadata": {
        "id": "SN9Lla4UO1SS"
      },
      "source": [
        "\n",
        "\n",
        "\n",
        "\n",
        "\n",
        "### **Business understanding**"
      ]
    },
    {
      "cell_type": "markdown",
      "metadata": {
        "id": "Dbu9rgu4iSTe"
      },
      "source": [
        "### **Topic modeling**\n",
        "Topic modeling is a type of statistical model for discovering the abstract \"topics\" that occur in a collection of texts.\n",
        "\n",
        " **Topic models** are built around the idea that the semantics of our document are actually being governed by some hidden, or “latent,” variables that we are not observing.\n",
        "\n",
        "It is an unsupervised approach used for finding and observing the bunch of words (called “topics”) in large clusters of texts.\n",
        "\n",
        "The important libraries used to perform the Topic Modeling are: Pandas, Gensim, pyLDAvis\n",
        "\n",
        "*   Our task here is to discover abstract topics from tweets.\n",
        "\n",
        "\n",
        "### **Sentiment analysis**\n",
        " It is used in social media monitoring, allowing businesses to gain insights about how customers feel about certain topics, and detect urgent issues in real time before they spiral out of control.\n",
        "\n",
        "\n",
        "*   Our task here is to classify a tweet as a positive or negative tweet sentiment wise.\n",
        "\n",
        "\n"
      ]
    },
    {
      "cell_type": "code",
      "execution_count": null,
      "metadata": {
        "id": "Vsmv5wkz0VFu"
      },
      "outputs": [],
      "source": []
    },
    {
      "cell_type": "markdown",
      "metadata": {
        "id": "REuN7elQ0Vvr"
      },
      "source": [
        "**Topic modeling **is a machine learning technique that automatically analyzes text data to determine cluster words for a set of documents. \n",
        "\n",
        "\n",
        "*   unsupervised machine learning because it doesn’t require a predefined list of tags or training data that’s been previously classified by humans.\n",
        "*   doesn’t require training, it’s a quick and easy way to start analyzing your data."
      ]
    },
    {
      "cell_type": "markdown",
      "metadata": {
        "id": "hQuEQFUIy2_3"
      },
      "source": [
        "## Data Understanding\n",
        "### Loading necessary packages"
      ]
    },
    {
      "cell_type": "code",
      "execution_count": 2,
      "metadata": {
        "id": "CTUmMBAOyt-g"
      },
      "outputs": [],
      "source": [
        "import warnings\n",
        "warnings.filterwarnings('ignore')\n",
        "import matplotlib.pyplot as plt\n",
        "import seaborn as sns\n",
        "import gensim\n",
        "from gensim.models import CoherenceModel\n",
        "from gensim import corpora\n",
        "import pandas as pd\n",
        "from pprint import pprint\n",
        "import string\n",
        "import os\n",
        "import re"
      ]
    },
    {
      "cell_type": "markdown",
      "metadata": {
        "id": "J4_9Y5q6zOK-"
      },
      "source": [
        "Data acquisition\n",
        "\n",
        "For this example we have two option for data acquisition:\n",
        "\n",
        "*   You can download Twitter dataset directly from Twitter\n",
        "*   By registering as a developer using this link [Here](https://developer.twitter.com/en) \n",
        "\n",
        "*   Or you can use downloaded data found at Week0/data/cleaned_fintech_data.csv \n",
        "\n"
      ]
    },
    {
      "cell_type": "code",
      "execution_count": null,
      "metadata": {
        "colab": {
          "base_uri": "https://localhost:8080/"
        },
        "id": "2wFXGgT1xe80",
        "outputId": "4d6cad52-245e-4492-a0a2-5210a613d1b5"
      },
      "outputs": [
        {
          "name": "stdout",
          "output_type": "stream",
          "text": [
            "Drive already mounted at /content/drive; to attempt to forcibly remount, call drive.mount(\"/content/drive\", force_remount=True).\n"
          ]
        }
      ],
      "source": [
        "# from google.colab import drive\n",
        "# drive.mount('/content/drive')"
      ]
    },
    {
      "cell_type": "code",
      "execution_count": 2,
      "metadata": {
        "id": "BQC4abqKkjIO"
      },
      "outputs": [],
      "source": [
        "# #data loader class\n",
        "# class DataLoader:\n",
        "#   def __init__(self,dir_name,file_name):\n",
        "#     self.dir_name=dir_name\n",
        "#     self.file_name = file_name\n",
        "    \n",
        " \n",
        "#   def read_csv(self):\n",
        "#     os.chdir(self.dir_name)\n",
        "#     tweets_df=pd.read_csv(self.file_name)\n",
        "#     return tweets_df\n",
        "  \n",
        "    "
      ]
    },
    {
      "cell_type": "code",
      "execution_count": null,
      "metadata": {
        "id": "U3mUs9wfqbJJ"
      },
      "outputs": [],
      "source": [
        "#object creation\n",
        "# DataLoader_obj= DataLoader('drive/MyDrive/data','cleaned_fintech_data.csv')\n"
      ]
    },
    {
      "cell_type": "code",
      "execution_count": 3,
      "metadata": {
        "colab": {
          "base_uri": "https://localhost:8080/",
          "height": 160
        },
        "id": "aE9Bs0UxrG5z",
        "outputId": "5f317851-601b-4179-c303-1069017bc86e"
      },
      "outputs": [
        {
          "data": {
            "text/html": [
              "<div>\n",
              "<style scoped>\n",
              "    .dataframe tbody tr th:only-of-type {\n",
              "        vertical-align: middle;\n",
              "    }\n",
              "\n",
              "    .dataframe tbody tr th {\n",
              "        vertical-align: top;\n",
              "    }\n",
              "\n",
              "    .dataframe thead th {\n",
              "        text-align: right;\n",
              "    }\n",
              "</style>\n",
              "<table border=\"1\" class=\"dataframe\">\n",
              "  <thead>\n",
              "    <tr style=\"text-align: right;\">\n",
              "      <th></th>\n",
              "      <th>created_at</th>\n",
              "      <th>source</th>\n",
              "      <th>original_text</th>\n",
              "      <th>polarity</th>\n",
              "      <th>subjectivity</th>\n",
              "      <th>lang</th>\n",
              "      <th>favorite_count</th>\n",
              "      <th>retweet_count</th>\n",
              "      <th>original_author</th>\n",
              "      <th>followers_count</th>\n",
              "      <th>friends_count</th>\n",
              "      <th>possibly_sensitive</th>\n",
              "      <th>hashtags</th>\n",
              "      <th>user_mentions</th>\n",
              "      <th>place</th>\n",
              "    </tr>\n",
              "  </thead>\n",
              "  <tbody>\n",
              "    <tr>\n",
              "      <th>2</th>\n",
              "      <td>Tue Aug 02 15:02:35 +0000 2022</td>\n",
              "      <td>&lt;a href=\"http://twitter.com/download/android\" ...</td>\n",
              "      <td>#Pelosi \\n#Taipei \\n#taiwan\\n#XiJinping \\n#Chi...</td>\n",
              "      <td>0.000000</td>\n",
              "      <td>0.000000</td>\n",
              "      <td>en</td>\n",
              "      <td>2</td>\n",
              "      <td>0</td>\n",
              "      <td>NassimaLilEmy</td>\n",
              "      <td>64</td>\n",
              "      <td>47</td>\n",
              "      <td>False</td>\n",
              "      <td>{'text': 'NATO', 'indices': [189, 194]}</td>\n",
              "      <td>{'screen_name': 'PeterObi', 'name': 'Peter Obi...</td>\n",
              "      <td>Algérie</td>\n",
              "    </tr>\n",
              "    <tr>\n",
              "      <th>3</th>\n",
              "      <td>Mon Aug 01 13:51:42 +0000 2022</td>\n",
              "      <td>&lt;a href=\"http://twitter.com/download/android\" ...</td>\n",
              "      <td>#HOBIPALOOZA #LaAcademiaExpulsion #WEURO2022 #...</td>\n",
              "      <td>0.433333</td>\n",
              "      <td>0.733333</td>\n",
              "      <td>en</td>\n",
              "      <td>0</td>\n",
              "      <td>0</td>\n",
              "      <td>d_dhayae</td>\n",
              "      <td>60</td>\n",
              "      <td>463</td>\n",
              "      <td>False</td>\n",
              "      <td>{'text': '5G', 'indices': [197, 200]}</td>\n",
              "      <td>{'screen_name': 'BBCWorld', 'name': 'BBC News ...</td>\n",
              "      <td>Chlef</td>\n",
              "    </tr>\n",
              "    <tr>\n",
              "      <th>4</th>\n",
              "      <td>Sun Jul 31 20:02:20 +0000 2022</td>\n",
              "      <td>&lt;a href=\"http://twitter.com/download/android\" ...</td>\n",
              "      <td>#Pelosi\\n#china\\nChina Time ✌️ https://t.co/tE...</td>\n",
              "      <td>0.000000</td>\n",
              "      <td>0.000000</td>\n",
              "      <td>en</td>\n",
              "      <td>2</td>\n",
              "      <td>0</td>\n",
              "      <td>Mohamme65404115</td>\n",
              "      <td>39</td>\n",
              "      <td>206</td>\n",
              "      <td>False</td>\n",
              "      <td>{'text': 'Pelosi', 'indices': [149, 156]}</td>\n",
              "      <td>{'screen_name': 'SpeakerPelosi', 'name': 'Nanc...</td>\n",
              "      <td>Algérie</td>\n",
              "    </tr>\n",
              "    <tr>\n",
              "      <th>5</th>\n",
              "      <td>Sun Jul 31 13:22:22 +0000 2022</td>\n",
              "      <td>&lt;a href=\"http://twitter.com/download/android\" ...</td>\n",
              "      <td>V382 Intro Logo Animation Blue Smoke 💙\\n\\nIf y...</td>\n",
              "      <td>0.169841</td>\n",
              "      <td>0.350397</td>\n",
              "      <td>en</td>\n",
              "      <td>1</td>\n",
              "      <td>1</td>\n",
              "      <td>Yacine_Kelala8</td>\n",
              "      <td>350</td>\n",
              "      <td>1</td>\n",
              "      <td>False</td>\n",
              "      <td>{'text': 'マツコの知らない世界', 'indices': [157, 168]}</td>\n",
              "      <td>{'screen_name': 'Asabari_CC', 'name': 'Asabari...</td>\n",
              "      <td>États-Unis</td>\n",
              "    </tr>\n",
              "    <tr>\n",
              "      <th>6</th>\n",
              "      <td>Sun Aug 07 05:55:54 +0000 2022</td>\n",
              "      <td>&lt;a href=\"http://twitter.com/download/android\" ...</td>\n",
              "      <td>TWINNING FOR \"AFRO IN SPACE\"🛰️\\n\"SENORITA\" COU...</td>\n",
              "      <td>0.000000</td>\n",
              "      <td>0.000000</td>\n",
              "      <td>en</td>\n",
              "      <td>0</td>\n",
              "      <td>0</td>\n",
              "      <td>drax_africa</td>\n",
              "      <td>559</td>\n",
              "      <td>1280</td>\n",
              "      <td>False</td>\n",
              "      <td>{'text': 'Yediiklim', 'indices': [169, 179]}</td>\n",
              "      <td>{'screen_name': 'IBEDC_NG', 'name': 'IBEDC', '...</td>\n",
              "      <td>Zambia</td>\n",
              "    </tr>\n",
              "    <tr>\n",
              "      <th>...</th>\n",
              "      <td>...</td>\n",
              "      <td>...</td>\n",
              "      <td>...</td>\n",
              "      <td>...</td>\n",
              "      <td>...</td>\n",
              "      <td>...</td>\n",
              "      <td>...</td>\n",
              "      <td>...</td>\n",
              "      <td>...</td>\n",
              "      <td>...</td>\n",
              "      <td>...</td>\n",
              "      <td>...</td>\n",
              "      <td>...</td>\n",
              "      <td>...</td>\n",
              "      <td>...</td>\n",
              "    </tr>\n",
              "    <tr>\n",
              "      <th>18999</th>\n",
              "      <td>Tue Aug 02 14:31:55 +0000 2022</td>\n",
              "      <td>&lt;a href=\"http://twitter.com/download/android\" ...</td>\n",
              "      <td>More than 2 Lakh people are tracking US air fo...</td>\n",
              "      <td>0.200000</td>\n",
              "      <td>0.750000</td>\n",
              "      <td>en</td>\n",
              "      <td>3</td>\n",
              "      <td>0</td>\n",
              "      <td>SayNoToRACISMW1</td>\n",
              "      <td>76</td>\n",
              "      <td>204</td>\n",
              "      <td>False</td>\n",
              "      <td>{'text': 'DeFi', 'indices': [167, 172]}</td>\n",
              "      <td>{'screen_name': 'SCMPNews', 'name': 'South Chi...</td>\n",
              "      <td>Nigeria</td>\n",
              "    </tr>\n",
              "    <tr>\n",
              "      <th>19004</th>\n",
              "      <td>Tue Aug 02 14:17:15 +0000 2022</td>\n",
              "      <td>&lt;a href=\"http://twitter.com/download/android\" ...</td>\n",
              "      <td>My name is Victor Joseph, but calling me Valia...</td>\n",
              "      <td>0.350000</td>\n",
              "      <td>0.650000</td>\n",
              "      <td>en</td>\n",
              "      <td>19</td>\n",
              "      <td>1</td>\n",
              "      <td>Valiantjoe1</td>\n",
              "      <td>230</td>\n",
              "      <td>439</td>\n",
              "      <td>False</td>\n",
              "      <td>{'text': 'retweet', 'indices': [74, 82]}</td>\n",
              "      <td>{'screen_name': 'Jewels_MsJay', 'name': 'jewel...</td>\n",
              "      <td>Nigeria</td>\n",
              "    </tr>\n",
              "    <tr>\n",
              "      <th>19006</th>\n",
              "      <td>Tue Aug 02 14:09:25 +0000 2022</td>\n",
              "      <td>&lt;a href=\"http://twitter.com/download/android\" ...</td>\n",
              "      <td>It's good to be proud of the source that pays ...</td>\n",
              "      <td>0.750000</td>\n",
              "      <td>0.800000</td>\n",
              "      <td>en</td>\n",
              "      <td>2</td>\n",
              "      <td>0</td>\n",
              "      <td>itodougo</td>\n",
              "      <td>359</td>\n",
              "      <td>639</td>\n",
              "      <td>False</td>\n",
              "      <td>{'text': 'channelstv', 'indices': [93, 104]}</td>\n",
              "      <td>{'screen_name': 'SecBlinken', 'name': 'Secreta...</td>\n",
              "      <td>Nigeria</td>\n",
              "    </tr>\n",
              "    <tr>\n",
              "      <th>19008</th>\n",
              "      <td>Tue Aug 02 13:56:40 +0000 2022</td>\n",
              "      <td>&lt;a href=\"http://twitter.com/download/iphone\" r...</td>\n",
              "      <td>I can’t believe my eyes 😳💔 \\n\\n#Machala #Pelos...</td>\n",
              "      <td>0.000000</td>\n",
              "      <td>0.000000</td>\n",
              "      <td>en</td>\n",
              "      <td>1</td>\n",
              "      <td>0</td>\n",
              "      <td>bryteazy</td>\n",
              "      <td>102</td>\n",
              "      <td>140</td>\n",
              "      <td>False</td>\n",
              "      <td>{'text': 'osupa', 'indices': [118, 124]}</td>\n",
              "      <td>{'screen_name': 'raffpantucci', 'name': 'Raffa...</td>\n",
              "      <td>Nigeria</td>\n",
              "    </tr>\n",
              "    <tr>\n",
              "      <th>19010</th>\n",
              "      <td>Tue Aug 02 13:45:27 +0000 2022</td>\n",
              "      <td>&lt;a href=\"http://twitter.com/download/android\" ...</td>\n",
              "      <td>COMING SOON\\nYEAR-2023\\n\\nDiscover New, Old an...</td>\n",
              "      <td>0.078788</td>\n",
              "      <td>0.251515</td>\n",
              "      <td>en</td>\n",
              "      <td>13</td>\n",
              "      <td>2</td>\n",
              "      <td>MoviePlusx</td>\n",
              "      <td>2258</td>\n",
              "      <td>2006</td>\n",
              "      <td>False</td>\n",
              "      <td>{'text': 'zackorji', 'indices': [136, 145]}</td>\n",
              "      <td>{'screen_name': 'BNONews', 'name': 'BNO News',...</td>\n",
              "      <td>Nigeria</td>\n",
              "    </tr>\n",
              "  </tbody>\n",
              "</table>\n",
              "<p>14583 rows × 15 columns</p>\n",
              "</div>"
            ],
            "text/plain": [
              "                           created_at  \\\n",
              "2      Tue Aug 02 15:02:35 +0000 2022   \n",
              "3      Mon Aug 01 13:51:42 +0000 2022   \n",
              "4      Sun Jul 31 20:02:20 +0000 2022   \n",
              "5      Sun Jul 31 13:22:22 +0000 2022   \n",
              "6      Sun Aug 07 05:55:54 +0000 2022   \n",
              "...                               ...   \n",
              "18999  Tue Aug 02 14:31:55 +0000 2022   \n",
              "19004  Tue Aug 02 14:17:15 +0000 2022   \n",
              "19006  Tue Aug 02 14:09:25 +0000 2022   \n",
              "19008  Tue Aug 02 13:56:40 +0000 2022   \n",
              "19010  Tue Aug 02 13:45:27 +0000 2022   \n",
              "\n",
              "                                                  source  \\\n",
              "2      <a href=\"http://twitter.com/download/android\" ...   \n",
              "3      <a href=\"http://twitter.com/download/android\" ...   \n",
              "4      <a href=\"http://twitter.com/download/android\" ...   \n",
              "5      <a href=\"http://twitter.com/download/android\" ...   \n",
              "6      <a href=\"http://twitter.com/download/android\" ...   \n",
              "...                                                  ...   \n",
              "18999  <a href=\"http://twitter.com/download/android\" ...   \n",
              "19004  <a href=\"http://twitter.com/download/android\" ...   \n",
              "19006  <a href=\"http://twitter.com/download/android\" ...   \n",
              "19008  <a href=\"http://twitter.com/download/iphone\" r...   \n",
              "19010  <a href=\"http://twitter.com/download/android\" ...   \n",
              "\n",
              "                                           original_text  polarity  \\\n",
              "2      #Pelosi \\n#Taipei \\n#taiwan\\n#XiJinping \\n#Chi...  0.000000   \n",
              "3      #HOBIPALOOZA #LaAcademiaExpulsion #WEURO2022 #...  0.433333   \n",
              "4      #Pelosi\\n#china\\nChina Time ✌️ https://t.co/tE...  0.000000   \n",
              "5      V382 Intro Logo Animation Blue Smoke 💙\\n\\nIf y...  0.169841   \n",
              "6      TWINNING FOR \"AFRO IN SPACE\"🛰️\\n\"SENORITA\" COU...  0.000000   \n",
              "...                                                  ...       ...   \n",
              "18999  More than 2 Lakh people are tracking US air fo...  0.200000   \n",
              "19004  My name is Victor Joseph, but calling me Valia...  0.350000   \n",
              "19006  It's good to be proud of the source that pays ...  0.750000   \n",
              "19008  I can’t believe my eyes 😳💔 \\n\\n#Machala #Pelos...  0.000000   \n",
              "19010  COMING SOON\\nYEAR-2023\\n\\nDiscover New, Old an...  0.078788   \n",
              "\n",
              "       subjectivity lang  favorite_count  retweet_count  original_author  \\\n",
              "2          0.000000   en               2              0    NassimaLilEmy   \n",
              "3          0.733333   en               0              0         d_dhayae   \n",
              "4          0.000000   en               2              0  Mohamme65404115   \n",
              "5          0.350397   en               1              1   Yacine_Kelala8   \n",
              "6          0.000000   en               0              0      drax_africa   \n",
              "...             ...  ...             ...            ...              ...   \n",
              "18999      0.750000   en               3              0  SayNoToRACISMW1   \n",
              "19004      0.650000   en              19              1      Valiantjoe1   \n",
              "19006      0.800000   en               2              0         itodougo   \n",
              "19008      0.000000   en               1              0         bryteazy   \n",
              "19010      0.251515   en              13              2       MoviePlusx   \n",
              "\n",
              "       followers_count  friends_count possibly_sensitive  \\\n",
              "2                   64             47              False   \n",
              "3                   60            463              False   \n",
              "4                   39            206              False   \n",
              "5                  350              1              False   \n",
              "6                  559           1280              False   \n",
              "...                ...            ...                ...   \n",
              "18999               76            204              False   \n",
              "19004              230            439              False   \n",
              "19006              359            639              False   \n",
              "19008              102            140              False   \n",
              "19010             2258           2006              False   \n",
              "\n",
              "                                            hashtags  \\\n",
              "2            {'text': 'NATO', 'indices': [189, 194]}   \n",
              "3              {'text': '5G', 'indices': [197, 200]}   \n",
              "4          {'text': 'Pelosi', 'indices': [149, 156]}   \n",
              "5      {'text': 'マツコの知らない世界', 'indices': [157, 168]}   \n",
              "6       {'text': 'Yediiklim', 'indices': [169, 179]}   \n",
              "...                                              ...   \n",
              "18999        {'text': 'DeFi', 'indices': [167, 172]}   \n",
              "19004       {'text': 'retweet', 'indices': [74, 82]}   \n",
              "19006   {'text': 'channelstv', 'indices': [93, 104]}   \n",
              "19008       {'text': 'osupa', 'indices': [118, 124]}   \n",
              "19010    {'text': 'zackorji', 'indices': [136, 145]}   \n",
              "\n",
              "                                           user_mentions  \\\n",
              "2      {'screen_name': 'PeterObi', 'name': 'Peter Obi...   \n",
              "3      {'screen_name': 'BBCWorld', 'name': 'BBC News ...   \n",
              "4      {'screen_name': 'SpeakerPelosi', 'name': 'Nanc...   \n",
              "5      {'screen_name': 'Asabari_CC', 'name': 'Asabari...   \n",
              "6      {'screen_name': 'IBEDC_NG', 'name': 'IBEDC', '...   \n",
              "...                                                  ...   \n",
              "18999  {'screen_name': 'SCMPNews', 'name': 'South Chi...   \n",
              "19004  {'screen_name': 'Jewels_MsJay', 'name': 'jewel...   \n",
              "19006  {'screen_name': 'SecBlinken', 'name': 'Secreta...   \n",
              "19008  {'screen_name': 'raffpantucci', 'name': 'Raffa...   \n",
              "19010  {'screen_name': 'BNONews', 'name': 'BNO News',...   \n",
              "\n",
              "                                place  \n",
              "2                             Algérie  \n",
              "3      Chlef                           \n",
              "4                             Algérie  \n",
              "5                          États-Unis  \n",
              "6                              Zambia  \n",
              "...                               ...  \n",
              "18999                         Nigeria  \n",
              "19004                         Nigeria  \n",
              "19006                         Nigeria  \n",
              "19008                         Nigeria  \n",
              "19010                         Nigeria  \n",
              "\n",
              "[14583 rows x 15 columns]"
            ]
          },
          "execution_count": 3,
          "metadata": {},
          "output_type": "execute_result"
        }
      ],
      "source": [
        "# tweets_df=DataLoader_obj.read_csv()\n",
        "tweets_df = pd.read_csv(\"processed_tweet_data.csv\")\n",
        "tweets_df.dropna()\n"
      ]
    },
    {
      "cell_type": "code",
      "execution_count": 4,
      "metadata": {
        "colab": {
          "base_uri": "https://localhost:8080/"
        },
        "id": "31p0WZaVQbDG",
        "outputId": "8a410c90-fe98-4c1d-dca4-c04ee9c50c61"
      },
      "outputs": [
        {
          "data": {
            "text/plain": [
              "19011"
            ]
          },
          "execution_count": 4,
          "metadata": {},
          "output_type": "execute_result"
        }
      ],
      "source": [
        "len(tweets_df)"
      ]
    },
    {
      "cell_type": "code",
      "execution_count": 5,
      "metadata": {
        "colab": {
          "base_uri": "https://localhost:8080/",
          "height": 612
        },
        "id": "zmNkqAN62FJM",
        "outputId": "b9233fa0-dbfc-4d96-934c-1b1eedf4d53e"
      },
      "outputs": [
        {
          "data": {
            "text/html": [
              "<div>\n",
              "<style scoped>\n",
              "    .dataframe tbody tr th:only-of-type {\n",
              "        vertical-align: middle;\n",
              "    }\n",
              "\n",
              "    .dataframe tbody tr th {\n",
              "        vertical-align: top;\n",
              "    }\n",
              "\n",
              "    .dataframe thead th {\n",
              "        text-align: right;\n",
              "    }\n",
              "</style>\n",
              "<table border=\"1\" class=\"dataframe\">\n",
              "  <thead>\n",
              "    <tr style=\"text-align: right;\">\n",
              "      <th></th>\n",
              "      <th>created_at</th>\n",
              "      <th>source</th>\n",
              "      <th>original_text</th>\n",
              "      <th>polarity</th>\n",
              "      <th>subjectivity</th>\n",
              "      <th>lang</th>\n",
              "      <th>favorite_count</th>\n",
              "      <th>retweet_count</th>\n",
              "      <th>original_author</th>\n",
              "      <th>followers_count</th>\n",
              "      <th>friends_count</th>\n",
              "      <th>possibly_sensitive</th>\n",
              "      <th>hashtags</th>\n",
              "      <th>user_mentions</th>\n",
              "      <th>place</th>\n",
              "    </tr>\n",
              "  </thead>\n",
              "  <tbody>\n",
              "    <tr>\n",
              "      <th>0</th>\n",
              "      <td>Wed Aug 03 20:19:13 +0000 2022</td>\n",
              "      <td>&lt;a href=\"http://twitter.com/download/android\" ...</td>\n",
              "      <td>#Pelosi airplane landed safely in #Taiwan 🇹🇼  ...</td>\n",
              "      <td>0.300000</td>\n",
              "      <td>0.203571</td>\n",
              "      <td>en</td>\n",
              "      <td>0</td>\n",
              "      <td>0</td>\n",
              "      <td>DzCritical</td>\n",
              "      <td>318</td>\n",
              "      <td>373</td>\n",
              "      <td>NaN</td>\n",
              "      <td>{'text': 'Pelosi', 'indices': [0, 7]}</td>\n",
              "      <td>{'screen_name': 'flightradar24', 'name': 'Flig...</td>\n",
              "      <td>Algérie</td>\n",
              "    </tr>\n",
              "    <tr>\n",
              "      <th>1</th>\n",
              "      <td>Tue Aug 02 15:24:42 +0000 2022</td>\n",
              "      <td>&lt;a href=\"https://mobile.twitter.com\" rel=\"nofo...</td>\n",
              "      <td>Watch the video of the beginning of the Chines...</td>\n",
              "      <td>0.000000</td>\n",
              "      <td>0.000000</td>\n",
              "      <td>en</td>\n",
              "      <td>3</td>\n",
              "      <td>0</td>\n",
              "      <td>toopsat</td>\n",
              "      <td>764</td>\n",
              "      <td>144</td>\n",
              "      <td>False</td>\n",
              "      <td>{'text': 'Taiwan', 'indices': [34, 41]}</td>\n",
              "      <td>{'screen_name': 'renoomokri', 'name': 'Reno Om...</td>\n",
              "      <td>NaN</td>\n",
              "    </tr>\n",
              "    <tr>\n",
              "      <th>2</th>\n",
              "      <td>Tue Aug 02 15:02:35 +0000 2022</td>\n",
              "      <td>&lt;a href=\"http://twitter.com/download/android\" ...</td>\n",
              "      <td>#Pelosi \\n#Taipei \\n#taiwan\\n#XiJinping \\n#Chi...</td>\n",
              "      <td>0.000000</td>\n",
              "      <td>0.000000</td>\n",
              "      <td>en</td>\n",
              "      <td>2</td>\n",
              "      <td>0</td>\n",
              "      <td>NassimaLilEmy</td>\n",
              "      <td>64</td>\n",
              "      <td>47</td>\n",
              "      <td>False</td>\n",
              "      <td>{'text': 'NATO', 'indices': [189, 194]}</td>\n",
              "      <td>{'screen_name': 'PeterObi', 'name': 'Peter Obi...</td>\n",
              "      <td>Algérie</td>\n",
              "    </tr>\n",
              "    <tr>\n",
              "      <th>3</th>\n",
              "      <td>Mon Aug 01 13:51:42 +0000 2022</td>\n",
              "      <td>&lt;a href=\"http://twitter.com/download/android\" ...</td>\n",
              "      <td>#HOBIPALOOZA #LaAcademiaExpulsion #WEURO2022 #...</td>\n",
              "      <td>0.433333</td>\n",
              "      <td>0.733333</td>\n",
              "      <td>en</td>\n",
              "      <td>0</td>\n",
              "      <td>0</td>\n",
              "      <td>d_dhayae</td>\n",
              "      <td>60</td>\n",
              "      <td>463</td>\n",
              "      <td>False</td>\n",
              "      <td>{'text': '5G', 'indices': [197, 200]}</td>\n",
              "      <td>{'screen_name': 'BBCWorld', 'name': 'BBC News ...</td>\n",
              "      <td>Chlef</td>\n",
              "    </tr>\n",
              "    <tr>\n",
              "      <th>4</th>\n",
              "      <td>Sun Jul 31 20:02:20 +0000 2022</td>\n",
              "      <td>&lt;a href=\"http://twitter.com/download/android\" ...</td>\n",
              "      <td>#Pelosi\\n#china\\nChina Time ✌️ https://t.co/tE...</td>\n",
              "      <td>0.000000</td>\n",
              "      <td>0.000000</td>\n",
              "      <td>en</td>\n",
              "      <td>2</td>\n",
              "      <td>0</td>\n",
              "      <td>Mohamme65404115</td>\n",
              "      <td>39</td>\n",
              "      <td>206</td>\n",
              "      <td>False</td>\n",
              "      <td>{'text': 'Pelosi', 'indices': [149, 156]}</td>\n",
              "      <td>{'screen_name': 'SpeakerPelosi', 'name': 'Nanc...</td>\n",
              "      <td>Algérie</td>\n",
              "    </tr>\n",
              "  </tbody>\n",
              "</table>\n",
              "</div>"
            ],
            "text/plain": [
              "                       created_at  \\\n",
              "0  Wed Aug 03 20:19:13 +0000 2022   \n",
              "1  Tue Aug 02 15:24:42 +0000 2022   \n",
              "2  Tue Aug 02 15:02:35 +0000 2022   \n",
              "3  Mon Aug 01 13:51:42 +0000 2022   \n",
              "4  Sun Jul 31 20:02:20 +0000 2022   \n",
              "\n",
              "                                              source  \\\n",
              "0  <a href=\"http://twitter.com/download/android\" ...   \n",
              "1  <a href=\"https://mobile.twitter.com\" rel=\"nofo...   \n",
              "2  <a href=\"http://twitter.com/download/android\" ...   \n",
              "3  <a href=\"http://twitter.com/download/android\" ...   \n",
              "4  <a href=\"http://twitter.com/download/android\" ...   \n",
              "\n",
              "                                       original_text  polarity  subjectivity  \\\n",
              "0  #Pelosi airplane landed safely in #Taiwan 🇹🇼  ...  0.300000      0.203571   \n",
              "1  Watch the video of the beginning of the Chines...  0.000000      0.000000   \n",
              "2  #Pelosi \\n#Taipei \\n#taiwan\\n#XiJinping \\n#Chi...  0.000000      0.000000   \n",
              "3  #HOBIPALOOZA #LaAcademiaExpulsion #WEURO2022 #...  0.433333      0.733333   \n",
              "4  #Pelosi\\n#china\\nChina Time ✌️ https://t.co/tE...  0.000000      0.000000   \n",
              "\n",
              "  lang  favorite_count  retweet_count  original_author  followers_count  \\\n",
              "0   en               0              0       DzCritical              318   \n",
              "1   en               3              0          toopsat              764   \n",
              "2   en               2              0    NassimaLilEmy               64   \n",
              "3   en               0              0         d_dhayae               60   \n",
              "4   en               2              0  Mohamme65404115               39   \n",
              "\n",
              "   friends_count possibly_sensitive  \\\n",
              "0            373                NaN   \n",
              "1            144              False   \n",
              "2             47              False   \n",
              "3            463              False   \n",
              "4            206              False   \n",
              "\n",
              "                                    hashtags  \\\n",
              "0      {'text': 'Pelosi', 'indices': [0, 7]}   \n",
              "1    {'text': 'Taiwan', 'indices': [34, 41]}   \n",
              "2    {'text': 'NATO', 'indices': [189, 194]}   \n",
              "3      {'text': '5G', 'indices': [197, 200]}   \n",
              "4  {'text': 'Pelosi', 'indices': [149, 156]}   \n",
              "\n",
              "                                       user_mentions  \\\n",
              "0  {'screen_name': 'flightradar24', 'name': 'Flig...   \n",
              "1  {'screen_name': 'renoomokri', 'name': 'Reno Om...   \n",
              "2  {'screen_name': 'PeterObi', 'name': 'Peter Obi...   \n",
              "3  {'screen_name': 'BBCWorld', 'name': 'BBC News ...   \n",
              "4  {'screen_name': 'SpeakerPelosi', 'name': 'Nanc...   \n",
              "\n",
              "                            place  \n",
              "0                         Algérie  \n",
              "1                             NaN  \n",
              "2                         Algérie  \n",
              "3  Chlef                           \n",
              "4                         Algérie  "
            ]
          },
          "execution_count": 5,
          "metadata": {},
          "output_type": "execute_result"
        }
      ],
      "source": [
        "tweets_df.head()"
      ]
    },
    {
      "cell_type": "code",
      "execution_count": 6,
      "metadata": {},
      "outputs": [
        {
          "data": {
            "text/plain": [
              "Index(['created_at', 'source', 'original_text', 'polarity', 'subjectivity',\n",
              "       'lang', 'favorite_count', 'retweet_count', 'original_author',\n",
              "       'followers_count', 'friends_count', 'possibly_sensitive', 'hashtags',\n",
              "       'user_mentions', 'place'],\n",
              "      dtype='object')"
            ]
          },
          "execution_count": 6,
          "metadata": {},
          "output_type": "execute_result"
        }
      ],
      "source": [
        "tweets_df.columns"
      ]
    },
    {
      "cell_type": "code",
      "execution_count": 7,
      "metadata": {},
      "outputs": [],
      "source": [
        "tweets_df.columns = tweets_df.columns.str.replace('original_text', 'clean_text')"
      ]
    },
    {
      "cell_type": "code",
      "execution_count": 8,
      "metadata": {},
      "outputs": [
        {
          "data": {
            "text/plain": [
              "Index(['created_at', 'source', 'clean_text', 'polarity', 'subjectivity',\n",
              "       'lang', 'favorite_count', 'retweet_count', 'original_author',\n",
              "       'followers_count', 'friends_count', 'possibly_sensitive', 'hashtags',\n",
              "       'user_mentions', 'place'],\n",
              "      dtype='object')"
            ]
          },
          "execution_count": 8,
          "metadata": {},
          "output_type": "execute_result"
        }
      ],
      "source": [
        "tweets_df.columns\t\n"
      ]
    },
    {
      "cell_type": "code",
      "execution_count": 9,
      "metadata": {
        "id": "zoI1crVvCCxY"
      },
      "outputs": [],
      "source": [
        "class PrepareData:\n",
        "  def __init__(self,df):\n",
        "    self.df=df\n",
        "    \n",
        "  def preprocess_data(self):\n",
        "    tweets_df = self.df.loc[self.df['lang'] ==\"en\"]\n",
        "\n",
        "    \n",
        "    #text Preprocessing\n",
        "    tweets_df['clean_text'] = tweets_df['clean_text'].astype(str)\n",
        "    tweets_df['clean_text'] = tweets_df['clean_text'].apply(lambda x: x.lower())\n",
        "    tweets_df['clean_text'] = tweets_df['clean_text'].apply(lambda x: x.translate(str.maketrans(' ', ' ', string.punctuation)))\n",
        "    \n",
        "    #Converting tweets to list of words For feature engineering\n",
        "    sentence_list = [tweet for tweet in tweets_df['clean_text']]\n",
        "    word_list = [sent.split() for sent in sentence_list]\n",
        "    # print(word_list)\n",
        "\n",
        "    #Create dictionary which contains Id and word \n",
        "    word_to_id = corpora.Dictionary(word_list) #generate unique tokens\n",
        "    #  we can see the word to unique integer mapping\n",
        "    # print(word_to_id.token2id)\n",
        "    # using bag of words(bow), we create a corpus that contains the word id and its frequency in each document.\n",
        "    corpus_1= [word_to_id.doc2bow(tweet) for tweet in word_list]\n",
        "    # TFIDF\n",
        "\n",
        "    return word_list, word_to_id, corpus_1\n"
      ]
    },
    {
      "cell_type": "code",
      "execution_count": 10,
      "metadata": {
        "id": "YNvtCNYKEKco"
      },
      "outputs": [],
      "source": [
        "PrepareData_obj=PrepareData(tweets_df)\n",
        "word_list ,id2word,corpus=PrepareData_obj.preprocess_data()"
      ]
    },
    {
      "cell_type": "code",
      "execution_count": null,
      "metadata": {
        "colab": {
          "base_uri": "https://localhost:8080/"
        },
        "id": "-ceERRPlFp9K",
        "outputId": "a6dff24e-5eda-4da5-c3b1-9216025c5e25"
      },
      "outputs": [],
      "source": [
        "print(corpus)"
      ]
    },
    {
      "cell_type": "code",
      "execution_count": 16,
      "metadata": {
        "id": "gYp_4Ai5Aba5"
      },
      "outputs": [],
      "source": [
        "id_words = [[(id2word[id], count) for id, count in line] for line in corpus]"
      ]
    },
    {
      "cell_type": "code",
      "execution_count": null,
      "metadata": {
        "colab": {
          "base_uri": "https://localhost:8080/"
        },
        "id": "k1F_0RlXAwD-",
        "outputId": "1585fe7a-73a2-4de2-b7a4-f7830086b2af"
      },
      "outputs": [],
      "source": [
        "print(id_words)"
      ]
    },
    {
      "cell_type": "code",
      "execution_count": null,
      "metadata": {
        "colab": {
          "base_uri": "https://localhost:8080/"
        },
        "id": "uysD3obhFqAx",
        "outputId": "0b490fc7-ac97-46dd-9372-f6fb962a1caa"
      },
      "outputs": [],
      "source": []
    },
    {
      "cell_type": "markdown",
      "metadata": {
        "id": "UiOucOjxYYZl"
      },
      "source": [
        "### Topic Modeling using Latent Dirichlet Allocation \n",
        "based on the distributional hypothesis, (i.e. similar topics make use of similar words) and the statistical mixture hypothesis (i.e. documents talk about several topics) for which a statistical distribution can be determined. \n",
        "\n",
        "*  The purpose of LDA is mapping each teweets in our corpus to a set of topics \n",
        "which covers a good deal of the words in the tweet\n",
        "\n"
      ]
    },
    {
      "cell_type": "code",
      "execution_count": 20,
      "metadata": {
        "id": "aHqC02L_NUMG"
      },
      "outputs": [],
      "source": [
        "# Build LDA model\n",
        "lda_model = gensim.models.ldamodel.LdaModel(corpus,\n",
        "                                           id2word=id2word,\n",
        "                                           num_topics=5, \n",
        "                                           random_state=100,\n",
        "                                           update_every=1,\n",
        "                                           chunksize=100,\n",
        "                                           passes=10,\n",
        "                                           alpha='auto',\n",
        "                                           per_word_topics=True)"
      ]
    },
    {
      "cell_type": "code",
      "execution_count": 21,
      "metadata": {
        "colab": {
          "base_uri": "https://localhost:8080/"
        },
        "id": "DbfnVyNfGWSS",
        "outputId": "e1d37758-6d1a-4b34-b8a9-ebe95fb2c1bb"
      },
      "outputs": [
        {
          "name": "stdout",
          "output_type": "stream",
          "text": [
            "[(0,\n",
            "  '0.037*\"taiwan\" + 0.017*\"my\" + 0.014*\"me\" + 0.012*\"i\" + 0.012*\"this\" + '\n",
            "  '0.009*\"bbnaija7\" + 0.008*\"pelosi\" + 0.008*\"new\" + 0.008*\"helicopter\" + '\n",
            "  '0.007*\"by\"'),\n",
            " (1,\n",
            "  '0.023*\"taiwan\" + 0.017*\"in\" + 0.016*\"the\" + 0.015*\"your\" + 0.014*\"a\" + '\n",
            "  '0.013*\"and\" + 0.013*\"nigeria\" + 0.012*\"asuu\" + 0.010*\"you\" + '\n",
            "  '0.009*\"helicopter\"'),\n",
            " (2,\n",
            "  '0.028*\"taiwan\" + 0.024*\"bbnaija\" + 0.012*\"for\" + 0.011*\"pelosi\" + '\n",
            "  '0.010*\"retweet\" + 0.010*\"please\" + 0.009*\"follow\" + 0.008*\"wizkid\" + '\n",
            "  '0.008*\"china\" + 0.008*\"bbnajia\"'),\n",
            " (3,\n",
            "  '0.050*\"the\" + 0.050*\"taiwan\" + 0.040*\"china\" + 0.037*\"of\" + 0.027*\"in\" + '\n",
            "  '0.023*\"pelosi\" + 0.022*\"to\" + 0.017*\"and\" + 0.016*\"us\" + 0.014*\"a\"'),\n",
            " (4,\n",
            "  '0.050*\"to\" + 0.040*\"taiwan\" + 0.040*\"you\" + 0.038*\"is\" + 0.033*\"pelosi\" + '\n",
            "  '0.032*\"for\" + 0.032*\"the\" + 0.030*\"are\" + 0.029*\"we\" + 0.023*\"nancypelosi\"')]\n"
          ]
        }
      ],
      "source": [
        "pprint(lda_model.print_topics())"
      ]
    },
    {
      "cell_type": "code",
      "execution_count": 22,
      "metadata": {
        "colab": {
          "base_uri": "https://localhost:8080/"
        },
        "id": "aa5pVKgnmpzn",
        "outputId": "fd169b7c-a8f9-4f1a-e589-9bb8e912a085"
      },
      "outputs": [
        {
          "name": "stdout",
          "output_type": "stream",
          "text": [
            "[(0,\n",
            "  [('taiwan', 0.037344784),\n",
            "   ('my', 0.01681527),\n",
            "   ('me', 0.014466202),\n",
            "   ('i', 0.0123484),\n",
            "   ('this', 0.011742244),\n",
            "   ('bbnaija7', 0.008989993),\n",
            "   ('pelosi', 0.008352707),\n",
            "   ('new', 0.0080405),\n",
            "   ('helicopter', 0.007935192),\n",
            "   ('by', 0.0070516304)]),\n",
            " (1,\n",
            "  [('taiwan', 0.022569535),\n",
            "   ('in', 0.017370272),\n",
            "   ('the', 0.016350418),\n",
            "   ('your', 0.014725148),\n",
            "   ('a', 0.014209459),\n",
            "   ('and', 0.013440356),\n",
            "   ('nigeria', 0.012659095),\n",
            "   ('asuu', 0.012143318),\n",
            "   ('you', 0.009778979),\n",
            "   ('helicopter', 0.009116095)]),\n",
            " (2,\n",
            "  [('taiwan', 0.02849979),\n",
            "   ('bbnaija', 0.02428534),\n",
            "   ('for', 0.012208511),\n",
            "   ('pelosi', 0.011169731),\n",
            "   ('retweet', 0.009905658),\n",
            "   ('please', 0.009590102),\n",
            "   ('follow', 0.008770593),\n",
            "   ('wizkid', 0.008229397),\n",
            "   ('china', 0.0077687865),\n",
            "   ('bbnajia', 0.007684632)]),\n",
            " (3,\n",
            "  [('the', 0.04983989),\n",
            "   ('taiwan', 0.049703293),\n",
            "   ('china', 0.039683037),\n",
            "   ('of', 0.03659664),\n",
            "   ('in', 0.026987765),\n",
            "   ('pelosi', 0.023194842),\n",
            "   ('to', 0.022214413),\n",
            "   ('and', 0.016805073),\n",
            "   ('us', 0.015838005),\n",
            "   ('a', 0.014119393)]),\n",
            " (4,\n",
            "  [('to', 0.049840897),\n",
            "   ('taiwan', 0.040177085),\n",
            "   ('you', 0.039785687),\n",
            "   ('is', 0.037678663),\n",
            "   ('pelosi', 0.032914218),\n",
            "   ('for', 0.032432746),\n",
            "   ('the', 0.031837847),\n",
            "   ('are', 0.02987573),\n",
            "   ('we', 0.028850744),\n",
            "   ('nancypelosi', 0.022786753)])]\n"
          ]
        }
      ],
      "source": [
        "\n",
        "\n",
        "pprint(lda_model.show_topics(formatted=False))"
      ]
    },
    {
      "cell_type": "markdown",
      "metadata": {
        "id": "0dDmumROo4zX"
      },
      "source": [
        "Each line is a topic with individual topic terms and weights. Topic0  can be termed as climate change, and Topic4 can be termed as government and carbon emission."
      ]
    },
    {
      "cell_type": "markdown",
      "metadata": {
        "id": "1pLR7-4AtZzT"
      },
      "source": [
        "# **Model Analysis**\n",
        "\n",
        "Perplexity is also a measure of model quality and in natural language processing is often used as “perplexity per number of words”. It describes how well a model predicts a sample, i.e. how much it is “perplexed” by a sample from the observed data. The lower the score, the better the model for the given data.\n",
        "\n",
        "A coherence matrix is used to test the model for accuracy. Topic coherence is a measure that compares different topic models based on their human-interpretability. The coherence score ‘C_V’ provides a numerical value to the interpretability of the topics"
      ]
    },
    {
      "cell_type": "code",
      "execution_count": 23,
      "metadata": {
        "colab": {
          "base_uri": "https://localhost:8080/"
        },
        "id": "JWDGb45QqRoZ",
        "outputId": "6762c511-e8c6-49d1-c111-8966959ce048"
      },
      "outputs": [
        {
          "name": "stdout",
          "output_type": "stream",
          "text": [
            "\n",
            "Perplexity:  -7.4571750616626815\n",
            "\n",
            " Ldamodel Coherence Score/Accuracy on Tweets:  0.4009980596235553\n"
          ]
        }
      ],
      "source": [
        "# Compute Perplexity\n",
        "\n",
        "#It's a measure of how good the model is. The lower the better. Perplexity is a negative value\n",
        "print('\\nPerplexity: ', lda_model.log_perplexity(corpus))  \n",
        "doc_lda = lda_model[corpus]\n",
        "\n",
        "\n",
        "# Compute Coherence Score\n",
        "coherence_model_lda = CoherenceModel(model=lda_model, texts=word_list, dictionary=id2word, coherence='c_v')\n",
        "coherence_lda = coherence_model_lda.get_coherence()\n",
        "print('\\n Ldamodel Coherence Score/Accuracy on Tweets: ', coherence_lda)"
      ]
    },
    {
      "cell_type": "markdown",
      "metadata": {
        "id": "_KR1oX1q5dUD"
      },
      "source": [
        "Basic Ldamodel Coherence Score 0.58 This means that the model has performed reasonably well in topic modeling."
      ]
    },
    {
      "cell_type": "code",
      "execution_count": null,
      "metadata": {
        "colab": {
          "base_uri": "https://localhost:8080/",
          "height": 904
        },
        "id": "yAyoNCIWlGql",
        "outputId": "fa34a99c-b168-4436-c3d7-a537b7ac9b13"
      },
      "outputs": [],
      "source": [
        "# !pip install pyLDAvis "
      ]
    },
    {
      "cell_type": "markdown",
      "metadata": {
        "id": "eylzfskkr8f7"
      },
      "source": [
        "**Anlayizing results**\n",
        "Exploring the Intertopic Distance Plot can help you learn about how topics relate to each other, including potential higher-level structure between groups of topics"
      ]
    },
    {
      "cell_type": "code",
      "execution_count": 25,
      "metadata": {
        "colab": {
          "base_uri": "https://localhost:8080/",
          "height": 915
        },
        "id": "6gJXbv8Jkjg-",
        "outputId": "26a2d031-8393-439a-e4f7-8341fca8075b"
      },
      "outputs": [
        {
          "name": "stderr",
          "output_type": "stream",
          "text": [
            "c:\\Users\\Kamuzinzi N. Egide\\.virtualenvs\\storeFront-V2DFqIRB\\lib\\site-packages\\past\\builtins\\misc.py:45: DeprecationWarning: the imp module is deprecated in favour of importlib; see the module's documentation for alternative uses\n",
            "  from imp import reload\n"
          ]
        },
        {
          "data": {
            "text/html": [
              "\n",
              "<link rel=\"stylesheet\" type=\"text/css\" href=\"https://cdn.jsdelivr.net/gh/bmabey/pyLDAvis@3.3.1/pyLDAvis/js/ldavis.v1.0.0.css\">\n",
              "\n",
              "\n",
              "<div id=\"ldavis_el2220531876464146530844\"></div>\n",
              "<script type=\"text/javascript\">\n",
              "\n",
              "var ldavis_el2220531876464146530844_data = {\"mdsDat\": {\"x\": [0.2171289545320675, 0.17293807068622696, -0.008479166230163754, -0.1556991544797933, -0.22588870450833726], \"y\": [0.05342897139678424, 0.04967800411255113, -0.12784834964110078, -0.2235011528065516, 0.2482425269383172], \"topics\": [1, 2, 3, 4, 5], \"cluster\": [1, 1, 1, 1, 1], \"Freq\": [28.958642245671523, 22.481412706987133, 17.87230640060315, 17.557415874391552, 13.13022277234664]}, \"tinfo\": {\"Term\": [\"you\", \"are\", \"we\", \"speakerpelosi\", \"where\", \"china\", \"waiting\", \"the\", \"nancypelosi\", \"bbnaija\", \"is\", \"of\", \"httpstcog2ufpv5fwp\", \"for\", \"in\", \"my\", \"to\", \"\\ud83c\\udde8\\ud83c\\uddf3\", \"pelosi\", \"chinese\", \"me\", \"us\", \"nigeria\", \"asuu\", \"welcome\", \"your\", \"nancy\", \"\\ud83c\\udde8\\ud83c\\uddf3chinese\", \"\\u2026\\u2026come\", \"bbnaija7\", \"are\", \"speakerpelosi\", \"where\", \"waiting\", \"httpstcog2ufpv5fwp\", \"\\ud83c\\udde8\\ud83c\\uddf3\", \"welcome\", \"\\ud83c\\udde8\\ud83c\\uddf3chinese\", \"\\u2026\\u2026come\", \"do\", \"wwiii\", \"meeting\", \"82\", \"httpstcoivtowivccd\", \"she\", \"their\", \"russia\", \"than\", \"been\", \"im\", \"then\", \"would\", \"take\", \"never\", \"source\", \"really\", \"ever\", \"away\", \"first\", \"ready\", \"we\", \"nancypelosi\", \"you\", \"it\", \"is\", \"for\", \"to\", \"chinese\", \"pelosi\", \"be\", \"on\", \"the\", \"taiwan\", \"that\", \"have\", \"i\", \"and\", \"a\", \"nancy\", \"chinataiwancrisis\", \"visit\", \"military\", \"usa\", \"air\", \"force\", \"xijinping\", \"breaking\", \"taipei\", \"plane\", \"taiwanisnotchina\", \"sea\", \"speaker\", \"against\", \"any\", \"said\", \"drills\", \"army\", \"pelositaiwan\", \"ministry\", \"pla\", \"carrying\", \"around\", \"chinas\", \"pelosis\", \"exercises\", \"defense\", \"island\", \"president\", \"china\", \"over\", \"us\", \"of\", \"fire\", \"in\", \"the\", \"has\", \"its\", \"taiwan\", \"war\", \"as\", \"pelosi\", \"and\", \"a\", \"to\", \"from\", \"on\", \"will\", \"chinese\", \"by\", \"with\", \"is\", \"nigeria\", \"asuu\", \"up\", \"obi\", \"god\", \"iii\", \"obituary\", \"peter\", \"look\", \"must\", \"another\", \"got\", \"atiku\", \"lekki\", \"\\u2022\", \"start\", \"support\", \"lagos\", \"onitsha\", \"mr\", \"omatseye\", \"racism\", \"sam\", \"omo\", \"rescue\", \"buhari\", \"jaruma\", \"rufai\", \"agege\", \"kanu\", \"believe\", \"wike\", \"tinubu\", \"reno\", \"peterobiforpresident2023\", \"your\", \"khalid\", \"dont\", \"world\", \"helicopter\", \"in\", \"a\", \"but\", \"and\", \"taiwan\", \"the\", \"you\", \"sabinus\", \"is\", \"of\", \"war\", \"with\", \"china\", \"to\", \"my\", \"bbnaija7\", \"pokemonpresents\", \"machala\", \"hobipalooza\", \"\\u0e44\\u0e15\\u0e49\\u0e2b\\u0e27\\u0e31\\u0e19\", \"bbnaijaguinnesssmooth\", \"august\", \"tuesdayvibe\", \"summerslam\", \"timesupolivia\", \"his\", \"weuro2022\", \"pokemonscarletviolet\", \"breastfeeding\", \"happy\", \"\\u0627\\u0644\\u062d\\u0631\\u0628\\u0627\\u0644\\u0639\\u0627\\u0644\\u0645\\u064a\\u0629\\u0627\\u0644\\u062b\\u0627\\u0644\\u062b\\u0629\", \"\\u062a\\u0627\\u064a\\u0648\\u0627\\u0646\", \"capitec\", \"old\", \"communityshield\", \"ukrainerussiawar\", \"check\", \"kosovo\", \"\\u0e21\\u0e32\\u0e01\\u0e2d\\u0e14\\u0e01\\u0e31\\u0e19\\u0e19\\u0e30\\u0e0b\\u0e35\\u0e1e\\u0e24\\u0e01\\u0e29\\u0e4c\", \"\\uc601\\uc6d0\\ud55c\\ucc28\\uc77c\\ub4dc\\uc6b0\\ub9ac\\ub9c8\\ud06c\\uc0dd\\uc77c\\ucd95\\ud558\\ud574\", \"guys\", \"serbia\", \"twitter\", \"year\", \"me\", \"new\", \"onstorm\", \"job\", \"i\", \"bullettrainmovie\", \"this\", \"taiwan\", \"sabinus\", \"by\", \"helicopter\", \"out\", \"trending\", \"pelosi\", \"and\", \"on\", \"the\", \"to\", \"china\", \"a\", \"bbnaija\", \"please\", \"retweet\", \"follow\", \"wizkid\", \"bbnajia\", \"kickbooster\", \"mobilegames\", \"should\", \"these\", \"late\", \"niger\", \"news\", \"watch\", \"only\", \"apocolleagues\", \"discordnsfw\", \"discordteen\", \"getwellsoonapo\", \"jinan\", \"onlyfansdiscord\", \"onlyfansleaks\", \"obidients\", \"1\", \"iphone\", \"4\", \"chelsea\", \"hundeyin\", \"david\", \"wizkidfc\", \"before\", \"dontpayuk\", \"how\", \"order\", \"taiwan\", \"too\", \"for\", \"pelosi\", \"help\", \"one\", \"china\", \"and\", \"davido\", \"to\", \"this\", \"with\", \"us\"], \"Freq\": [6230.0, 4062.0, 4117.0, 3059.0, 2895.0, 5542.0, 2808.0, 11421.0, 3465.0, 1497.0, 6589.0, 5417.0, 2079.0, 5874.0, 4921.0, 1386.0, 10410.0, 1681.0, 8300.0, 2735.0, 1426.0, 2090.0, 1062.0, 1019.0, 1348.0, 1841.0, 928.0, 1103.0, 1099.0, 741.0, 4061.643303185439, 3059.0986616047016, 2895.136700774283, 2807.4756679062652, 2078.957820234887, 1680.3813694429778, 1347.8351327446987, 1102.329517933435, 1098.506773374571, 739.5938929778362, 744.49412681187, 636.8637737609357, 634.9433485457605, 619.0700069823208, 429.67220884667944, 389.05526302615704, 321.1012684334749, 302.661862737538, 270.3974213241147, 271.0451810340758, 248.52487966929712, 251.4951763749012, 242.53378290501809, 229.95514018691745, 261.5571820904452, 213.44928013225908, 207.30219432132793, 200.6037815582736, 191.83737439670563, 180.83169509079718, 3922.2951984176575, 3097.888022281849, 5408.914621624341, 1294.4786488480943, 5122.462008681386, 4409.272996976752, 6775.9332417451005, 1962.0668203766002, 4474.7296474491695, 988.8247591938065, 2172.2345853968664, 4328.395715035298, 5462.125625476624, 784.8990250220997, 746.5644002711302, 1033.096083960542, 1632.3410479666509, 1432.4342474997395, 927.355812862918, 788.7838499758815, 716.0580803987841, 664.4285509317933, 602.8716305780832, 558.5281738906251, 458.54831460585774, 483.7472648912752, 383.9519533521209, 363.9286458211035, 347.7090860322239, 338.65410713814856, 347.7397293130201, 326.48970760610297, 316.5321894842142, 298.1260952270377, 286.252401398135, 263.4508270799972, 234.19418545681395, 232.63002658813664, 232.6492922915402, 228.22083445766108, 223.14299463635558, 225.54673516636683, 217.5969294162601, 211.1099655767531, 208.42031119584857, 197.66474079878913, 192.4010999782052, 192.91820226994113, 4188.259334685523, 469.5300112818961, 1671.587576276474, 3862.5124624725145, 291.43814390266124, 2848.364655776587, 5260.242389821298, 542.5613781645121, 677.4199750149188, 5245.825352833513, 661.213734117933, 615.7233783115329, 2448.0488955960727, 1773.6547172539683, 1490.2004872599905, 2344.5716230827243, 553.2781222715491, 1028.3458437491054, 559.7138501523872, 773.1619693173351, 521.2594570116916, 586.523550854509, 653.6618732669554, 1062.1560774922716, 1018.8799727302577, 602.4093139710352, 591.471667875169, 530.204643039786, 522.543735080662, 509.35320941855093, 458.86438145841964, 352.19691626336913, 374.4735860202501, 337.4580023109008, 340.1074536951403, 338.67545825658664, 309.91573791114075, 303.81408001236446, 303.27378509757256, 300.7169517916144, 304.82189989012426, 231.98378850574812, 231.174156859198, 225.85280773510928, 227.09976237267554, 220.7225163637293, 218.48737508372767, 220.09591335574032, 214.4406624822347, 215.0358913848198, 204.32845229896583, 202.4498544795661, 203.2145543437819, 216.7887388203559, 606.8668202764095, 675.1848920357364, 365.89278772783905, 588.9841662629086, 1235.5073478453605, 355.8556917632987, 392.2540299967191, 572.6044217618195, 764.8820918964791, 1457.4454252056948, 1192.2386665952106, 454.679904105178, 1127.707406379909, 1893.6873966099492, 1371.8749946612304, 820.5011526213177, 429.68771370846844, 616.8245628062358, 577.0007817721039, 422.3739135356563, 463.0205713243482, 483.2802338366821, 371.31468636656905, 1386.019993778152, 741.0115859081565, 512.2285151153101, 446.88722315902334, 428.2133750945713, 398.61557328907537, 386.84048262819266, 380.4517932529317, 369.37730246568225, 357.6062803736159, 351.35089420117794, 338.5676428937795, 325.2604290117376, 321.5595858891942, 320.00713901531543, 300.27237324927125, 290.707513406517, 289.9155050740519, 272.9141074721991, 273.6230555884508, 262.88944177910844, 253.56723752179823, 244.21269581894285, 234.62446089685685, 230.9128130373153, 236.96321626858534, 222.39706820831324, 215.96544775549464, 203.1114187037813, 192.8171719438818, 1192.3951149674099, 662.7484426256422, 322.8949016895429, 299.712215765252, 1017.8326325430827, 283.2356827320727, 967.8693792309189, 3078.1913467884124, 530.1991532808504, 581.2396177612342, 654.0683429695488, 384.07980515538964, 356.75191930490377, 688.4825242164037, 529.403978373599, 466.00780775605733, 460.348466915217, 448.52942803457256, 392.14574283383513, 347.5799450320016, 1496.9984995871507, 591.1536935580905, 610.6051776295194, 540.637473251746, 507.27702272026903, 473.6965822619517, 419.36372043258865, 419.36372043258865, 378.2014637782898, 360.5037276922694, 263.3401417650366, 275.71477608006865, 254.626686362928, 239.84035793669494, 219.0534770266133, 209.74231151925963, 209.74231151925963, 209.74231151925963, 209.74231151925963, 209.74231151925963, 209.74231151925963, 209.74231151925963, 211.19057375357218, 203.62951078268276, 199.71884825165725, 202.04599378124178, 191.92812199728002, 175.6205649492046, 170.2247838339105, 152.40726461053302, 347.1191892023904, 265.6321244996864, 297.96039630213727, 308.7498631171906, 1756.7858212563074, 263.94878821711444, 752.5578113457445, 688.52524230108, 238.96048434230033, 316.8058747191487, 478.88402740529796, 456.18424739428497, 233.38693735840982, 469.82184319040437, 300.802267740921, 274.7940849392274, 238.8106477793949], \"Total\": [6230.0, 4062.0, 4117.0, 3059.0, 2895.0, 5542.0, 2808.0, 11421.0, 3465.0, 1497.0, 6589.0, 5417.0, 2079.0, 5874.0, 4921.0, 1386.0, 10410.0, 1681.0, 8300.0, 2735.0, 1426.0, 2090.0, 1062.0, 1019.0, 1348.0, 1841.0, 928.0, 1103.0, 1099.0, 741.0, 4062.4974273600246, 3059.9421534588055, 2895.9799653659024, 2808.3177056321047, 2079.7986635383068, 1681.2229254439212, 1348.6827725322137, 1103.1705244705597, 1099.3475825968655, 740.4607439984692, 745.3674525534055, 637.7052191387979, 635.7846329606489, 619.9108345545366, 430.53150535026185, 389.92606342385926, 321.97397268415205, 303.5283224001373, 271.2760924154463, 271.9699962473677, 249.38102023401444, 252.36449346143488, 243.40977100407008, 230.83748107154503, 262.59367557434365, 214.33689179707312, 208.18249105943033, 201.482216553598, 192.72815842124692, 181.70653061476955, 4117.431501918764, 3465.3753069616996, 6230.064802485909, 1467.645549786207, 6589.209409691889, 5874.387932676975, 10410.170822419372, 2735.854935806264, 8300.004508424181, 1382.8143837536088, 4010.8975338687164, 11421.074490106956, 17436.615542964806, 1298.6594160370112, 1227.6012265265479, 2256.809916869788, 5519.291397368413, 4585.557789127691, 928.1829186803773, 789.5975434962014, 716.8666789792824, 665.2324951781804, 603.6815798579247, 559.338432007241, 459.3647610739171, 484.6600467848681, 384.76525562629433, 364.7324719851078, 348.5137726660839, 339.459578130136, 348.5919031243015, 327.2929502201939, 317.3444266930998, 298.9541798019174, 287.1053094835034, 264.2538080548941, 235.0040366919505, 233.4427350362791, 233.46358490180862, 229.0237170786251, 223.94707416651778, 226.36578014842243, 218.4004889204234, 211.91339661259997, 209.22386476361044, 198.4693145970073, 193.20525284444736, 193.7341017923652, 5542.754117580432, 512.7156840126349, 2090.015595421254, 5417.853260529876, 310.83001676031, 4921.3697033996905, 11421.074490106956, 682.9861698422762, 1000.2334264857112, 17436.615542964806, 1084.1897305303016, 987.7081342289916, 8300.004508424181, 5519.291397368413, 4585.557789127691, 10410.170822419372, 981.4587717624486, 4010.8975338687164, 1096.8440095640947, 2735.854935806264, 1151.0740541609669, 1852.5603894026754, 6589.209409691889, 1062.983867089922, 1019.7043475261978, 603.2402105288085, 592.2934438498976, 531.0382958269441, 523.3690721832468, 510.1680780436379, 459.6836666714204, 353.01490322510335, 375.3446798791224, 338.2808489145757, 340.9367660588586, 339.5417932341573, 310.7461404959533, 304.629563896937, 304.11009230244184, 301.5496379249274, 305.6675020909774, 232.79784998498732, 231.99163732947324, 226.66921886371898, 227.92572748982604, 221.53902356655436, 219.30152009936631, 220.91927269765932, 215.25694027605044, 215.85496238719634, 205.1411525416432, 203.2616381398771, 204.03325372029425, 217.71884234343057, 637.8151567534959, 733.8566141357022, 399.31446771096904, 711.2098835980994, 1841.1662318383346, 450.1466225305471, 522.5510541349867, 933.9854264478981, 1593.7249535820758, 4921.3697033996905, 4585.557789127691, 823.6855275989285, 5519.291397368413, 17436.615542964806, 11421.074490106956, 6230.064802485909, 960.5110053250618, 6589.209409691889, 5417.853260529876, 1084.1897305303016, 1852.5603894026754, 5542.754117580432, 10410.170822419372, 1386.859699306456, 741.8516811619423, 513.0602102528206, 447.74174695727356, 429.0532026757576, 399.44353451480697, 387.68335573768985, 381.293538952397, 370.2320536550205, 358.4609864000417, 352.1971916115315, 339.4269052348769, 326.09126175890646, 322.39087146062644, 320.86713494160114, 301.1085804372108, 291.52983128609145, 290.7803231213064, 273.74473712802734, 274.4946390031134, 263.7488691214254, 254.41396584517545, 245.04373923229798, 235.44996387255324, 231.73945211541977, 237.82907324800482, 223.2406566429986, 216.7882659360338, 203.94684697931322, 193.67247374524908, 1426.2703758278396, 784.3158666818995, 345.9397574677675, 325.42780125194673, 2256.809916869788, 317.85294373355225, 2323.9714486830107, 17436.615542964806, 960.5110053250618, 1151.0740541609669, 1593.7249535820758, 668.7323410808066, 578.4906622696125, 8300.004508424181, 5519.291397368413, 4010.8975338687164, 11421.074490106956, 10410.170822419372, 5542.754117580432, 4585.557789127691, 1497.8544332164142, 591.9808813913052, 611.4730764305051, 541.4708444693151, 508.1190262177582, 474.5318248462382, 420.18192584687904, 420.18192584687904, 379.0605663477176, 361.3293614873666, 264.15938638012716, 276.58791766005123, 255.46025570302015, 240.66964762937127, 219.89556452740229, 210.56055897487573, 210.56055897487573, 210.56055897487573, 210.56055897487573, 210.56055897487573, 210.56055897487573, 210.56055897487573, 212.0352520581801, 204.46865566544216, 200.54365744300733, 202.89101764354598, 192.78260909330126, 176.44596482686728, 171.04848692933345, 153.23632282841083, 415.58233868167434, 339.6618884155981, 450.08297296912605, 480.4612623150049, 17436.615542964806, 391.4189459411892, 5874.387932676975, 8300.004508424181, 324.37985542466663, 864.3955750416435, 5542.754117580432, 5519.291397368413, 339.04657019619935, 10410.170822419372, 2323.9714486830107, 1852.5603894026754, 2090.015595421254], \"Category\": [\"Default\", \"Default\", \"Default\", \"Default\", \"Default\", \"Default\", \"Default\", \"Default\", \"Default\", \"Default\", \"Default\", \"Default\", \"Default\", \"Default\", \"Default\", \"Default\", \"Default\", \"Default\", \"Default\", \"Default\", \"Default\", \"Default\", \"Default\", \"Default\", \"Default\", \"Default\", \"Default\", \"Default\", \"Default\", \"Default\", \"Topic1\", \"Topic1\", \"Topic1\", \"Topic1\", \"Topic1\", \"Topic1\", \"Topic1\", \"Topic1\", \"Topic1\", \"Topic1\", \"Topic1\", \"Topic1\", \"Topic1\", \"Topic1\", \"Topic1\", \"Topic1\", \"Topic1\", \"Topic1\", \"Topic1\", \"Topic1\", \"Topic1\", \"Topic1\", \"Topic1\", \"Topic1\", \"Topic1\", \"Topic1\", \"Topic1\", \"Topic1\", \"Topic1\", \"Topic1\", \"Topic1\", \"Topic1\", \"Topic1\", \"Topic1\", \"Topic1\", \"Topic1\", \"Topic1\", \"Topic1\", \"Topic1\", \"Topic1\", \"Topic1\", \"Topic1\", \"Topic1\", \"Topic1\", \"Topic1\", \"Topic1\", \"Topic1\", \"Topic1\", \"Topic2\", \"Topic2\", \"Topic2\", \"Topic2\", \"Topic2\", \"Topic2\", \"Topic2\", \"Topic2\", \"Topic2\", \"Topic2\", \"Topic2\", \"Topic2\", \"Topic2\", \"Topic2\", \"Topic2\", \"Topic2\", \"Topic2\", \"Topic2\", \"Topic2\", \"Topic2\", \"Topic2\", \"Topic2\", \"Topic2\", \"Topic2\", \"Topic2\", \"Topic2\", \"Topic2\", \"Topic2\", \"Topic2\", \"Topic2\", \"Topic2\", \"Topic2\", \"Topic2\", \"Topic2\", \"Topic2\", \"Topic2\", \"Topic2\", \"Topic2\", \"Topic2\", \"Topic2\", \"Topic2\", \"Topic2\", \"Topic2\", \"Topic2\", \"Topic2\", \"Topic2\", \"Topic2\", \"Topic2\", \"Topic2\", \"Topic2\", \"Topic2\", \"Topic2\", \"Topic2\", \"Topic3\", \"Topic3\", \"Topic3\", \"Topic3\", \"Topic3\", \"Topic3\", \"Topic3\", \"Topic3\", \"Topic3\", \"Topic3\", \"Topic3\", \"Topic3\", \"Topic3\", \"Topic3\", \"Topic3\", \"Topic3\", \"Topic3\", \"Topic3\", \"Topic3\", \"Topic3\", \"Topic3\", \"Topic3\", \"Topic3\", \"Topic3\", \"Topic3\", \"Topic3\", \"Topic3\", \"Topic3\", \"Topic3\", \"Topic3\", \"Topic3\", \"Topic3\", \"Topic3\", \"Topic3\", \"Topic3\", \"Topic3\", \"Topic3\", \"Topic3\", \"Topic3\", \"Topic3\", \"Topic3\", \"Topic3\", \"Topic3\", \"Topic3\", \"Topic3\", \"Topic3\", \"Topic3\", \"Topic3\", \"Topic3\", \"Topic3\", \"Topic3\", \"Topic3\", \"Topic3\", \"Topic3\", \"Topic4\", \"Topic4\", \"Topic4\", \"Topic4\", \"Topic4\", \"Topic4\", \"Topic4\", \"Topic4\", \"Topic4\", \"Topic4\", \"Topic4\", \"Topic4\", \"Topic4\", \"Topic4\", \"Topic4\", \"Topic4\", \"Topic4\", \"Topic4\", \"Topic4\", \"Topic4\", \"Topic4\", \"Topic4\", \"Topic4\", \"Topic4\", \"Topic4\", \"Topic4\", \"Topic4\", \"Topic4\", \"Topic4\", \"Topic4\", \"Topic4\", \"Topic4\", \"Topic4\", \"Topic4\", \"Topic4\", \"Topic4\", \"Topic4\", \"Topic4\", \"Topic4\", \"Topic4\", \"Topic4\", \"Topic4\", \"Topic4\", \"Topic4\", \"Topic4\", \"Topic4\", \"Topic4\", \"Topic4\", \"Topic4\", \"Topic4\", \"Topic5\", \"Topic5\", \"Topic5\", \"Topic5\", \"Topic5\", \"Topic5\", \"Topic5\", \"Topic5\", \"Topic5\", \"Topic5\", \"Topic5\", \"Topic5\", \"Topic5\", \"Topic5\", \"Topic5\", \"Topic5\", \"Topic5\", \"Topic5\", \"Topic5\", \"Topic5\", \"Topic5\", \"Topic5\", \"Topic5\", \"Topic5\", \"Topic5\", \"Topic5\", \"Topic5\", \"Topic5\", \"Topic5\", \"Topic5\", \"Topic5\", \"Topic5\", \"Topic5\", \"Topic5\", \"Topic5\", \"Topic5\", \"Topic5\", \"Topic5\", \"Topic5\", \"Topic5\", \"Topic5\", \"Topic5\", \"Topic5\", \"Topic5\", \"Topic5\", \"Topic5\", \"Topic5\"], \"logprob\": [30.0, 29.0, 28.0, 27.0, 26.0, 25.0, 24.0, 23.0, 22.0, 21.0, 20.0, 19.0, 18.0, 17.0, 16.0, 15.0, 14.0, 13.0, 12.0, 11.0, 10.0, 9.0, 8.0, 7.0, 6.0, 5.0, 4.0, 3.0, 2.0, 1.0, -3.5107, -3.7942, -3.8493, -3.88, -4.1804, -4.3933, -4.6138, -4.8149, -4.8183, -5.214, -5.2073, -5.3635, -5.3665, -5.3918, -5.757, -5.8563, -6.0483, -6.1074, -6.2202, -6.2178, -6.3045, -6.2926, -6.3289, -6.3822, -6.2534, -6.4567, -6.4859, -6.5187, -6.5634, -6.6225, -3.5456, -3.7816, -3.2242, -4.6542, -3.2787, -3.4286, -2.9989, -4.2383, -3.4139, -4.9235, -4.1365, -3.4471, -3.2145, -5.1545, -5.2046, -4.8797, -4.4223, -4.5529, -4.7345, -4.8964, -4.9931, -5.0679, -5.1652, -5.2416, -5.4388, -5.3853, -5.6164, -5.6699, -5.7155, -5.7419, -5.7154, -5.7785, -5.8094, -5.8694, -5.91, -5.993, -6.1107, -6.1174, -6.1173, -6.1366, -6.1591, -6.1483, -6.1842, -6.2145, -6.2273, -6.2803, -6.3073, -6.3046, -3.2268, -5.4151, -4.1453, -3.3078, -5.892, -3.6124, -2.9989, -5.2706, -5.0486, -3.0017, -5.0728, -5.1441, -3.7638, -4.0861, -4.2602, -3.807, -5.251, -4.6312, -5.2394, -4.9164, -5.3106, -5.1927, -5.0843, -4.3694, -4.411, -4.9365, -4.9548, -5.0642, -5.0787, -5.1043, -5.2087, -5.4732, -5.4119, -5.516, -5.5082, -5.5124, -5.6011, -5.621, -5.6228, -5.6313, -5.6177, -5.8908, -5.8943, -5.9176, -5.912, -5.9405, -5.9507, -5.9434, -5.9694, -5.9666, -6.0177, -6.0269, -6.0232, -5.9585, -4.9291, -4.8224, -5.4351, -4.959, -4.2182, -5.4629, -5.3655, -4.9872, -4.6977, -4.053, -4.2538, -5.2178, -4.3095, -3.7912, -4.1135, -4.6275, -5.2744, -4.9129, -4.9796, -5.2915, -5.1997, -5.1568, -5.4204, -4.0855, -4.7116, -5.0809, -5.2174, -5.26, -5.3317, -5.3616, -5.3783, -5.4078, -5.4402, -5.4579, -5.4949, -5.535, -5.5465, -5.5513, -5.615, -5.6473, -5.6501, -5.7105, -5.7079, -5.7479, -5.784, -5.8216, -5.8617, -5.8776, -5.8518, -5.9152, -5.9445, -6.0059, -6.0579, -4.2359, -4.8233, -5.5423, -5.6168, -4.3942, -5.6734, -4.4446, -3.2876, -5.0464, -4.9545, -4.8364, -5.3688, -5.4426, -4.7852, -5.0479, -5.1755, -5.1877, -5.2137, -5.348, -5.4687, -3.7179, -4.647, -4.6146, -4.7364, -4.8, -4.8685, -4.9904, -4.9904, -5.0937, -5.1416, -5.4557, -5.4097, -5.4893, -5.5491, -5.6398, -5.6832, -5.6832, -5.6832, -5.6832, -5.6832, -5.6832, -5.6832, -5.6763, -5.7128, -5.7322, -5.7206, -5.772, -5.8608, -5.892, -6.0025, -5.1794, -5.447, -5.3321, -5.2966, -3.5579, -5.4533, -4.4056, -4.4945, -5.5528, -5.2708, -4.8576, -4.9062, -5.5764, -4.8767, -5.3226, -5.4131, -5.5534], \"loglift\": [30.0, 29.0, 28.0, 27.0, 26.0, 25.0, 24.0, 23.0, 22.0, 21.0, 20.0, 19.0, 18.0, 17.0, 16.0, 15.0, 14.0, 13.0, 12.0, 11.0, 10.0, 9.0, 8.0, 7.0, 6.0, 5.0, 4.0, 3.0, 2.0, 1.0, 1.2391, 1.239, 1.239, 1.239, 1.2389, 1.2388, 1.2387, 1.2385, 1.2385, 1.2381, 1.2381, 1.238, 1.238, 1.2379, 1.2373, 1.2371, 1.2366, 1.2364, 1.2361, 1.2359, 1.2359, 1.2359, 1.2357, 1.2355, 1.2353, 1.2352, 1.2351, 1.2349, 1.2347, 1.2345, 1.1907, 1.1272, 1.098, 1.1138, 0.9875, 0.9524, 0.8099, 0.9069, 0.6215, 0.9039, 0.626, 0.269, 0.0786, 0.7358, 0.742, 0.4579, 0.0211, 0.0758, 1.4916, 1.4915, 1.4914, 1.4913, 1.4911, 1.491, 1.4907, 1.4906, 1.4904, 1.4903, 1.4902, 1.4901, 1.49, 1.49, 1.4899, 1.4897, 1.4895, 1.4894, 1.489, 1.489, 1.489, 1.489, 1.4889, 1.4889, 1.4888, 1.4887, 1.4886, 1.4884, 1.4883, 1.4883, 1.2123, 1.4045, 1.2691, 1.1541, 1.4281, 0.9456, 0.7172, 1.2623, 1.1028, 0.2913, 0.998, 1.0199, 0.2715, 0.3573, 0.3685, 0.0018, 0.9193, 0.1314, 0.8197, 0.2288, 0.7003, 0.3424, -0.8181, 1.7211, 1.7211, 1.7205, 1.7205, 1.7203, 1.7203, 1.7203, 1.7201, 1.7196, 1.7196, 1.7195, 1.7195, 1.7194, 1.7192, 1.7192, 1.7192, 1.7192, 1.7191, 1.7184, 1.7184, 1.7183, 1.7183, 1.7182, 1.7182, 1.7182, 1.7181, 1.7181, 1.7179, 1.7179, 1.7179, 1.7176, 1.6722, 1.6386, 1.6345, 1.5333, 1.323, 1.4869, 1.4351, 1.2327, 0.9878, 0.505, 0.3748, 1.1277, 0.1339, -0.4981, -0.3974, -0.3053, 0.9175, -0.6467, -0.5177, 0.7792, 0.3354, -0.7177, -1.6116, 1.7391, 1.7386, 1.7381, 1.7378, 1.7377, 1.7376, 1.7375, 1.7375, 1.7374, 1.7373, 1.7373, 1.7372, 1.7371, 1.7371, 1.737, 1.7369, 1.7369, 1.7367, 1.7367, 1.7365, 1.7364, 1.7364, 1.7363, 1.7362, 1.7361, 1.736, 1.7359, 1.7359, 1.7356, 1.7353, 1.5606, 1.5713, 1.6708, 1.6574, 0.9434, 1.6244, 0.8638, 0.0055, 1.1455, 1.0564, 0.8491, 1.1852, 1.2563, -0.7498, -0.6046, -0.4129, -1.4715, -1.4049, -0.9089, -0.84, 2.0297, 2.0289, 2.0288, 2.0287, 2.0286, 2.0285, 2.0283, 2.0283, 2.028, 2.028, 2.0271, 2.0271, 2.027, 2.0268, 2.0264, 2.0264, 2.0264, 2.0264, 2.0264, 2.0264, 2.0264, 2.0264, 2.0263, 2.0261, 2.0261, 2.0261, 2.0258, 2.0256, 2.0254, 2.0248, 1.8502, 1.7844, 1.6178, 1.588, -0.2648, 1.6362, -0.0246, -0.4592, 1.7246, 1.0265, -0.4185, -0.4629, 1.6568, -1.0679, -0.0143, 0.122, -0.139]}, \"token.table\": {\"Topic\": [5, 5, 1, 1, 2, 3, 4, 5, 2, 3, 2, 1, 2, 3, 4, 5, 3, 2, 5, 1, 2, 2, 1, 2, 3, 5, 3, 3, 4, 1, 5, 4, 4, 5, 1, 3, 4, 5, 1, 4, 5, 3, 2, 4, 3, 3, 4, 5, 1, 3, 4, 1, 2, 4, 4, 2, 4, 5, 2, 3, 4, 5, 2, 2, 1, 2, 4, 5, 4, 5, 2, 5, 5, 1, 3, 4, 4, 5, 2, 1, 2, 2, 5, 1, 5, 1, 2, 3, 4, 5, 2, 1, 2, 3, 4, 5, 5, 3, 3, 4, 4, 1, 2, 1, 2, 4, 3, 4, 5, 1, 2, 5, 4, 4, 4, 5, 1, 1, 5, 1, 3, 4, 5, 3, 1, 1, 2, 3, 4, 5, 5, 1, 2, 3, 4, 2, 1, 4, 1, 2, 3, 5, 4, 5, 3, 3, 5, 5, 4, 3, 5, 3, 3, 4, 3, 4, 1, 2, 2, 5, 3, 3, 4, 2, 1, 2, 1, 2, 3, 4, 5, 5, 3, 3, 5, 3, 1, 2, 3, 4, 5, 4, 3, 3, 1, 2, 3, 4, 5, 2, 3, 4, 5, 3, 5, 5, 5, 4, 5, 1, 3, 5, 1, 2, 3, 4, 5, 2, 5, 1, 2, 4, 5, 2, 2, 3, 3, 5, 2, 2, 5, 4, 4, 2, 3, 1, 1, 3, 5, 3, 5, 3, 1, 3, 4, 2, 3, 2, 4, 1, 5, 1, 2, 1, 3, 4, 3, 2, 1, 2, 3, 4, 5, 2, 1, 1, 1, 2, 3, 5, 1, 2, 3, 4, 1, 1, 5, 1, 2, 3, 4, 5, 4, 3, 5, 1, 2, 3, 4, 5, 1, 4, 5, 3, 4, 4, 4, 4, 3, 1, 2, 5, 2, 2, 1, 2, 3, 5, 1, 3, 1, 4, 1, 3, 5, 1, 2, 3, 4, 1, 2, 3, 5, 5, 5, 2, 3, 1, 1, 2, 4, 1, 3, 1, 3, 4, 5, 4, 4, 4, 4, 3, 1, 4, 1, 1], \"Freq\": [0.9977079339426529, 0.9956083928510261, 0.9987658824703027, 0.31228480063979497, 0.3249332073696191, 0.25994656589569526, 0.07589044037894459, 0.026823345306351106, 0.9989146597068399, 0.9937930336908488, 0.9993949423320931, 0.2956901316676511, 0.32141807204559625, 0.20437406159381769, 0.09584563704178152, 0.08261930149537311, 0.9962136522990128, 0.99680827408886, 0.9973377778934248, 0.9998775562646084, 0.995727576827684, 0.9983841190652465, 0.24804898482611754, 0.6236660189913812, 0.11845604581492143, 0.011136893196274665, 0.9993092629957825, 0.9984043400696077, 0.9966074983700196, 0.9976066545135028, 0.9994295619137171, 0.9988519522384739, 0.9982373353728597, 0.9988792641117158, 0.715208065246898, 0.09762698565048657, 0.1619884798941407, 0.026033862840129752, 0.9952959643288726, 0.1636258177277507, 0.8349729228166102, 0.9966982998086281, 0.9980111103715726, 0.9972975264613531, 0.9941607444831349, 0.07550661547472899, 0.8903488408061794, 0.03146108978113708, 0.39578211474748276, 0.5523952828530818, 0.05099033380182293, 0.041700184124980416, 0.452620748523225, 0.5047459786794505, 0.9972794467727829, 0.9957709911145632, 0.9957406002880631, 0.995940458026883, 0.7555810543203709, 0.08714079494669034, 0.07072296401470521, 0.08641913204858111, 0.9981662636269586, 0.9992432302998873, 0.7171432864812304, 0.2825442204128395, 0.9971606736213886, 0.9938702355796539, 0.30969196927501325, 0.6872212270578866, 0.9976353291794238, 0.9973377778934248, 0.9973377778934248, 0.9993777603982337, 0.7501659347887137, 0.24877951919013463, 0.21491960826255493, 0.7831317232580769, 0.9952552886025634, 0.9943199303005132, 0.9941504533194948, 0.9362030187206742, 0.06112665757970038, 0.9962218368752563, 0.9991304343084685, 0.75054627827257, 0.011064982555617385, 0.056005834781509535, 0.05413329927209736, 0.128183567144306, 0.9992059445895145, 0.09679469248555835, 0.5634469994159343, 0.07336018798905475, 0.1925704934712687, 0.07234129648920676, 0.9973377778934248, 0.998044781637966, 0.9972523759473424, 0.9944425148104512, 0.996318336609335, 0.20498218877891855, 0.7950380607639485, 0.6085037908552835, 0.31443435511397516, 0.07657209684122711, 0.48000754351030056, 0.4103593901382177, 0.10917818636704875, 0.16030588561648948, 0.10173258125661831, 0.7367905127373267, 0.9987422763832422, 0.9975452865304597, 0.3354936957598661, 0.6621001413009278, 0.999615989974266, 0.9985307007011887, 0.997472513314176, 0.4577257447684289, 0.028358613422245355, 0.4510791947475902, 0.06292067353060689, 0.9992948146864942, 0.9964334439064909, 0.07132160783562523, 0.5787006812417683, 0.29605579093021644, 0.03901352907247876, 0.014833268866098695, 0.997289081839141, 0.7773314948021214, 0.099253181882192, 0.09363794070537074, 0.029745601909647753, 0.9937618008480457, 0.8816842732828085, 0.11787587270318847, 0.3219248542126181, 0.6768420071488895, 0.9960391812273339, 0.9973377778934248, 0.9218634635574344, 0.07682195529645286, 0.9949358562810025, 0.7908534290420933, 0.2088208492414516, 0.9971871092634533, 0.9980889193391561, 0.9978162477646095, 0.9956110347013799, 0.9975988744550055, 0.9971250414194095, 0.998343359844566, 0.16336313503304836, 0.835746167207698, 0.9988941298931969, 0.9981472715372235, 0.998014316014193, 0.9971871092634533, 0.9957255470891612, 0.996417479849307, 0.9993801108310482, 0.9987255543529512, 0.8939868630610751, 0.10590483497205118, 0.9963719883458377, 0.0739497981156149, 0.0803247807117886, 0.8453226922526325, 0.9981983275568501, 0.997874391386923, 0.9990744289538322, 0.9978162110971713, 0.9951175474449124, 0.9977104054645732, 0.10354654750194049, 0.713013035650617, 0.10649974671768211, 0.033038916226109355, 0.043928838334156575, 0.9981980012254164, 0.997047597079684, 0.9940651569639071, 0.5415246791171437, 0.25630173578840876, 0.043631132065147404, 0.11618347167062108, 0.04238452829185748, 0.3667302438293117, 0.10064836344842308, 0.16543351693246552, 0.3667302438293117, 0.9965727776908645, 0.9959273188191539, 0.9973377778934248, 0.9973377778934248, 0.9336885773532264, 0.06359488762158198, 0.056195997716665, 0.29971198782221337, 0.6431319738684995, 0.03140269837415035, 0.16748105799546853, 0.08523589558697951, 0.5742207702701778, 0.1420598259782992, 0.9166873857293932, 0.08386714380077427, 0.5391563336451263, 0.2949395988297808, 0.08289152123974232, 0.08301200310200939, 0.9956897646529174, 0.9981034533535161, 0.9985127453486202, 0.8281662186978838, 0.17153867348241394, 0.995530082684521, 0.998525818184591, 0.9983430522468904, 0.9979335558836298, 0.9987875852102898, 0.9962107765975451, 0.9959384686405471, 0.9961116938814519, 0.9937626612672034, 0.916570847277483, 0.0826416337709206, 0.9958388750495417, 0.9992263331800859, 0.9944372324738131, 0.9969749955996987, 0.44767836871840616, 0.5517896172575704, 0.9961501600736963, 0.9975669136846564, 0.9983020170032738, 0.9963638902104305, 0.9987654670014696, 0.9972021190229935, 0.9977391855571344, 0.9960495628783814, 0.9996921008922536, 0.9963497025237235, 0.9987139844570777, 0.9981772887253001, 0.9979917554882864, 0.3132488633784075, 0.300861138279591, 0.10862199693128961, 0.17652508265813593, 0.1007649675862069, 0.998646147701392, 0.9983165383937557, 0.9982593966982731, 0.6044694939305225, 0.32341042987365537, 0.05313171347924338, 0.018480595992780305, 0.3789485834935194, 0.46055211395007206, 0.12012880234591233, 0.04027642061160326, 0.9976250281509071, 0.9984721361968248, 0.9990884729488607, 0.19492494206704392, 0.1407074085119721, 0.11833191847337103, 0.416528353026266, 0.12951966349267158, 0.9966007917154207, 0.9197982098927862, 0.07903451285004681, 0.6509019031087547, 0.2252604726667695, 0.03563822403384711, 0.04313089647223006, 0.045148154436410085, 0.11496633074772335, 0.20949420269585142, 0.6744691403866436, 0.38202863834127077, 0.617123185012822, 0.9966722123520713, 0.995357383586277, 0.9983728650909542, 0.9979440851137538, 0.08564529393567591, 0.7999940305053079, 0.11435321369065107, 0.9988709613136032, 0.9987910179051475, 0.9995307847009396, 0.6096718880344771, 0.38923076664228345, 0.9972175650898757, 0.9525355790794112, 0.04735962211129148, 0.9994937486070711, 0.9966535081221732, 0.9996616118282509, 0.95168638370034, 0.04703557085833641, 0.37926997492134346, 0.5105557354710393, 0.018234133409679974, 0.09208237371888386, 0.2850109518806262, 0.31685876657940826, 0.2499243763650188, 0.1484432041044928, 0.9977977084895093, 0.991931920542134, 0.38651566692313716, 0.6134999366951733, 0.9945931638689759, 0.9981653980882569, 0.9986381242084081, 0.9965277784073041, 0.8682092677176826, 0.13178033070737982, 0.12274828643492314, 0.6713136373166593, 0.12980902857498508, 0.07603876150835946, 0.9981825829495593, 0.9973164514265263, 0.9968091228805898, 0.9988896189912155, 0.9979333460321993, 0.9996838282974667, 0.9965139953804543, 0.9992725976874255, 0.9989389451180981], \"Term\": [\"1\", \"4\", \"82\", \"a\", \"a\", \"a\", \"a\", \"a\", \"against\", \"agege\", \"air\", \"and\", \"and\", \"and\", \"and\", \"and\", \"another\", \"any\", \"apocolleagues\", \"are\", \"army\", \"around\", \"as\", \"as\", \"as\", \"as\", \"asuu\", \"atiku\", \"august\", \"away\", \"bbnaija\", \"bbnaija7\", \"bbnaijaguinnesssmooth\", \"bbnajia\", \"be\", \"be\", \"be\", \"be\", \"been\", \"before\", \"before\", \"believe\", \"breaking\", \"breastfeeding\", \"buhari\", \"bullettrainmovie\", \"bullettrainmovie\", \"bullettrainmovie\", \"but\", \"but\", \"but\", \"by\", \"by\", \"by\", \"capitec\", \"carrying\", \"check\", \"chelsea\", \"china\", \"china\", \"china\", \"china\", \"chinas\", \"chinataiwancrisis\", \"chinese\", \"chinese\", \"communityshield\", \"david\", \"davido\", \"davido\", \"defense\", \"discordnsfw\", \"discordteen\", \"do\", \"dont\", \"dont\", \"dontpayuk\", \"dontpayuk\", \"drills\", \"ever\", \"exercises\", \"fire\", \"fire\", \"first\", \"follow\", \"for\", \"for\", \"for\", \"for\", \"for\", \"force\", \"from\", \"from\", \"from\", \"from\", \"from\", \"getwellsoonapo\", \"god\", \"got\", \"guys\", \"happy\", \"has\", \"has\", \"have\", \"have\", \"have\", \"helicopter\", \"helicopter\", \"helicopter\", \"help\", \"help\", \"help\", \"his\", \"hobipalooza\", \"how\", \"how\", \"httpstcog2ufpv5fwp\", \"httpstcoivtowivccd\", \"hundeyin\", \"i\", \"i\", \"i\", \"i\", \"iii\", \"im\", \"in\", \"in\", \"in\", \"in\", \"in\", \"iphone\", \"is\", \"is\", \"is\", \"is\", \"island\", \"it\", \"it\", \"its\", \"its\", \"jaruma\", \"jinan\", \"job\", \"job\", \"kanu\", \"khalid\", \"khalid\", \"kickbooster\", \"kosovo\", \"lagos\", \"late\", \"lekki\", \"look\", \"machala\", \"me\", \"me\", \"meeting\", \"military\", \"ministry\", \"mobilegames\", \"mr\", \"must\", \"my\", \"nancy\", \"nancypelosi\", \"nancypelosi\", \"never\", \"new\", \"new\", \"new\", \"news\", \"niger\", \"nigeria\", \"obi\", \"obidients\", \"obituary\", \"of\", \"of\", \"of\", \"of\", \"of\", \"old\", \"omatseye\", \"omo\", \"on\", \"on\", \"on\", \"on\", \"on\", \"one\", \"one\", \"one\", \"one\", \"onitsha\", \"only\", \"onlyfansdiscord\", \"onlyfansleaks\", \"onstorm\", \"onstorm\", \"order\", \"order\", \"order\", \"out\", \"out\", \"out\", \"out\", \"out\", \"over\", \"over\", \"pelosi\", \"pelosi\", \"pelosi\", \"pelosi\", \"pelosis\", \"pelositaiwan\", \"peter\", \"peterobiforpresident2023\", \"peterobiforpresident2023\", \"pla\", \"plane\", \"please\", \"pokemonpresents\", \"pokemonscarletviolet\", \"president\", \"racism\", \"ready\", \"really\", \"reno\", \"reno\", \"rescue\", \"retweet\", \"rufai\", \"russia\", \"sabinus\", \"sabinus\", \"said\", \"sam\", \"sea\", \"serbia\", \"she\", \"should\", \"source\", \"speaker\", \"speakerpelosi\", \"start\", \"summerslam\", \"support\", \"taipei\", \"taiwan\", \"taiwan\", \"taiwan\", \"taiwan\", \"taiwan\", \"taiwanisnotchina\", \"take\", \"than\", \"that\", \"that\", \"that\", \"that\", \"the\", \"the\", \"the\", \"the\", \"their\", \"then\", \"these\", \"this\", \"this\", \"this\", \"this\", \"this\", \"timesupolivia\", \"tinubu\", \"tinubu\", \"to\", \"to\", \"to\", \"to\", \"to\", \"too\", \"too\", \"too\", \"trending\", \"trending\", \"tuesdayvibe\", \"twitter\", \"ukrainerussiawar\", \"up\", \"us\", \"us\", \"us\", \"usa\", \"visit\", \"waiting\", \"war\", \"war\", \"watch\", \"we\", \"we\", \"welcome\", \"weuro2022\", \"where\", \"wike\", \"wike\", \"will\", \"will\", \"will\", \"will\", \"with\", \"with\", \"with\", \"with\", \"wizkid\", \"wizkidfc\", \"world\", \"world\", \"would\", \"wwiii\", \"xijinping\", \"year\", \"you\", \"you\", \"your\", \"your\", \"your\", \"your\", \"\\u0627\\u0644\\u062d\\u0631\\u0628\\u0627\\u0644\\u0639\\u0627\\u0644\\u0645\\u064a\\u0629\\u0627\\u0644\\u062b\\u0627\\u0644\\u062b\\u0629\", \"\\u062a\\u0627\\u064a\\u0648\\u0627\\u0646\", \"\\u0e21\\u0e32\\u0e01\\u0e2d\\u0e14\\u0e01\\u0e31\\u0e19\\u0e19\\u0e30\\u0e0b\\u0e35\\u0e1e\\u0e24\\u0e01\\u0e29\\u0e4c\", \"\\u0e44\\u0e15\\u0e49\\u0e2b\\u0e27\\u0e31\\u0e19\", \"\\u2022\", \"\\u2026\\u2026come\", \"\\uc601\\uc6d0\\ud55c\\ucc28\\uc77c\\ub4dc\\uc6b0\\ub9ac\\ub9c8\\ud06c\\uc0dd\\uc77c\\ucd95\\ud558\\ud574\", \"\\ud83c\\udde8\\ud83c\\uddf3\", \"\\ud83c\\udde8\\ud83c\\uddf3chinese\"]}, \"R\": 30, \"lambda.step\": 0.01, \"plot.opts\": {\"xlab\": \"PC1\", \"ylab\": \"PC2\"}, \"topic.order\": [5, 4, 2, 1, 3]};\n",
              "\n",
              "function LDAvis_load_lib(url, callback){\n",
              "  var s = document.createElement('script');\n",
              "  s.src = url;\n",
              "  s.async = true;\n",
              "  s.onreadystatechange = s.onload = callback;\n",
              "  s.onerror = function(){console.warn(\"failed to load library \" + url);};\n",
              "  document.getElementsByTagName(\"head\")[0].appendChild(s);\n",
              "}\n",
              "\n",
              "if(typeof(LDAvis) !== \"undefined\"){\n",
              "   // already loaded: just create the visualization\n",
              "   !function(LDAvis){\n",
              "       new LDAvis(\"#\" + \"ldavis_el2220531876464146530844\", ldavis_el2220531876464146530844_data);\n",
              "   }(LDAvis);\n",
              "}else if(typeof define === \"function\" && define.amd){\n",
              "   // require.js is available: use it to load d3/LDAvis\n",
              "   require.config({paths: {d3: \"https://d3js.org/d3.v5\"}});\n",
              "   require([\"d3\"], function(d3){\n",
              "      window.d3 = d3;\n",
              "      LDAvis_load_lib(\"https://cdn.jsdelivr.net/gh/bmabey/pyLDAvis@3.3.1/pyLDAvis/js/ldavis.v3.0.0.js\", function(){\n",
              "        new LDAvis(\"#\" + \"ldavis_el2220531876464146530844\", ldavis_el2220531876464146530844_data);\n",
              "      });\n",
              "    });\n",
              "}else{\n",
              "    // require.js not available: dynamically load d3 & LDAvis\n",
              "    LDAvis_load_lib(\"https://d3js.org/d3.v5.js\", function(){\n",
              "         LDAvis_load_lib(\"https://cdn.jsdelivr.net/gh/bmabey/pyLDAvis@3.3.1/pyLDAvis/js/ldavis.v3.0.0.js\", function(){\n",
              "                 new LDAvis(\"#\" + \"ldavis_el2220531876464146530844\", ldavis_el2220531876464146530844_data);\n",
              "            })\n",
              "         });\n",
              "}\n",
              "</script>"
            ],
            "text/plain": [
              "PreparedData(topic_coordinates=              x         y  topics  cluster       Freq\n",
              "topic                                                \n",
              "4      0.217129  0.053429       1        1  28.958642\n",
              "3      0.172938  0.049678       2        1  22.481413\n",
              "1     -0.008479 -0.127848       3        1  17.872306\n",
              "0     -0.155699 -0.223501       4        1  17.557416\n",
              "2     -0.225889  0.248243       5        1  13.130223, topic_info=              Term         Freq         Total Category  logprob  loglift\n",
              "102            you  6230.000000   6230.000000  Default  30.0000  30.0000\n",
              "7              are  4062.000000   4062.000000  Default  29.0000  29.0000\n",
              "179             we  4117.000000   4117.000000  Default  28.0000  28.0000\n",
              "264  speakerpelosi  3059.000000   3059.000000  Default  27.0000  27.0000\n",
              "488          where  2895.000000   2895.000000  Default  26.0000  26.0000\n",
              "..             ...          ...           ...      ...      ...      ...\n",
              "313         davido   233.386937    339.046570   Topic5  -5.5764   1.6568\n",
              "128             to   469.821843  10410.170822   Topic5  -4.8767  -1.0679\n",
              "208           this   300.802268   2323.971449   Topic5  -5.3226  -0.0143\n",
              "100           with   274.794085   1852.560389   Topic5  -5.4131   0.1220\n",
              "319             us   238.810648   2090.015595   Topic5  -5.5534  -0.1390\n",
              "\n",
              "[282 rows x 6 columns], token_table=       Topic      Freq             Term\n",
              "term                                   \n",
              "0          5  0.997708                1\n",
              "458        5  0.995608                4\n",
              "10992      1  0.998766               82\n",
              "52         1  0.312285                a\n",
              "52         2  0.324933                a\n",
              "...      ...       ...              ...\n",
              "4808       3  0.997933                •\n",
              "10996      1  0.999684           ……come\n",
              "6994       4  0.996514  영원한차일드우리마크생일축하해\n",
              "30         1  0.999273               🇨🇳\n",
              "6654       1  0.998939        🇨🇳chinese\n",
              "\n",
              "[336 rows x 3 columns], R=30, lambda_step=0.01, plot_opts={'xlab': 'PC1', 'ylab': 'PC2'}, topic_order=[5, 4, 2, 1, 3])"
            ]
          },
          "execution_count": 25,
          "metadata": {},
          "output_type": "execute_result"
        }
      ],
      "source": [
        "import pyLDAvis.gensim_models as gensimvis\n",
        "import pickle \n",
        "import pyLDAvis\n",
        "# Visualize the topics\n",
        "pyLDAvis.enable_notebook()\n",
        "\n",
        "LDAvis_prepared = gensimvis.prepare(lda_model, corpus, id2word)\n",
        "LDAvis_prepared"
      ]
    },
    {
      "cell_type": "code",
      "execution_count": null,
      "metadata": {
        "id": "C3Ma_m5p2-MH"
      },
      "outputs": [],
      "source": [
        "# Tranining on different values of topics/k\n",
        "\n",
        "# for k in range(2,25): # Train LDA on different values of k\n",
        "#     print('Round: '+str(k))\n",
        "#     LDA = gensim.models.ldamulticore.LdaMulticore\n",
        "#     ldamodel = LDA(doc_term_matrix, num_topics=k, id2word = dictionary, passes=20, iterations=100,\n",
        "#                    chunksize = 10000, eval_every = 10, random_state=20)\n",
        "    \n",
        "#     ldamodel.save(f\"ldamodel_for_{k}topics_Run_10\")\n",
        "#     pprint(ldamodel.print_topics())"
      ]
    },
    {
      "cell_type": "code",
      "execution_count": null,
      "metadata": {
        "id": "zspW6g_E3Hqm"
      },
      "outputs": [],
      "source": [
        "# Coherence score\n",
        "# coherence = []\n",
        "# for k in range(2,25):\n",
        "#     LDA = gensim.models.ldamulticore.LdaMulticore\n",
        "#     ldamodel = LDA.load(f\"ldamodel_for_{k}topics_Run_10\")\n",
        "#     cm = gensim.models.coherencemodel.CoherenceModel(model=ldamodel, texts=Complete_Content, dictionary=dictionary, coherence='c_v')\n",
        "#     coherence.append((k, 'default', 'default', cm.get_coherence()))"
      ]
    },
    {
      "cell_type": "markdown",
      "metadata": {
        "id": "2bPy2I857NwK"
      },
      "source": [
        "# Sentiment Analysis\n",
        "\n",
        "[Notebook reference](https://github.com/lazuxd/simple-imdb-sentiment-analysis/blob/master/sentiment-analysis.ipynb)"
      ]
    },
    {
      "cell_type": "markdown",
      "metadata": {
        "id": "1koLQ9HL7il-"
      },
      "source": [
        "## Building a Sentiment Classifier using Scikit-Learn"
      ]
    },
    {
      "cell_type": "markdown",
      "metadata": {
        "id": "mwrqjIXn7yAV"
      },
      "source": [
        "<center><img src=\"https://raw.githubusercontent.com/lazuxd/simple-imdb-sentiment-analysis/master/smiley.jpg\"/></center>\n",
        "<center><i>Image by AbsolutVision @ <a href=\"https://pixabay.com/ro/photos/smiley-emoticon-furie-sup%C4%83rat-2979107/\">pixabay.com</a></i></center>\n",
        "\n",
        "> &nbsp;&nbsp;&nbsp;&nbsp;**Sentiment analysis**, an important area in Natural Language Processing, is the process of automatically detecting affective states of text. Sentiment analysis is widely applied to voice-of-customer materials such as product reviews in online shopping websites like Amazon, movie reviews or social media. It can be just a basic task of classifying the polarity of a text as being positive/negative or it can go beyond polarity, looking at emotional states such as \"happy\", \"angry\", etc.\n",
        "\n",
        "&nbsp;&nbsp;&nbsp;&nbsp;Here we will build a classifier of [tweets](https://raw.githubusercontent.com/kolaveridi/kaggle-Twitter-US-Airline-Sentiment-/master/Tweets.csv) about six US airlines, the task is to predict whether a tweet contains positive, negative, or neutral sentiment about the airline. This is a typical supervised learning task where given a text string, we have to categorize the text string into predefined categories.\n",
        "\n"
      ]
    },
    {
      "cell_type": "markdown",
      "metadata": {
        "id": "ZcTV8j86iNbT"
      },
      "source": [
        ">> ### Import required libraries"
      ]
    },
    {
      "cell_type": "code",
      "execution_count": null,
      "metadata": {
        "id": "kHlBILTNiMpw"
      },
      "outputs": [],
      "source": [
        "import numpy as np \n",
        "import pandas as pd \n",
        "import re\n",
        "import nltk \n",
        "import matplotlib.pyplot as plt\n",
        "import seaborn as sns\n",
        "%matplotlib inline"
      ]
    },
    {
      "cell_type": "code",
      "execution_count": null,
      "metadata": {
        "id": "ZTx7bB9qiRjq"
      },
      "outputs": [],
      "source": [
        "# Read the Data\n",
        "# DataLoader_obj= DataLoader('/content/drive/MyDrive/data','airlines.csv')\n"
      ]
    },
    {
      "cell_type": "code",
      "execution_count": null,
      "metadata": {
        "id": "yyk3ewWqpy7F"
      },
      "outputs": [],
      "source": [
        "# airline_tweets_df=DataLoader_obj.read_csv()\n",
        "# airline_tweets_df=DataLoader_obj.read_csv()\n"
      ]
    },
    {
      "cell_type": "code",
      "execution_count": null,
      "metadata": {
        "colab": {
          "base_uri": "https://localhost:8080/",
          "height": 496
        },
        "id": "KvlSl2buqDCY",
        "outputId": "895f0725-4770-41ea-b3a3-479bee2060b8"
      },
      "outputs": [
        {
          "data": {
            "text/html": [
              "\n",
              "  <div id=\"df-7880c5a8-d12a-40a2-93ab-74dc6830ee37\">\n",
              "    <div class=\"colab-df-container\">\n",
              "      <div>\n",
              "<style scoped>\n",
              "    .dataframe tbody tr th:only-of-type {\n",
              "        vertical-align: middle;\n",
              "    }\n",
              "\n",
              "    .dataframe tbody tr th {\n",
              "        vertical-align: top;\n",
              "    }\n",
              "\n",
              "    .dataframe thead th {\n",
              "        text-align: right;\n",
              "    }\n",
              "</style>\n",
              "<table border=\"1\" class=\"dataframe\">\n",
              "  <thead>\n",
              "    <tr style=\"text-align: right;\">\n",
              "      <th></th>\n",
              "      <th>tweet_id</th>\n",
              "      <th>airline_sentiment</th>\n",
              "      <th>airline_sentiment_confidence</th>\n",
              "      <th>negativereason</th>\n",
              "      <th>negativereason_confidence</th>\n",
              "      <th>airline</th>\n",
              "      <th>airline_sentiment_gold</th>\n",
              "      <th>name</th>\n",
              "      <th>negativereason_gold</th>\n",
              "      <th>retweet_count</th>\n",
              "      <th>text</th>\n",
              "      <th>tweet_coord</th>\n",
              "      <th>tweet_created</th>\n",
              "      <th>tweet_location</th>\n",
              "      <th>user_timezone</th>\n",
              "    </tr>\n",
              "  </thead>\n",
              "  <tbody>\n",
              "    <tr>\n",
              "      <th>0</th>\n",
              "      <td>570306133677760513</td>\n",
              "      <td>neutral</td>\n",
              "      <td>1.0000</td>\n",
              "      <td>NaN</td>\n",
              "      <td>NaN</td>\n",
              "      <td>Virgin America</td>\n",
              "      <td>NaN</td>\n",
              "      <td>cairdin</td>\n",
              "      <td>NaN</td>\n",
              "      <td>0</td>\n",
              "      <td>@VirginAmerica What @dhepburn said.</td>\n",
              "      <td>NaN</td>\n",
              "      <td>2015-02-24 11:35:52 -0800</td>\n",
              "      <td>NaN</td>\n",
              "      <td>Eastern Time (US &amp; Canada)</td>\n",
              "    </tr>\n",
              "    <tr>\n",
              "      <th>1</th>\n",
              "      <td>570301130888122368</td>\n",
              "      <td>positive</td>\n",
              "      <td>0.3486</td>\n",
              "      <td>NaN</td>\n",
              "      <td>0.0000</td>\n",
              "      <td>Virgin America</td>\n",
              "      <td>NaN</td>\n",
              "      <td>jnardino</td>\n",
              "      <td>NaN</td>\n",
              "      <td>0</td>\n",
              "      <td>@VirginAmerica plus you've added commercials t...</td>\n",
              "      <td>NaN</td>\n",
              "      <td>2015-02-24 11:15:59 -0800</td>\n",
              "      <td>NaN</td>\n",
              "      <td>Pacific Time (US &amp; Canada)</td>\n",
              "    </tr>\n",
              "    <tr>\n",
              "      <th>2</th>\n",
              "      <td>570301083672813571</td>\n",
              "      <td>neutral</td>\n",
              "      <td>0.6837</td>\n",
              "      <td>NaN</td>\n",
              "      <td>NaN</td>\n",
              "      <td>Virgin America</td>\n",
              "      <td>NaN</td>\n",
              "      <td>yvonnalynn</td>\n",
              "      <td>NaN</td>\n",
              "      <td>0</td>\n",
              "      <td>@VirginAmerica I didn't today... Must mean I n...</td>\n",
              "      <td>NaN</td>\n",
              "      <td>2015-02-24 11:15:48 -0800</td>\n",
              "      <td>Lets Play</td>\n",
              "      <td>Central Time (US &amp; Canada)</td>\n",
              "    </tr>\n",
              "    <tr>\n",
              "      <th>3</th>\n",
              "      <td>570301031407624196</td>\n",
              "      <td>negative</td>\n",
              "      <td>1.0000</td>\n",
              "      <td>Bad Flight</td>\n",
              "      <td>0.7033</td>\n",
              "      <td>Virgin America</td>\n",
              "      <td>NaN</td>\n",
              "      <td>jnardino</td>\n",
              "      <td>NaN</td>\n",
              "      <td>0</td>\n",
              "      <td>@VirginAmerica it's really aggressive to blast...</td>\n",
              "      <td>NaN</td>\n",
              "      <td>2015-02-24 11:15:36 -0800</td>\n",
              "      <td>NaN</td>\n",
              "      <td>Pacific Time (US &amp; Canada)</td>\n",
              "    </tr>\n",
              "    <tr>\n",
              "      <th>4</th>\n",
              "      <td>570300817074462722</td>\n",
              "      <td>negative</td>\n",
              "      <td>1.0000</td>\n",
              "      <td>Can't Tell</td>\n",
              "      <td>1.0000</td>\n",
              "      <td>Virgin America</td>\n",
              "      <td>NaN</td>\n",
              "      <td>jnardino</td>\n",
              "      <td>NaN</td>\n",
              "      <td>0</td>\n",
              "      <td>@VirginAmerica and it's a really big bad thing...</td>\n",
              "      <td>NaN</td>\n",
              "      <td>2015-02-24 11:14:45 -0800</td>\n",
              "      <td>NaN</td>\n",
              "      <td>Pacific Time (US &amp; Canada)</td>\n",
              "    </tr>\n",
              "  </tbody>\n",
              "</table>\n",
              "</div>\n",
              "      <button class=\"colab-df-convert\" onclick=\"convertToInteractive('df-7880c5a8-d12a-40a2-93ab-74dc6830ee37')\"\n",
              "              title=\"Convert this dataframe to an interactive table.\"\n",
              "              style=\"display:none;\">\n",
              "        \n",
              "  <svg xmlns=\"http://www.w3.org/2000/svg\" height=\"24px\"viewBox=\"0 0 24 24\"\n",
              "       width=\"24px\">\n",
              "    <path d=\"M0 0h24v24H0V0z\" fill=\"none\"/>\n",
              "    <path d=\"M18.56 5.44l.94 2.06.94-2.06 2.06-.94-2.06-.94-.94-2.06-.94 2.06-2.06.94zm-11 1L8.5 8.5l.94-2.06 2.06-.94-2.06-.94L8.5 2.5l-.94 2.06-2.06.94zm10 10l.94 2.06.94-2.06 2.06-.94-2.06-.94-.94-2.06-.94 2.06-2.06.94z\"/><path d=\"M17.41 7.96l-1.37-1.37c-.4-.4-.92-.59-1.43-.59-.52 0-1.04.2-1.43.59L10.3 9.45l-7.72 7.72c-.78.78-.78 2.05 0 2.83L4 21.41c.39.39.9.59 1.41.59.51 0 1.02-.2 1.41-.59l7.78-7.78 2.81-2.81c.8-.78.8-2.07 0-2.86zM5.41 20L4 18.59l7.72-7.72 1.47 1.35L5.41 20z\"/>\n",
              "  </svg>\n",
              "      </button>\n",
              "      \n",
              "  <style>\n",
              "    .colab-df-container {\n",
              "      display:flex;\n",
              "      flex-wrap:wrap;\n",
              "      gap: 12px;\n",
              "    }\n",
              "\n",
              "    .colab-df-convert {\n",
              "      background-color: #E8F0FE;\n",
              "      border: none;\n",
              "      border-radius: 50%;\n",
              "      cursor: pointer;\n",
              "      display: none;\n",
              "      fill: #1967D2;\n",
              "      height: 32px;\n",
              "      padding: 0 0 0 0;\n",
              "      width: 32px;\n",
              "    }\n",
              "\n",
              "    .colab-df-convert:hover {\n",
              "      background-color: #E2EBFA;\n",
              "      box-shadow: 0px 1px 2px rgba(60, 64, 67, 0.3), 0px 1px 3px 1px rgba(60, 64, 67, 0.15);\n",
              "      fill: #174EA6;\n",
              "    }\n",
              "\n",
              "    [theme=dark] .colab-df-convert {\n",
              "      background-color: #3B4455;\n",
              "      fill: #D2E3FC;\n",
              "    }\n",
              "\n",
              "    [theme=dark] .colab-df-convert:hover {\n",
              "      background-color: #434B5C;\n",
              "      box-shadow: 0px 1px 3px 1px rgba(0, 0, 0, 0.15);\n",
              "      filter: drop-shadow(0px 1px 2px rgba(0, 0, 0, 0.3));\n",
              "      fill: #FFFFFF;\n",
              "    }\n",
              "  </style>\n",
              "\n",
              "      <script>\n",
              "        const buttonEl =\n",
              "          document.querySelector('#df-7880c5a8-d12a-40a2-93ab-74dc6830ee37 button.colab-df-convert');\n",
              "        buttonEl.style.display =\n",
              "          google.colab.kernel.accessAllowed ? 'block' : 'none';\n",
              "\n",
              "        async function convertToInteractive(key) {\n",
              "          const element = document.querySelector('#df-7880c5a8-d12a-40a2-93ab-74dc6830ee37');\n",
              "          const dataTable =\n",
              "            await google.colab.kernel.invokeFunction('convertToInteractive',\n",
              "                                                     [key], {});\n",
              "          if (!dataTable) return;\n",
              "\n",
              "          const docLinkHtml = 'Like what you see? Visit the ' +\n",
              "            '<a target=\"_blank\" href=https://colab.research.google.com/notebooks/data_table.ipynb>data table notebook</a>'\n",
              "            + ' to learn more about interactive tables.';\n",
              "          element.innerHTML = '';\n",
              "          dataTable['output_type'] = 'display_data';\n",
              "          await google.colab.output.renderOutput(dataTable, element);\n",
              "          const docLink = document.createElement('div');\n",
              "          docLink.innerHTML = docLinkHtml;\n",
              "          element.appendChild(docLink);\n",
              "        }\n",
              "      </script>\n",
              "    </div>\n",
              "  </div>\n",
              "  "
            ],
            "text/plain": [
              "             tweet_id airline_sentiment  airline_sentiment_confidence  \\\n",
              "0  570306133677760513           neutral                        1.0000   \n",
              "1  570301130888122368          positive                        0.3486   \n",
              "2  570301083672813571           neutral                        0.6837   \n",
              "3  570301031407624196          negative                        1.0000   \n",
              "4  570300817074462722          negative                        1.0000   \n",
              "\n",
              "  negativereason  negativereason_confidence         airline  \\\n",
              "0            NaN                        NaN  Virgin America   \n",
              "1            NaN                     0.0000  Virgin America   \n",
              "2            NaN                        NaN  Virgin America   \n",
              "3     Bad Flight                     0.7033  Virgin America   \n",
              "4     Can't Tell                     1.0000  Virgin America   \n",
              "\n",
              "  airline_sentiment_gold        name negativereason_gold  retweet_count  \\\n",
              "0                    NaN     cairdin                 NaN              0   \n",
              "1                    NaN    jnardino                 NaN              0   \n",
              "2                    NaN  yvonnalynn                 NaN              0   \n",
              "3                    NaN    jnardino                 NaN              0   \n",
              "4                    NaN    jnardino                 NaN              0   \n",
              "\n",
              "                                                text tweet_coord  \\\n",
              "0                @VirginAmerica What @dhepburn said.         NaN   \n",
              "1  @VirginAmerica plus you've added commercials t...         NaN   \n",
              "2  @VirginAmerica I didn't today... Must mean I n...         NaN   \n",
              "3  @VirginAmerica it's really aggressive to blast...         NaN   \n",
              "4  @VirginAmerica and it's a really big bad thing...         NaN   \n",
              "\n",
              "               tweet_created tweet_location               user_timezone  \n",
              "0  2015-02-24 11:35:52 -0800            NaN  Eastern Time (US & Canada)  \n",
              "1  2015-02-24 11:15:59 -0800            NaN  Pacific Time (US & Canada)  \n",
              "2  2015-02-24 11:15:48 -0800      Lets Play  Central Time (US & Canada)  \n",
              "3  2015-02-24 11:15:36 -0800            NaN  Pacific Time (US & Canada)  \n",
              "4  2015-02-24 11:14:45 -0800            NaN  Pacific Time (US & Canada)  "
            ]
          },
          "execution_count": 56,
          "metadata": {},
          "output_type": "execute_result"
        }
      ],
      "source": [
        "# airline_tweets_df.head()"
      ]
    },
    {
      "cell_type": "markdown",
      "metadata": {
        "id": "Rv1PhJN3qU1G"
      },
      "source": [
        ">> ### Basic EDA"
      ]
    },
    {
      "cell_type": "code",
      "execution_count": null,
      "metadata": {
        "id": "8QkHXjMVqQ2v"
      },
      "outputs": [],
      "source": [
        "# plot params\n",
        "# plot_size = plt.rcParams[\"figure.figsize\"] \n",
        "# plot_size[0] = 8\n",
        "# plot_size[1] = 6\n",
        "# plt.rcParams[\"figure.figsize\"] = plot_size \n"
      ]
    },
    {
      "cell_type": "code",
      "execution_count": null,
      "metadata": {
        "colab": {
          "base_uri": "https://localhost:8080/",
          "height": 592
        },
        "id": "FTa2GtCYqgrL",
        "outputId": "67f469cb-4b14-4379-9b1d-7426bc4fc247"
      },
      "outputs": [
        {
          "data": {
            "text/plain": [
              "<matplotlib.axes._subplots.AxesSubplot at 0x7f3da0f0ca90>"
            ]
          },
          "execution_count": 68,
          "metadata": {},
          "output_type": "execute_result"
        },
        {
          "data": {
            "image/png": "[encoded data removed]",
            "text/plain": [
              "<Figure size 1008x720 with 1 Axes>"
            ]
          },
          "metadata": {},
          "output_type": "display_data"
        }
      ],
      "source": [
        "# number of tweets for each airline\n",
        "# sns.set(rc={'figure.figsize':(14,10)})\n",
        "# airline_tweets_df.airline.value_counts().plot(kind='pie', autopct='%1.0f%%')"
      ]
    },
    {
      "cell_type": "code",
      "execution_count": null,
      "metadata": {
        "colab": {
          "base_uri": "https://localhost:8080/",
          "height": 592
        },
        "id": "ZYlJilS2qxsn",
        "outputId": "9570db50-e3d8-464a-b00f-90ee70f7ad94"
      },
      "outputs": [
        {
          "data": {
            "text/plain": [
              "<matplotlib.axes._subplots.AxesSubplot at 0x7f3d98077350>"
            ]
          },
          "execution_count": 67,
          "metadata": {},
          "output_type": "execute_result"
        },
        {
          "data": {
            "image/png": "[encoded data removed]",
            "text/plain": [
              "<Figure size 1008x720 with 1 Axes>"
            ]
          },
          "metadata": {},
          "output_type": "display_data"
        }
      ],
      "source": [
        "# Distribution of sentiments across all the tweets.\n",
        "# sns.set(rc={'figure.figsize':(14,10)})\n",
        "# airline_tweets_df.airline_sentiment.value_counts().plot(kind='pie', autopct='%1.0f%%', colors=[\"red\", \"yellow\", \"green\"])"
      ]
    },
    {
      "cell_type": "code",
      "execution_count": null,
      "metadata": {
        "colab": {
          "base_uri": "https://localhost:8080/",
          "height": 590
        },
        "id": "pGy6BR_sq9NC",
        "outputId": "01a189c3-38c3-49d9-ee3d-300642c078ae"
      },
      "outputs": [
        {
          "data": {
            "text/plain": [
              "<matplotlib.axes._subplots.AxesSubplot at 0x7f3d97f387d0>"
            ]
          },
          "execution_count": 70,
          "metadata": {},
          "output_type": "execute_result"
        },
        {
          "data": {
            "image/png": "[encoded data removed]",
            "text/plain": [
              "<Figure size 864x576 with 1 Axes>"
            ]
          },
          "metadata": {},
          "output_type": "display_data"
        }
      ],
      "source": [
        "# sns.set(rc={'figure.figsize':(12,8)})\n",
        "# airline_sentiment = airline_tweets_df.groupby(['airline', 'airline_sentiment']).airline_sentiment.count().unstack()\n",
        "# airline_sentiment.plot(kind='bar')"
      ]
    },
    {
      "cell_type": "markdown",
      "metadata": {
        "id": "KaQmqpXIsLgf"
      },
      "source": [
        ">> ### Data Cleaning"
      ]
    },
    {
      "cell_type": "code",
      "execution_count": null,
      "metadata": {
        "id": "gWpHe6tDsN-Z"
      },
      "outputs": [],
      "source": [
        "airline_tweets_df.columns"
      ]
    },
    {
      "cell_type": "code",
      "execution_count": null,
      "metadata": {
        "id": "9FnNVR-vtBLm"
      },
      "outputs": [],
      "source": [
        "# Selecting the feature and the label\n",
        "# features = airline_tweets_df.iloc[:, 10].values\n",
        "# labels = airline_tweets_df.iloc[:, 1].values"
      ]
    },
    {
      "cell_type": "code",
      "execution_count": null,
      "metadata": {
        "id": "LoFm7i1ItH7C"
      },
      "outputs": [],
      "source": [
        "# Data Cleaning using regular expression\n",
        "# processed_features = []\n",
        "\n",
        "# for sentence in range(0, len(features)):\n",
        "#     # Remove all the special characters\n",
        "#     processed_feature = re.sub(r'\\W', ' ', str(features[sentence]))\n",
        "\n",
        "#     # remove all single characters\n",
        "#     processed_feature= re.sub(r'\\s+[a-zA-Z]\\s+', ' ', processed_feature)\n",
        "\n",
        "#     # Remove single characters from the start\n",
        "#     processed_feature = re.sub(r'\\^[a-zA-Z]\\s+', ' ', processed_feature) \n",
        "\n",
        "#     # Substituting multiple spaces with single space\n",
        "#     processed_feature = re.sub(r'\\s+', ' ', processed_feature, flags=re.I)\n",
        "\n",
        "#     # Removing prefixed 'b'\n",
        "#     processed_feature = re.sub(r'^b\\s+', '', processed_feature)\n",
        "\n",
        "#     # Converting to Lowercase\n",
        "#     processed_feature = processed_feature.lower()\n",
        "\n",
        "#     processed_features.append(processed_feature)"
      ]
    },
    {
      "cell_type": "markdown",
      "metadata": {
        "id": "NClfKocjupbx"
      },
      "source": [
        ">> ### Representing Text in Numeric Form"
      ]
    },
    {
      "cell_type": "markdown",
      "metadata": {
        "id": "-V6DlsHDurvM"
      },
      "source": [
        "Statistical algorithms use mathematics to train machine learning models. However, mathematics only work with numbers. To make statistical algorithms work with text, we first have to convert text to numbers. We will be using TF-IDF(Term frequency and Inverse Document frequency.)\n",
        "\n",
        "TF-IDF gives weight for each unique word set. In TF-IDF,  words that occur less in all the documents and more in individual document contribute more towards classification.\n",
        " "
      ]
    },
    {
      "cell_type": "markdown",
      "metadata": {
        "id": "IIa0EaJ2urp8"
      },
      "source": []
    },
    {
      "cell_type": "markdown",
      "metadata": {
        "id": "oYUud0RmujUT"
      },
      "source": [
        "$$\\begin{align}\\frac{\\text{term frequency}}{\\text{document frequency}} &= \\text{term frequency} \\cdot \\frac{1}{\\text{document frequency}} \\\\ &= \\text{term frequency} \\cdot \\text{inverse document frequency} \\\\ &= \\text{tf} \\cdot \\text{idf}\\end{align}$$  \n",
        "  \n",
        "&nbsp;&nbsp;&nbsp;&nbsp;Now, there are more ways used to describe both term frequency and inverse document frequency. But the most common way is by putting them on a logarithmic scale:  \n",
        "  \n",
        "$$tf(t, d) = log(1+f_{t,d})$$  \n",
        "$$idf(t) = log(\\frac{1+N}{1+n_t})$$  \n",
        "  \n",
        "&nbsp;&nbsp;&nbsp;&nbsp;where:  \n",
        "$$\\begin{align}f_{t,d} &= \\text{count of term } \\textbf{t} \\text{ in document } \\textbf{d} \\\\  \n",
        "N &= \\text{total number of documents} \\\\  \n",
        "n_t &= \\text{number of documents that contain term } \\textbf{t}\\end{align}$$  \n",
        "  \n",
        "<b>We added 1 in the first logarithm to avoid getting $-\\infty$ when $f_{t,d}$ is 0. In the second logarithm we added one fake document to avoid division by zero.</b>"
      ]
    },
    {
      "cell_type": "markdown",
      "metadata": {
        "id": "TKBdydcqvMJU"
      },
      "source": [
        "There is Python's Scikit-Learn library contains the TfidfVectorizer class that can be used to convert text features into TF-IDF feature vectors. The following script performs this"
      ]
    },
    {
      "cell_type": "code",
      "execution_count": null,
      "metadata": {
        "id": "SC6myv4JvmbE"
      },
      "outputs": [],
      "source": [
        "# import nltk\n",
        "# nltk.download('stopwords')"
      ]
    },
    {
      "cell_type": "code",
      "execution_count": null,
      "metadata": {
        "id": "yvSsEXnQtSfg"
      },
      "outputs": [],
      "source": [
        "# from nltk.corpus import stopwords\n",
        "# from sklearn.feature_extraction.text import TfidfVectorizer\n",
        "\n",
        "# vectorizer = TfidfVectorizer (max_features=2500, min_df=7, max_df=0.8, stop_words=stopwords.words('english'))\n",
        "# processed_features_vectorized = vectorizer.fit_transform(processed_features).toarray()"
      ]
    },
    {
      "cell_type": "markdown",
      "metadata": {
        "id": "HLYNpKcPvzan"
      },
      "source": [
        ">> ### Train/test split"
      ]
    },
    {
      "cell_type": "code",
      "execution_count": null,
      "metadata": {
        "id": "F9rHh0n5vrVf"
      },
      "outputs": [],
      "source": [
        "# from sklearn.model_selection import train_test_split\n",
        "\n",
        "# X_train, X_test, y_train, y_test = train_test_split(processed_features_vectorized, labels, test_size=0.2, random_state=0)"
      ]
    },
    {
      "cell_type": "markdown",
      "metadata": {
        "id": "l15qnJLTwEsb"
      },
      "source": [
        ">> ### Training the Model"
      ]
    },
    {
      "cell_type": "code",
      "execution_count": null,
      "metadata": {
        "colab": {
          "base_uri": "https://localhost:8080/"
        },
        "id": "aKaDO66ywBmu",
        "outputId": "6a3be270-a41d-4805-a726-0fbaccf401c1"
      },
      "outputs": [
        {
          "data": {
            "text/plain": [
              "RandomForestClassifier(n_estimators=200, random_state=0)"
            ]
          },
          "execution_count": 86,
          "metadata": {},
          "output_type": "execute_result"
        }
      ],
      "source": [
        "# from sklearn.ensemble import RandomForestClassifier\n",
        "\n",
        "# text_classifier = RandomForestClassifier(n_estimators=200, random_state=0)\n",
        "# text_classifier.fit(X_train, y_train)"
      ]
    },
    {
      "cell_type": "markdown",
      "metadata": {
        "id": "v5MnWBorwpyu"
      },
      "source": [
        ">> ### Prediction"
      ]
    },
    {
      "cell_type": "code",
      "execution_count": null,
      "metadata": {
        "id": "yuED_E0_wmr4"
      },
      "outputs": [],
      "source": [
        "# predictions = text_classifier.predict(X_test)"
      ]
    },
    {
      "cell_type": "code",
      "execution_count": null,
      "metadata": {
        "colab": {
          "base_uri": "https://localhost:8080/"
        },
        "id": "LU25Txswuj_1",
        "outputId": "20e82326-e7e4-424d-b9c7-bccd658aa379"
      },
      "outputs": [
        {
          "data": {
            "text/plain": [
              "array(['negative', 'negative', 'negative', 'negative', 'positive',\n",
              "       'negative', 'negative', 'negative', 'negative', 'negative'],\n",
              "      dtype=object)"
            ]
          },
          "execution_count": 91,
          "metadata": {},
          "output_type": "execute_result"
        }
      ],
      "source": [
        "# predictions[:10]"
      ]
    },
    {
      "cell_type": "markdown",
      "metadata": {
        "id": "lMVf3NL8xAbn"
      },
      "source": [
        ">> ### Evaluation\n"
      ]
    },
    {
      "cell_type": "code",
      "execution_count": null,
      "metadata": {
        "colab": {
          "base_uri": "https://localhost:8080/"
        },
        "id": "RCAgOi-1w-gk",
        "outputId": "b63abe41-e736-4e3a-829d-e8cb0ae3a3bc"
      },
      "outputs": [
        {
          "name": "stdout",
          "output_type": "stream",
          "text": [
            "0.7599043715846995\n"
          ]
        }
      ],
      "source": [
        "# from sklearn.metrics import accuracy_score\n",
        "\n",
        "# print(accuracy_score(y_test, predictions))"
      ]
    },
    {
      "cell_type": "markdown",
      "metadata": {
        "id": "CXAOwF0cA_8D"
      },
      "source": [
        "## References\n",
        "\n",
        "<sup>(1)</sup> &nbsp;[Sentiment Analysis - Wikipedia](https://en.wikipedia.org/wiki/Sentiment_analysis)  \n",
        "<sup>(1)</sup> &nbsp;[Sentiment Analysis - Airline tweet sentiment analysis with sckit-learn](https://stackabuse.com/python-for-nlp-sentiment-analysis-with-scikit-learn/)  \n",
        "<sup>(2)</sup> &nbsp;[Learning Word Vectors for Sentiment Analysis](http://ai.stanford.edu/~amaas/papers/wvSent_acl2011.pdf)  \n",
        "<sup>(3)</sup> &nbsp;[Bag-of-words model - Wikipedia](https://en.wikipedia.org/wiki/Bag-of-words_model)  \n",
        "<sup>(4)</sup> &nbsp;[Tf-idf - Wikipedia](https://en.wikipedia.org/wiki/Tf%E2%80%93idf)  \n",
        "<sup>(5)</sup> &nbsp;[TfidfTransformer - Scikit-learn documentation](https://scikit-learn.org/stable/modules/generated/sklearn.feature_extraction.text.TfidfTransformer.html)  \n",
        "<sup>(6)</sup> &nbsp;[Stop words - Wikipedia](https://en.wikipedia.org/wiki/Stop_words)  \n",
        "<sup>(7)</sup> &nbsp;[A list of English stopwords](https://gist.github.com/sebleier/554280)  \n",
        "<sup>(8)</sup> &nbsp;[CountVectorizer - Scikit-learn documentation](https://scikit-learn.org/stable/modules/generated/sklearn.feature_extraction.text.CountVectorizer.html)  \n",
        "<sup>(9)</sup> &nbsp;[Scipy sparse matrices](https://docs.scipy.org/doc/scipy/reference/sparse.html)  \n",
        "<sup>(10)</sup> [Compressed Sparse Row matrix](https://docs.scipy.org/doc/scipy/reference/generated/scipy.sparse.csr_matrix.html#scipy.sparse.csr_matrix)  \n",
        "<sup>(11)</sup> [SGDClassifier - Scikit-learn documentation](https://scikit-learn.org/stable/modules/generated/sklearn.linear_model.SGDClassifier.html)  \n",
        "<sup>(12)</sup> [RandomizedSearchCV - Scikit-learn documentation](https://scikit-learn.org/stable/modules/generated/sklearn.model_selection.RandomizedSearchCV.html)  \n",
        "<sup>(13)</sup> [Sentiment Classification using Document Embeddings trained with\n",
        "Cosine Similarity](https://www.aclweb.org/anthology/P19-2057.pdf)  "
      ]
    }
  ],
  "metadata": {
    "colab": {
      "collapsed_sections": [],
      "name": "Modeling_Twitter.ipynb",
      "provenance": []
    },
    "kernelspec": {
      "display_name": "Python 3.8.5 ('storeFront-V2DFqIRB')",
      "language": "python",
      "name": "python3"
    },
    "language_info": {
      "codemirror_mode": {
        "name": "ipython",
        "version": 3
      },
      "file_extension": ".py",
      "mimetype": "text/x-python",
      "name": "python",
      "nbconvert_exporter": "python",
      "pygments_lexer": "ipython3",
      "version": "3.8.5"
    },
    "vscode": {
      "interpreter": {
        "hash": "06776567ab883a2c3c8f8bfd069449d009c72850678d035532aeec46d1688dbc"
      }
    }
  },
  "nbformat": 4,
  "nbformat_minor": 0
}
