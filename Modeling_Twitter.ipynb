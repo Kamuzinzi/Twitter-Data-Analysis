{
  "cells": [
    {
      "cell_type": "markdown",
      "metadata": {
        "id": "XwFOba1pbdVc"
      },
      "source": [
        "## **Objective **\n",
        "### Social Media Tweet Analysis on Twitter Dataset\n",
        "*   Topic Modeling on Twitter Dataset\n",
        "\n",
        "\n",
        "*   Reference for [Topic modeling ](https://towardsdatascience.com/topic-modeling-and-latent-dirichlet-allocation-in-python-9bf156893c24)\n",
        "\n",
        "*   Sentiment analysis on Twitter Dataset\n",
        "\n"
      ]
    },
    {
      "cell_type": "markdown",
      "metadata": {
        "id": "SN9Lla4UO1SS"
      },
      "source": [
        "\n",
        "\n",
        "\n",
        "\n",
        "\n",
        "### **Business understanding**"
      ]
    },
    {
      "cell_type": "markdown",
      "metadata": {
        "id": "Dbu9rgu4iSTe"
      },
      "source": [
        "### **Topic modeling**\n",
        "Topic modeling is a type of statistical model for discovering the abstract \"topics\" that occur in a collection of texts.\n",
        "\n",
        " **Topic models** are built around the idea that the semantics of our document are actually being governed by some hidden, or “latent,” variables that we are not observing.\n",
        "\n",
        "It is an unsupervised approach used for finding and observing the bunch of words (called “topics”) in large clusters of texts.\n",
        "\n",
        "The important libraries used to perform the Topic Modeling are: Pandas, Gensim, pyLDAvis\n",
        "\n",
        "*   Our task here is to discover abstract topics from tweets.\n",
        "\n",
        "\n",
        "### **Sentiment analysis**\n",
        " It is used in social media monitoring, allowing businesses to gain insights about how customers feel about certain topics, and detect urgent issues in real time before they spiral out of control.\n",
        "\n",
        "\n",
        "*   Our task here is to classify a tweet as a positive or negative tweet sentiment wise.\n",
        "\n",
        "\n"
      ]
    },
    {
      "cell_type": "code",
      "execution_count": null,
      "metadata": {
        "id": "Vsmv5wkz0VFu"
      },
      "outputs": [],
      "source": []
    },
    {
      "cell_type": "markdown",
      "metadata": {
        "id": "REuN7elQ0Vvr"
      },
      "source": [
        "**Topic modeling **is a machine learning technique that automatically analyzes text data to determine cluster words for a set of documents. \n",
        "\n",
        "\n",
        "*   unsupervised machine learning because it doesn’t require a predefined list of tags or training data that’s been previously classified by humans.\n",
        "*   doesn’t require training, it’s a quick and easy way to start analyzing your data."
      ]
    },
    {
      "cell_type": "markdown",
      "metadata": {
        "id": "hQuEQFUIy2_3"
      },
      "source": [
        "## Data Understanding\n",
        "### Loading necessary packages"
      ]
    },
    {
      "cell_type": "code",
      "execution_count": 1,
      "metadata": {
        "id": "CTUmMBAOyt-g"
      },
      "outputs": [],
      "source": [
        "import warnings\n",
        "warnings.filterwarnings('ignore')\n",
        "import matplotlib.pyplot as plt\n",
        "import seaborn as sns\n",
        "import gensim\n",
        "from gensim.models import CoherenceModel\n",
        "from gensim import corpora\n",
        "import pandas as pd\n",
        "from pprint import pprint\n",
        "import string\n",
        "import os\n",
        "import re"
      ]
    },
    {
      "cell_type": "markdown",
      "metadata": {
        "id": "J4_9Y5q6zOK-"
      },
      "source": [
        "Data acquisition\n",
        "\n",
        "For this example we have two option for data acquisition:\n",
        "\n",
        "*   You can download Twitter dataset directly from Twitter\n",
        "*   By registering as a developer using this link [Here](https://developer.twitter.com/en) \n",
        "\n",
        "*   Or you can use downloaded data found at Week0/data/cleaned_fintech_data.csv \n",
        "\n"
      ]
    },
    {
      "cell_type": "code",
      "execution_count": null,
      "metadata": {
        "colab": {
          "base_uri": "https://localhost:8080/"
        },
        "id": "2wFXGgT1xe80",
        "outputId": "4d6cad52-245e-4492-a0a2-5210a613d1b5"
      },
      "outputs": [
        {
          "name": "stdout",
          "output_type": "stream",
          "text": [
            "Drive already mounted at /content/drive; to attempt to forcibly remount, call drive.mount(\"/content/drive\", force_remount=True).\n"
          ]
        }
      ],
      "source": [
        "# from google.colab import drive\n",
        "# drive.mount('/content/drive')"
      ]
    },
    {
      "cell_type": "code",
      "execution_count": 2,
      "metadata": {
        "id": "BQC4abqKkjIO"
      },
      "outputs": [],
      "source": [
        "# #data loader class\n",
        "# class DataLoader:\n",
        "#   def __init__(self,dir_name,file_name):\n",
        "#     self.dir_name=dir_name\n",
        "#     self.file_name = file_name\n",
        "    \n",
        " \n",
        "#   def read_csv(self):\n",
        "#     os.chdir(self.dir_name)\n",
        "#     tweets_df=pd.read_csv(self.file_name)\n",
        "#     return tweets_df\n",
        "  \n",
        "    "
      ]
    },
    {
      "cell_type": "code",
      "execution_count": null,
      "metadata": {
        "id": "U3mUs9wfqbJJ"
      },
      "outputs": [],
      "source": [
        "#object creation\n",
        "# DataLoader_obj= DataLoader('drive/MyDrive/data','cleaned_fintech_data.csv')\n"
      ]
    },
    {
      "cell_type": "code",
      "execution_count": 6,
      "metadata": {
        "colab": {
          "base_uri": "https://localhost:8080/",
          "height": 160
        },
        "id": "aE9Bs0UxrG5z",
        "outputId": "5f317851-601b-4179-c303-1069017bc86e"
      },
      "outputs": [
        {
          "data": {
            "text/html": [
              "<div>\n",
              "<style scoped>\n",
              "    .dataframe tbody tr th:only-of-type {\n",
              "        vertical-align: middle;\n",
              "    }\n",
              "\n",
              "    .dataframe tbody tr th {\n",
              "        vertical-align: top;\n",
              "    }\n",
              "\n",
              "    .dataframe thead th {\n",
              "        text-align: right;\n",
              "    }\n",
              "</style>\n",
              "<table border=\"1\" class=\"dataframe\">\n",
              "  <thead>\n",
              "    <tr style=\"text-align: right;\">\n",
              "      <th></th>\n",
              "      <th>created_at</th>\n",
              "      <th>source</th>\n",
              "      <th>original_text</th>\n",
              "      <th>polarity</th>\n",
              "      <th>subjectivity</th>\n",
              "      <th>lang</th>\n",
              "      <th>favorite_count</th>\n",
              "      <th>retweet_count</th>\n",
              "      <th>original_author</th>\n",
              "      <th>followers_count</th>\n",
              "      <th>friends_count</th>\n",
              "      <th>possibly_sensitive</th>\n",
              "      <th>hashtags</th>\n",
              "      <th>user_mentions</th>\n",
              "      <th>place</th>\n",
              "    </tr>\n",
              "  </thead>\n",
              "  <tbody>\n",
              "    <tr>\n",
              "      <th>2</th>\n",
              "      <td>Tue Aug 02 15:02:35 +0000 2022</td>\n",
              "      <td>&lt;a href=\"http://twitter.com/download/android\" ...</td>\n",
              "      <td>#Pelosi \\n#Taipei \\n#taiwan\\n#XiJinping \\n#Chi...</td>\n",
              "      <td>0.000000</td>\n",
              "      <td>0.000000</td>\n",
              "      <td>en</td>\n",
              "      <td>2</td>\n",
              "      <td>0</td>\n",
              "      <td>NassimaLilEmy</td>\n",
              "      <td>64</td>\n",
              "      <td>47</td>\n",
              "      <td>False</td>\n",
              "      <td>{'text': 'NATO', 'indices': [189, 194]}</td>\n",
              "      <td>{'screen_name': 'PeterObi', 'name': 'Peter Obi...</td>\n",
              "      <td>Algérie</td>\n",
              "    </tr>\n",
              "    <tr>\n",
              "      <th>3</th>\n",
              "      <td>Mon Aug 01 13:51:42 +0000 2022</td>\n",
              "      <td>&lt;a href=\"http://twitter.com/download/android\" ...</td>\n",
              "      <td>#HOBIPALOOZA #LaAcademiaExpulsion #WEURO2022 #...</td>\n",
              "      <td>0.433333</td>\n",
              "      <td>0.733333</td>\n",
              "      <td>en</td>\n",
              "      <td>0</td>\n",
              "      <td>0</td>\n",
              "      <td>d_dhayae</td>\n",
              "      <td>60</td>\n",
              "      <td>463</td>\n",
              "      <td>False</td>\n",
              "      <td>{'text': '5G', 'indices': [197, 200]}</td>\n",
              "      <td>{'screen_name': 'BBCWorld', 'name': 'BBC News ...</td>\n",
              "      <td>Chlef</td>\n",
              "    </tr>\n",
              "    <tr>\n",
              "      <th>4</th>\n",
              "      <td>Sun Jul 31 20:02:20 +0000 2022</td>\n",
              "      <td>&lt;a href=\"http://twitter.com/download/android\" ...</td>\n",
              "      <td>#Pelosi\\n#china\\nChina Time ✌️ https://t.co/tE...</td>\n",
              "      <td>0.000000</td>\n",
              "      <td>0.000000</td>\n",
              "      <td>en</td>\n",
              "      <td>2</td>\n",
              "      <td>0</td>\n",
              "      <td>Mohamme65404115</td>\n",
              "      <td>39</td>\n",
              "      <td>206</td>\n",
              "      <td>False</td>\n",
              "      <td>{'text': 'Pelosi', 'indices': [149, 156]}</td>\n",
              "      <td>{'screen_name': 'SpeakerPelosi', 'name': 'Nanc...</td>\n",
              "      <td>Algérie</td>\n",
              "    </tr>\n",
              "    <tr>\n",
              "      <th>5</th>\n",
              "      <td>Sun Jul 31 13:22:22 +0000 2022</td>\n",
              "      <td>&lt;a href=\"http://twitter.com/download/android\" ...</td>\n",
              "      <td>V382 Intro Logo Animation Blue Smoke 💙\\n\\nIf y...</td>\n",
              "      <td>0.169841</td>\n",
              "      <td>0.350397</td>\n",
              "      <td>en</td>\n",
              "      <td>1</td>\n",
              "      <td>1</td>\n",
              "      <td>Yacine_Kelala8</td>\n",
              "      <td>350</td>\n",
              "      <td>1</td>\n",
              "      <td>False</td>\n",
              "      <td>{'text': 'マツコの知らない世界', 'indices': [157, 168]}</td>\n",
              "      <td>{'screen_name': 'Asabari_CC', 'name': 'Asabari...</td>\n",
              "      <td>États-Unis</td>\n",
              "    </tr>\n",
              "    <tr>\n",
              "      <th>6</th>\n",
              "      <td>Sun Aug 07 05:55:54 +0000 2022</td>\n",
              "      <td>&lt;a href=\"http://twitter.com/download/android\" ...</td>\n",
              "      <td>TWINNING FOR \"AFRO IN SPACE\"🛰️\\n\"SENORITA\" COU...</td>\n",
              "      <td>0.000000</td>\n",
              "      <td>0.000000</td>\n",
              "      <td>en</td>\n",
              "      <td>0</td>\n",
              "      <td>0</td>\n",
              "      <td>drax_africa</td>\n",
              "      <td>559</td>\n",
              "      <td>1280</td>\n",
              "      <td>False</td>\n",
              "      <td>{'text': 'Yediiklim', 'indices': [169, 179]}</td>\n",
              "      <td>{'screen_name': 'IBEDC_NG', 'name': 'IBEDC', '...</td>\n",
              "      <td>Zambia</td>\n",
              "    </tr>\n",
              "    <tr>\n",
              "      <th>...</th>\n",
              "      <td>...</td>\n",
              "      <td>...</td>\n",
              "      <td>...</td>\n",
              "      <td>...</td>\n",
              "      <td>...</td>\n",
              "      <td>...</td>\n",
              "      <td>...</td>\n",
              "      <td>...</td>\n",
              "      <td>...</td>\n",
              "      <td>...</td>\n",
              "      <td>...</td>\n",
              "      <td>...</td>\n",
              "      <td>...</td>\n",
              "      <td>...</td>\n",
              "      <td>...</td>\n",
              "    </tr>\n",
              "    <tr>\n",
              "      <th>18999</th>\n",
              "      <td>Tue Aug 02 14:31:55 +0000 2022</td>\n",
              "      <td>&lt;a href=\"http://twitter.com/download/android\" ...</td>\n",
              "      <td>More than 2 Lakh people are tracking US air fo...</td>\n",
              "      <td>0.200000</td>\n",
              "      <td>0.750000</td>\n",
              "      <td>en</td>\n",
              "      <td>3</td>\n",
              "      <td>0</td>\n",
              "      <td>SayNoToRACISMW1</td>\n",
              "      <td>76</td>\n",
              "      <td>204</td>\n",
              "      <td>False</td>\n",
              "      <td>{'text': 'DeFi', 'indices': [167, 172]}</td>\n",
              "      <td>{'screen_name': 'SCMPNews', 'name': 'South Chi...</td>\n",
              "      <td>Nigeria</td>\n",
              "    </tr>\n",
              "    <tr>\n",
              "      <th>19004</th>\n",
              "      <td>Tue Aug 02 14:17:15 +0000 2022</td>\n",
              "      <td>&lt;a href=\"http://twitter.com/download/android\" ...</td>\n",
              "      <td>My name is Victor Joseph, but calling me Valia...</td>\n",
              "      <td>0.350000</td>\n",
              "      <td>0.650000</td>\n",
              "      <td>en</td>\n",
              "      <td>19</td>\n",
              "      <td>1</td>\n",
              "      <td>Valiantjoe1</td>\n",
              "      <td>230</td>\n",
              "      <td>439</td>\n",
              "      <td>False</td>\n",
              "      <td>{'text': 'retweet', 'indices': [74, 82]}</td>\n",
              "      <td>{'screen_name': 'Jewels_MsJay', 'name': 'jewel...</td>\n",
              "      <td>Nigeria</td>\n",
              "    </tr>\n",
              "    <tr>\n",
              "      <th>19006</th>\n",
              "      <td>Tue Aug 02 14:09:25 +0000 2022</td>\n",
              "      <td>&lt;a href=\"http://twitter.com/download/android\" ...</td>\n",
              "      <td>It's good to be proud of the source that pays ...</td>\n",
              "      <td>0.750000</td>\n",
              "      <td>0.800000</td>\n",
              "      <td>en</td>\n",
              "      <td>2</td>\n",
              "      <td>0</td>\n",
              "      <td>itodougo</td>\n",
              "      <td>359</td>\n",
              "      <td>639</td>\n",
              "      <td>False</td>\n",
              "      <td>{'text': 'channelstv', 'indices': [93, 104]}</td>\n",
              "      <td>{'screen_name': 'SecBlinken', 'name': 'Secreta...</td>\n",
              "      <td>Nigeria</td>\n",
              "    </tr>\n",
              "    <tr>\n",
              "      <th>19008</th>\n",
              "      <td>Tue Aug 02 13:56:40 +0000 2022</td>\n",
              "      <td>&lt;a href=\"http://twitter.com/download/iphone\" r...</td>\n",
              "      <td>I can’t believe my eyes 😳💔 \\n\\n#Machala #Pelos...</td>\n",
              "      <td>0.000000</td>\n",
              "      <td>0.000000</td>\n",
              "      <td>en</td>\n",
              "      <td>1</td>\n",
              "      <td>0</td>\n",
              "      <td>bryteazy</td>\n",
              "      <td>102</td>\n",
              "      <td>140</td>\n",
              "      <td>False</td>\n",
              "      <td>{'text': 'osupa', 'indices': [118, 124]}</td>\n",
              "      <td>{'screen_name': 'raffpantucci', 'name': 'Raffa...</td>\n",
              "      <td>Nigeria</td>\n",
              "    </tr>\n",
              "    <tr>\n",
              "      <th>19010</th>\n",
              "      <td>Tue Aug 02 13:45:27 +0000 2022</td>\n",
              "      <td>&lt;a href=\"http://twitter.com/download/android\" ...</td>\n",
              "      <td>COMING SOON\\nYEAR-2023\\n\\nDiscover New, Old an...</td>\n",
              "      <td>0.078788</td>\n",
              "      <td>0.251515</td>\n",
              "      <td>en</td>\n",
              "      <td>13</td>\n",
              "      <td>2</td>\n",
              "      <td>MoviePlusx</td>\n",
              "      <td>2258</td>\n",
              "      <td>2006</td>\n",
              "      <td>False</td>\n",
              "      <td>{'text': 'zackorji', 'indices': [136, 145]}</td>\n",
              "      <td>{'screen_name': 'BNONews', 'name': 'BNO News',...</td>\n",
              "      <td>Nigeria</td>\n",
              "    </tr>\n",
              "  </tbody>\n",
              "</table>\n",
              "<p>14583 rows × 15 columns</p>\n",
              "</div>"
            ],
            "text/plain": [
              "                           created_at  \\\n",
              "2      Tue Aug 02 15:02:35 +0000 2022   \n",
              "3      Mon Aug 01 13:51:42 +0000 2022   \n",
              "4      Sun Jul 31 20:02:20 +0000 2022   \n",
              "5      Sun Jul 31 13:22:22 +0000 2022   \n",
              "6      Sun Aug 07 05:55:54 +0000 2022   \n",
              "...                               ...   \n",
              "18999  Tue Aug 02 14:31:55 +0000 2022   \n",
              "19004  Tue Aug 02 14:17:15 +0000 2022   \n",
              "19006  Tue Aug 02 14:09:25 +0000 2022   \n",
              "19008  Tue Aug 02 13:56:40 +0000 2022   \n",
              "19010  Tue Aug 02 13:45:27 +0000 2022   \n",
              "\n",
              "                                                  source  \\\n",
              "2      <a href=\"http://twitter.com/download/android\" ...   \n",
              "3      <a href=\"http://twitter.com/download/android\" ...   \n",
              "4      <a href=\"http://twitter.com/download/android\" ...   \n",
              "5      <a href=\"http://twitter.com/download/android\" ...   \n",
              "6      <a href=\"http://twitter.com/download/android\" ...   \n",
              "...                                                  ...   \n",
              "18999  <a href=\"http://twitter.com/download/android\" ...   \n",
              "19004  <a href=\"http://twitter.com/download/android\" ...   \n",
              "19006  <a href=\"http://twitter.com/download/android\" ...   \n",
              "19008  <a href=\"http://twitter.com/download/iphone\" r...   \n",
              "19010  <a href=\"http://twitter.com/download/android\" ...   \n",
              "\n",
              "                                           original_text  polarity  \\\n",
              "2      #Pelosi \\n#Taipei \\n#taiwan\\n#XiJinping \\n#Chi...  0.000000   \n",
              "3      #HOBIPALOOZA #LaAcademiaExpulsion #WEURO2022 #...  0.433333   \n",
              "4      #Pelosi\\n#china\\nChina Time ✌️ https://t.co/tE...  0.000000   \n",
              "5      V382 Intro Logo Animation Blue Smoke 💙\\n\\nIf y...  0.169841   \n",
              "6      TWINNING FOR \"AFRO IN SPACE\"🛰️\\n\"SENORITA\" COU...  0.000000   \n",
              "...                                                  ...       ...   \n",
              "18999  More than 2 Lakh people are tracking US air fo...  0.200000   \n",
              "19004  My name is Victor Joseph, but calling me Valia...  0.350000   \n",
              "19006  It's good to be proud of the source that pays ...  0.750000   \n",
              "19008  I can’t believe my eyes 😳💔 \\n\\n#Machala #Pelos...  0.000000   \n",
              "19010  COMING SOON\\nYEAR-2023\\n\\nDiscover New, Old an...  0.078788   \n",
              "\n",
              "       subjectivity lang  favorite_count  retweet_count  original_author  \\\n",
              "2          0.000000   en               2              0    NassimaLilEmy   \n",
              "3          0.733333   en               0              0         d_dhayae   \n",
              "4          0.000000   en               2              0  Mohamme65404115   \n",
              "5          0.350397   en               1              1   Yacine_Kelala8   \n",
              "6          0.000000   en               0              0      drax_africa   \n",
              "...             ...  ...             ...            ...              ...   \n",
              "18999      0.750000   en               3              0  SayNoToRACISMW1   \n",
              "19004      0.650000   en              19              1      Valiantjoe1   \n",
              "19006      0.800000   en               2              0         itodougo   \n",
              "19008      0.000000   en               1              0         bryteazy   \n",
              "19010      0.251515   en              13              2       MoviePlusx   \n",
              "\n",
              "       followers_count  friends_count possibly_sensitive  \\\n",
              "2                   64             47              False   \n",
              "3                   60            463              False   \n",
              "4                   39            206              False   \n",
              "5                  350              1              False   \n",
              "6                  559           1280              False   \n",
              "...                ...            ...                ...   \n",
              "18999               76            204              False   \n",
              "19004              230            439              False   \n",
              "19006              359            639              False   \n",
              "19008              102            140              False   \n",
              "19010             2258           2006              False   \n",
              "\n",
              "                                            hashtags  \\\n",
              "2            {'text': 'NATO', 'indices': [189, 194]}   \n",
              "3              {'text': '5G', 'indices': [197, 200]}   \n",
              "4          {'text': 'Pelosi', 'indices': [149, 156]}   \n",
              "5      {'text': 'マツコの知らない世界', 'indices': [157, 168]}   \n",
              "6       {'text': 'Yediiklim', 'indices': [169, 179]}   \n",
              "...                                              ...   \n",
              "18999        {'text': 'DeFi', 'indices': [167, 172]}   \n",
              "19004       {'text': 'retweet', 'indices': [74, 82]}   \n",
              "19006   {'text': 'channelstv', 'indices': [93, 104]}   \n",
              "19008       {'text': 'osupa', 'indices': [118, 124]}   \n",
              "19010    {'text': 'zackorji', 'indices': [136, 145]}   \n",
              "\n",
              "                                           user_mentions  \\\n",
              "2      {'screen_name': 'PeterObi', 'name': 'Peter Obi...   \n",
              "3      {'screen_name': 'BBCWorld', 'name': 'BBC News ...   \n",
              "4      {'screen_name': 'SpeakerPelosi', 'name': 'Nanc...   \n",
              "5      {'screen_name': 'Asabari_CC', 'name': 'Asabari...   \n",
              "6      {'screen_name': 'IBEDC_NG', 'name': 'IBEDC', '...   \n",
              "...                                                  ...   \n",
              "18999  {'screen_name': 'SCMPNews', 'name': 'South Chi...   \n",
              "19004  {'screen_name': 'Jewels_MsJay', 'name': 'jewel...   \n",
              "19006  {'screen_name': 'SecBlinken', 'name': 'Secreta...   \n",
              "19008  {'screen_name': 'raffpantucci', 'name': 'Raffa...   \n",
              "19010  {'screen_name': 'BNONews', 'name': 'BNO News',...   \n",
              "\n",
              "                                place  \n",
              "2                             Algérie  \n",
              "3      Chlef                           \n",
              "4                             Algérie  \n",
              "5                          États-Unis  \n",
              "6                              Zambia  \n",
              "...                               ...  \n",
              "18999                         Nigeria  \n",
              "19004                         Nigeria  \n",
              "19006                         Nigeria  \n",
              "19008                         Nigeria  \n",
              "19010                         Nigeria  \n",
              "\n",
              "[14583 rows x 15 columns]"
            ]
          },
          "execution_count": 6,
          "metadata": {},
          "output_type": "execute_result"
        }
      ],
      "source": [
        "# tweets_df=DataLoader_obj.read_csv()\n",
        "tweets_df = pd.read_csv(\"processed_tweet_data.csv\")\n",
        "tweets_df.dropna()\n"
      ]
    },
    {
      "cell_type": "code",
      "execution_count": 7,
      "metadata": {
        "colab": {
          "base_uri": "https://localhost:8080/"
        },
        "id": "31p0WZaVQbDG",
        "outputId": "8a410c90-fe98-4c1d-dca4-c04ee9c50c61"
      },
      "outputs": [
        {
          "data": {
            "text/plain": [
              "19011"
            ]
          },
          "execution_count": 7,
          "metadata": {},
          "output_type": "execute_result"
        }
      ],
      "source": [
        "len(tweets_df)"
      ]
    },
    {
      "cell_type": "code",
      "execution_count": 8,
      "metadata": {
        "colab": {
          "base_uri": "https://localhost:8080/",
          "height": 612
        },
        "id": "zmNkqAN62FJM",
        "outputId": "b9233fa0-dbfc-4d96-934c-1b1eedf4d53e"
      },
      "outputs": [
        {
          "data": {
            "text/html": [
              "<div>\n",
              "<style scoped>\n",
              "    .dataframe tbody tr th:only-of-type {\n",
              "        vertical-align: middle;\n",
              "    }\n",
              "\n",
              "    .dataframe tbody tr th {\n",
              "        vertical-align: top;\n",
              "    }\n",
              "\n",
              "    .dataframe thead th {\n",
              "        text-align: right;\n",
              "    }\n",
              "</style>\n",
              "<table border=\"1\" class=\"dataframe\">\n",
              "  <thead>\n",
              "    <tr style=\"text-align: right;\">\n",
              "      <th></th>\n",
              "      <th>created_at</th>\n",
              "      <th>source</th>\n",
              "      <th>original_text</th>\n",
              "      <th>polarity</th>\n",
              "      <th>subjectivity</th>\n",
              "      <th>lang</th>\n",
              "      <th>favorite_count</th>\n",
              "      <th>retweet_count</th>\n",
              "      <th>original_author</th>\n",
              "      <th>followers_count</th>\n",
              "      <th>friends_count</th>\n",
              "      <th>possibly_sensitive</th>\n",
              "      <th>hashtags</th>\n",
              "      <th>user_mentions</th>\n",
              "      <th>place</th>\n",
              "    </tr>\n",
              "  </thead>\n",
              "  <tbody>\n",
              "    <tr>\n",
              "      <th>0</th>\n",
              "      <td>Wed Aug 03 20:19:13 +0000 2022</td>\n",
              "      <td>&lt;a href=\"http://twitter.com/download/android\" ...</td>\n",
              "      <td>#Pelosi airplane landed safely in #Taiwan 🇹🇼  ...</td>\n",
              "      <td>0.300000</td>\n",
              "      <td>0.203571</td>\n",
              "      <td>en</td>\n",
              "      <td>0</td>\n",
              "      <td>0</td>\n",
              "      <td>DzCritical</td>\n",
              "      <td>318</td>\n",
              "      <td>373</td>\n",
              "      <td>NaN</td>\n",
              "      <td>{'text': 'Pelosi', 'indices': [0, 7]}</td>\n",
              "      <td>{'screen_name': 'flightradar24', 'name': 'Flig...</td>\n",
              "      <td>Algérie</td>\n",
              "    </tr>\n",
              "    <tr>\n",
              "      <th>1</th>\n",
              "      <td>Tue Aug 02 15:24:42 +0000 2022</td>\n",
              "      <td>&lt;a href=\"https://mobile.twitter.com\" rel=\"nofo...</td>\n",
              "      <td>Watch the video of the beginning of the Chines...</td>\n",
              "      <td>0.000000</td>\n",
              "      <td>0.000000</td>\n",
              "      <td>en</td>\n",
              "      <td>3</td>\n",
              "      <td>0</td>\n",
              "      <td>toopsat</td>\n",
              "      <td>764</td>\n",
              "      <td>144</td>\n",
              "      <td>False</td>\n",
              "      <td>{'text': 'Taiwan', 'indices': [34, 41]}</td>\n",
              "      <td>{'screen_name': 'renoomokri', 'name': 'Reno Om...</td>\n",
              "      <td>NaN</td>\n",
              "    </tr>\n",
              "    <tr>\n",
              "      <th>2</th>\n",
              "      <td>Tue Aug 02 15:02:35 +0000 2022</td>\n",
              "      <td>&lt;a href=\"http://twitter.com/download/android\" ...</td>\n",
              "      <td>#Pelosi \\n#Taipei \\n#taiwan\\n#XiJinping \\n#Chi...</td>\n",
              "      <td>0.000000</td>\n",
              "      <td>0.000000</td>\n",
              "      <td>en</td>\n",
              "      <td>2</td>\n",
              "      <td>0</td>\n",
              "      <td>NassimaLilEmy</td>\n",
              "      <td>64</td>\n",
              "      <td>47</td>\n",
              "      <td>False</td>\n",
              "      <td>{'text': 'NATO', 'indices': [189, 194]}</td>\n",
              "      <td>{'screen_name': 'PeterObi', 'name': 'Peter Obi...</td>\n",
              "      <td>Algérie</td>\n",
              "    </tr>\n",
              "    <tr>\n",
              "      <th>3</th>\n",
              "      <td>Mon Aug 01 13:51:42 +0000 2022</td>\n",
              "      <td>&lt;a href=\"http://twitter.com/download/android\" ...</td>\n",
              "      <td>#HOBIPALOOZA #LaAcademiaExpulsion #WEURO2022 #...</td>\n",
              "      <td>0.433333</td>\n",
              "      <td>0.733333</td>\n",
              "      <td>en</td>\n",
              "      <td>0</td>\n",
              "      <td>0</td>\n",
              "      <td>d_dhayae</td>\n",
              "      <td>60</td>\n",
              "      <td>463</td>\n",
              "      <td>False</td>\n",
              "      <td>{'text': '5G', 'indices': [197, 200]}</td>\n",
              "      <td>{'screen_name': 'BBCWorld', 'name': 'BBC News ...</td>\n",
              "      <td>Chlef</td>\n",
              "    </tr>\n",
              "    <tr>\n",
              "      <th>4</th>\n",
              "      <td>Sun Jul 31 20:02:20 +0000 2022</td>\n",
              "      <td>&lt;a href=\"http://twitter.com/download/android\" ...</td>\n",
              "      <td>#Pelosi\\n#china\\nChina Time ✌️ https://t.co/tE...</td>\n",
              "      <td>0.000000</td>\n",
              "      <td>0.000000</td>\n",
              "      <td>en</td>\n",
              "      <td>2</td>\n",
              "      <td>0</td>\n",
              "      <td>Mohamme65404115</td>\n",
              "      <td>39</td>\n",
              "      <td>206</td>\n",
              "      <td>False</td>\n",
              "      <td>{'text': 'Pelosi', 'indices': [149, 156]}</td>\n",
              "      <td>{'screen_name': 'SpeakerPelosi', 'name': 'Nanc...</td>\n",
              "      <td>Algérie</td>\n",
              "    </tr>\n",
              "  </tbody>\n",
              "</table>\n",
              "</div>"
            ],
            "text/plain": [
              "                       created_at  \\\n",
              "0  Wed Aug 03 20:19:13 +0000 2022   \n",
              "1  Tue Aug 02 15:24:42 +0000 2022   \n",
              "2  Tue Aug 02 15:02:35 +0000 2022   \n",
              "3  Mon Aug 01 13:51:42 +0000 2022   \n",
              "4  Sun Jul 31 20:02:20 +0000 2022   \n",
              "\n",
              "                                              source  \\\n",
              "0  <a href=\"http://twitter.com/download/android\" ...   \n",
              "1  <a href=\"https://mobile.twitter.com\" rel=\"nofo...   \n",
              "2  <a href=\"http://twitter.com/download/android\" ...   \n",
              "3  <a href=\"http://twitter.com/download/android\" ...   \n",
              "4  <a href=\"http://twitter.com/download/android\" ...   \n",
              "\n",
              "                                       original_text  polarity  subjectivity  \\\n",
              "0  #Pelosi airplane landed safely in #Taiwan 🇹🇼  ...  0.300000      0.203571   \n",
              "1  Watch the video of the beginning of the Chines...  0.000000      0.000000   \n",
              "2  #Pelosi \\n#Taipei \\n#taiwan\\n#XiJinping \\n#Chi...  0.000000      0.000000   \n",
              "3  #HOBIPALOOZA #LaAcademiaExpulsion #WEURO2022 #...  0.433333      0.733333   \n",
              "4  #Pelosi\\n#china\\nChina Time ✌️ https://t.co/tE...  0.000000      0.000000   \n",
              "\n",
              "  lang  favorite_count  retweet_count  original_author  followers_count  \\\n",
              "0   en               0              0       DzCritical              318   \n",
              "1   en               3              0          toopsat              764   \n",
              "2   en               2              0    NassimaLilEmy               64   \n",
              "3   en               0              0         d_dhayae               60   \n",
              "4   en               2              0  Mohamme65404115               39   \n",
              "\n",
              "   friends_count possibly_sensitive  \\\n",
              "0            373                NaN   \n",
              "1            144              False   \n",
              "2             47              False   \n",
              "3            463              False   \n",
              "4            206              False   \n",
              "\n",
              "                                    hashtags  \\\n",
              "0      {'text': 'Pelosi', 'indices': [0, 7]}   \n",
              "1    {'text': 'Taiwan', 'indices': [34, 41]}   \n",
              "2    {'text': 'NATO', 'indices': [189, 194]}   \n",
              "3      {'text': '5G', 'indices': [197, 200]}   \n",
              "4  {'text': 'Pelosi', 'indices': [149, 156]}   \n",
              "\n",
              "                                       user_mentions  \\\n",
              "0  {'screen_name': 'flightradar24', 'name': 'Flig...   \n",
              "1  {'screen_name': 'renoomokri', 'name': 'Reno Om...   \n",
              "2  {'screen_name': 'PeterObi', 'name': 'Peter Obi...   \n",
              "3  {'screen_name': 'BBCWorld', 'name': 'BBC News ...   \n",
              "4  {'screen_name': 'SpeakerPelosi', 'name': 'Nanc...   \n",
              "\n",
              "                            place  \n",
              "0                         Algérie  \n",
              "1                             NaN  \n",
              "2                         Algérie  \n",
              "3  Chlef                           \n",
              "4                         Algérie  "
            ]
          },
          "execution_count": 8,
          "metadata": {},
          "output_type": "execute_result"
        }
      ],
      "source": [
        "tweets_df.head()"
      ]
    },
    {
      "cell_type": "code",
      "execution_count": 11,
      "metadata": {},
      "outputs": [
        {
          "data": {
            "text/plain": [
              "Index(['created_at', 'source', 'original_text', 'polarity', 'subjectivity',\n",
              "       'lang', 'favorite_count', 'retweet_count', 'original_author',\n",
              "       'followers_count', 'friends_count', 'possibly_sensitive', 'hashtags',\n",
              "       'user_mentions', 'place'],\n",
              "      dtype='object')"
            ]
          },
          "execution_count": 11,
          "metadata": {},
          "output_type": "execute_result"
        }
      ],
      "source": [
        "tweets_df.columns"
      ]
    },
    {
      "cell_type": "code",
      "execution_count": 12,
      "metadata": {},
      "outputs": [],
      "source": [
        "tweets_df.columns = tweets_df.columns.str.replace('original_text', 'clean_text')"
      ]
    },
    {
      "cell_type": "code",
      "execution_count": 13,
      "metadata": {},
      "outputs": [
        {
          "data": {
            "text/plain": [
              "Index(['created_at', 'source', 'clean_text', 'polarity', 'subjectivity',\n",
              "       'lang', 'favorite_count', 'retweet_count', 'original_author',\n",
              "       'followers_count', 'friends_count', 'possibly_sensitive', 'hashtags',\n",
              "       'user_mentions', 'place'],\n",
              "      dtype='object')"
            ]
          },
          "execution_count": 13,
          "metadata": {},
          "output_type": "execute_result"
        }
      ],
      "source": [
        "tweets_df.columns\t\n"
      ]
    },
    {
      "cell_type": "code",
      "execution_count": 14,
      "metadata": {
        "id": "zoI1crVvCCxY"
      },
      "outputs": [],
      "source": [
        "class PrepareData:\n",
        "  def __init__(self,df):\n",
        "    self.df=df\n",
        "    \n",
        "  def preprocess_data(self):\n",
        "    tweets_df = self.df.loc[self.df['lang'] ==\"en\"]\n",
        "\n",
        "    \n",
        "    #text Preprocessing\n",
        "    tweets_df['clean_text'] = tweets_df['clean_text'].astype(str)\n",
        "    tweets_df['clean_text'] = tweets_df['clean_text'].apply(lambda x: x.lower())\n",
        "    tweets_df['clean_text'] = tweets_df['clean_text'].apply(lambda x: x.translate(str.maketrans(' ', ' ', string.punctuation)))\n",
        "    \n",
        "    #Converting tweets to list of words For feature engineering\n",
        "    sentence_list = [tweet for tweet in tweets_df['clean_text']]\n",
        "    word_list = [sent.split() for sent in sentence_list]\n",
        "    # print(word_list)\n",
        "\n",
        "    #Create dictionary which contains Id and word \n",
        "    word_to_id = corpora.Dictionary(word_list) #generate unique tokens\n",
        "    #  we can see the word to unique integer mapping\n",
        "    # print(word_to_id.token2id)\n",
        "    # using bag of words(bow), we create a corpus that contains the word id and its frequency in each document.\n",
        "    corpus_1= [word_to_id.doc2bow(tweet) for tweet in word_list]\n",
        "    # TFIDF\n",
        "\n",
        "    return word_list, word_to_id, corpus_1\n"
      ]
    },
    {
      "cell_type": "code",
      "execution_count": 15,
      "metadata": {
        "id": "YNvtCNYKEKco"
      },
      "outputs": [],
      "source": [
        "PrepareData_obj=PrepareData(tweets_df)\n",
        "word_list ,id2word,corpus=PrepareData_obj.preprocess_data()"
      ]
    },
    {
      "cell_type": "code",
      "execution_count": null,
      "metadata": {
        "colab": {
          "base_uri": "https://localhost:8080/"
        },
        "id": "-ceERRPlFp9K",
        "outputId": "a6dff24e-5eda-4da5-c3b1-9216025c5e25"
      },
      "outputs": [],
      "source": [
        "print(corpus)"
      ]
    },
    {
      "cell_type": "code",
      "execution_count": 17,
      "metadata": {
        "id": "gYp_4Ai5Aba5"
      },
      "outputs": [],
      "source": [
        "id_words = [[(id2word[id], count) for id, count in line] for line in corpus]"
      ]
    },
    {
      "cell_type": "code",
      "execution_count": null,
      "metadata": {
        "colab": {
          "base_uri": "https://localhost:8080/"
        },
        "id": "k1F_0RlXAwD-",
        "outputId": "1585fe7a-73a2-4de2-b7a4-f7830086b2af"
      },
      "outputs": [],
      "source": [
        "print(id_words)"
      ]
    },
    {
      "cell_type": "code",
      "execution_count": null,
      "metadata": {
        "colab": {
          "base_uri": "https://localhost:8080/"
        },
        "id": "uysD3obhFqAx",
        "outputId": "0b490fc7-ac97-46dd-9372-f6fb962a1caa"
      },
      "outputs": [],
      "source": []
    },
    {
      "cell_type": "markdown",
      "metadata": {
        "id": "UiOucOjxYYZl"
      },
      "source": [
        "### Topic Modeling using Latent Dirichlet Allocation \n",
        "based on the distributional hypothesis, (i.e. similar topics make use of similar words) and the statistical mixture hypothesis (i.e. documents talk about several topics) for which a statistical distribution can be determined. \n",
        "\n",
        "*  The purpose of LDA is mapping each teweets in our corpus to a set of topics \n",
        "which covers a good deal of the words in the tweet\n",
        "\n"
      ]
    },
    {
      "cell_type": "code",
      "execution_count": 19,
      "metadata": {
        "id": "aHqC02L_NUMG"
      },
      "outputs": [],
      "source": [
        "# Build LDA model\n",
        "lda_model = gensim.models.ldamodel.LdaModel(corpus,\n",
        "                                           id2word=id2word,\n",
        "                                           num_topics=5, \n",
        "                                           random_state=100,\n",
        "                                           update_every=1,\n",
        "                                           chunksize=100,\n",
        "                                           passes=10,\n",
        "                                           alpha='auto',\n",
        "                                           per_word_topics=True)"
      ]
    },
    {
      "cell_type": "code",
      "execution_count": null,
      "metadata": {
        "colab": {
          "base_uri": "https://localhost:8080/"
        },
        "id": "DbfnVyNfGWSS",
        "outputId": "e1d37758-6d1a-4b34-b8a9-ebe95fb2c1bb"
      },
      "outputs": [
        {
          "name": "stdout",
          "output_type": "stream",
          "text": [
            "[(0,\n",
            "  '0.034*\"carbon\" + 0.023*\"climate\" + 0.021*\"gt\" + 0.013*\"bp\" + 0.011*\"change\" '\n",
            "  '+ 0.008*\"land\" + 0.008*\"latest\" + 0.008*\"large\" + 0.007*\"intense\" + '\n",
            "  '0.007*\"americans\"'),\n",
            " (1,\n",
            "  '0.023*\"carbon\" + 0.012*\"first\" + 0.012*\"money\" + 0.011*\"emissions\" + '\n",
            "  '0.011*\"the\" + 0.010*\"reduce\" + 0.009*\"see\" + 0.009*\"s\" + 0.009*\"it\" + '\n",
            "  '0.009*\"this\"'),\n",
            " (2,\n",
            "  '0.018*\"nt\" + 0.016*\"meat\" + 0.015*\"carbon\" + 0.014*\"uk\" + 0.013*\"like\" + '\n",
            "  '0.013*\"money\" + 0.012*\"giving\" + 0.012*\"june\" + 0.012*\"rt\" + 0.012*\"th\"'),\n",
            " (3,\n",
            "  '0.043*\"carbon\" + 0.029*\"tax\" + 0.028*\"protecting\" + 0.028*\"rights\" + '\n",
            "  '0.024*\"amp\" + 0.023*\"oil\" + 0.018*\"emissions\" + 0.017*\"new\" + 0.015*\"covid\" '\n",
            "  '+ 0.015*\"coal\"'),\n",
            " (4,\n",
            "  '0.029*\"government\" + 0.026*\"i\" + 0.023*\"carbon\" + 0.021*\"zero\" + 0.020*\"s\" '\n",
            "  '+ 0.018*\"emissions\" + 0.016*\"net\" + 0.015*\"gas\" + 0.015*\"cost\" + '\n",
            "  '0.014*\"target\"')]\n"
          ]
        }
      ],
      "source": [
        "pprint(lda_model.print_topics())"
      ]
    },
    {
      "cell_type": "code",
      "execution_count": null,
      "metadata": {
        "colab": {
          "base_uri": "https://localhost:8080/"
        },
        "id": "aa5pVKgnmpzn",
        "outputId": "fd169b7c-a8f9-4f1a-e589-9bb8e912a085"
      },
      "outputs": [
        {
          "name": "stdout",
          "output_type": "stream",
          "text": [
            "[(0,\n",
            "  [('carbon', 0.033523474),\n",
            "   ('climate', 0.022791425),\n",
            "   ('gt', 0.021368595),\n",
            "   ('bp', 0.012794656),\n",
            "   ('change', 0.01143688),\n",
            "   ('land', 0.008486307),\n",
            "   ('latest', 0.007863012),\n",
            "   ('large', 0.0076355455),\n",
            "   ('intense', 0.0074943104),\n",
            "   ('americans', 0.006986857)]),\n",
            " (1,\n",
            "  [('carbon', 0.022609165),\n",
            "   ('first', 0.011645413),\n",
            "   ('money', 0.01162081),\n",
            "   ('emissions', 0.011445911),\n",
            "   ('the', 0.010748187),\n",
            "   ('reduce', 0.0100996215),\n",
            "   ('see', 0.009358184),\n",
            "   ('s', 0.009275624),\n",
            "   ('it', 0.008924053),\n",
            "   ('this', 0.008717043)]),\n",
            " (2,\n",
            "  [('nt', 0.018154405),\n",
            "   ('meat', 0.015851557),\n",
            "   ('carbon', 0.015013237),\n",
            "   ('uk', 0.014227561),\n",
            "   ('like', 0.012811348),\n",
            "   ('money', 0.012667962),\n",
            "   ('giving', 0.012188516),\n",
            "   ('june', 0.012113796),\n",
            "   ('rt', 0.011740563),\n",
            "   ('th', 0.01171801)]),\n",
            " (3,\n",
            "  [('carbon', 0.042917076),\n",
            "   ('tax', 0.028562853),\n",
            "   ('protecting', 0.027864862),\n",
            "   ('rights', 0.027779127),\n",
            "   ('amp', 0.023900261),\n",
            "   ('oil', 0.023304556),\n",
            "   ('emissions', 0.017545266),\n",
            "   ('new', 0.01657179),\n",
            "   ('covid', 0.014681406),\n",
            "   ('coal', 0.014654023)]),\n",
            " (4,\n",
            "  [('government', 0.02929579),\n",
            "   ('i', 0.026013553),\n",
            "   ('carbon', 0.02315474),\n",
            "   ('zero', 0.020825047),\n",
            "   ('s', 0.019810636),\n",
            "   ('emissions', 0.017748473),\n",
            "   ('net', 0.016165633),\n",
            "   ('gas', 0.015221502),\n",
            "   ('cost', 0.014606672),\n",
            "   ('target', 0.01369584)])]\n"
          ]
        }
      ],
      "source": [
        "\n",
        "\n",
        "pprint(lda_model.show_topics(formatted=False))"
      ]
    },
    {
      "cell_type": "markdown",
      "metadata": {
        "id": "0dDmumROo4zX"
      },
      "source": [
        "Each line is a topic with individual topic terms and weights. Topic0  can be termed as climate change, and Topic4 can be termed as government and carbon emission."
      ]
    },
    {
      "cell_type": "markdown",
      "metadata": {
        "id": "1pLR7-4AtZzT"
      },
      "source": [
        "# **Model Analysis**\n",
        "\n",
        "Perplexity is also a measure of model quality and in natural language processing is often used as “perplexity per number of words”. It describes how well a model predicts a sample, i.e. how much it is “perplexed” by a sample from the observed data. The lower the score, the better the model for the given data.\n",
        "\n",
        "A coherence matrix is used to test the model for accuracy. Topic coherence is a measure that compares different topic models based on their human-interpretability. The coherence score ‘C_V’ provides a numerical value to the interpretability of the topics"
      ]
    },
    {
      "cell_type": "code",
      "execution_count": null,
      "metadata": {
        "colab": {
          "base_uri": "https://localhost:8080/"
        },
        "id": "JWDGb45QqRoZ",
        "outputId": "6762c511-e8c6-49d1-c111-8966959ce048"
      },
      "outputs": [
        {
          "name": "stdout",
          "output_type": "stream",
          "text": [
            "\n",
            "Perplexity:  -6.740281296031329\n",
            "\n",
            " Ldamodel Coherence Score/Accuracy on Tweets:  0.5846626375222727\n"
          ]
        }
      ],
      "source": [
        "# Compute Perplexity\n",
        "\n",
        "#It's a measure of how good the model is. The lower the better. Perplexity is a negative value\n",
        "print('\\nPerplexity: ', lda_model.log_perplexity(corpus))  \n",
        "doc_lda = lda_model[corpus]\n",
        "\n",
        "\n",
        "# Compute Coherence Score\n",
        "coherence_model_lda = CoherenceModel(model=lda_model, texts=word_list, dictionary=id2word, coherence='c_v')\n",
        "coherence_lda = coherence_model_lda.get_coherence()\n",
        "print('\\n Ldamodel Coherence Score/Accuracy on Tweets: ', coherence_lda)"
      ]
    },
    {
      "cell_type": "markdown",
      "metadata": {
        "id": "_KR1oX1q5dUD"
      },
      "source": [
        "Basic Ldamodel Coherence Score 0.58 This means that the model has performed reasonably well in topic modeling."
      ]
    },
    {
      "cell_type": "code",
      "execution_count": null,
      "metadata": {
        "colab": {
          "base_uri": "https://localhost:8080/",
          "height": 904
        },
        "id": "yAyoNCIWlGql",
        "outputId": "fa34a99c-b168-4436-c3d7-a537b7ac9b13"
      },
      "outputs": [
        {
          "name": "stdout",
          "output_type": "stream",
          "text": [
            "Collecting pyLDAvis\n",
            "\u001b[?25l  Downloading https://files.pythonhosted.org/packages/03/a5/15a0da6b0150b8b68610cc78af80364a80a9a4c8b6dd5ee549b8989d4b60/pyLDAvis-3.3.1.tar.gz (1.7MB)\n",
            "\u001b[K     |████████████████████████████████| 1.7MB 4.3MB/s \n",
            "\u001b[?25h  Installing build dependencies ... \u001b[?25l\u001b[?25hdone\n",
            "  Getting requirements to build wheel ... \u001b[?25l\u001b[?25hdone\n",
            "  Installing backend dependencies ... \u001b[?25l\u001b[?25hdone\n",
            "    Preparing wheel metadata ... \u001b[?25l\u001b[?25hdone\n",
            "Requirement already satisfied: numexpr in /usr/local/lib/python3.7/dist-packages (from pyLDAvis) (2.7.3)\n",
            "Requirement already satisfied: future in /usr/local/lib/python3.7/dist-packages (from pyLDAvis) (0.16.0)\n",
            "Requirement already satisfied: gensim in /usr/local/lib/python3.7/dist-packages (from pyLDAvis) (3.6.0)\n",
            "Requirement already satisfied: setuptools in /usr/local/lib/python3.7/dist-packages (from pyLDAvis) (57.0.0)\n",
            "Collecting numpy>=1.20.0\n",
            "\u001b[?25l  Downloading https://files.pythonhosted.org/packages/3f/03/c3526fb4e79a793498829ca570f2f868204ad9a8040afcd72d82a8f121db/numpy-1.21.0-cp37-cp37m-manylinux_2_12_x86_64.manylinux2010_x86_64.whl (15.7MB)\n",
            "\u001b[K     |████████████████████████████████| 15.7MB 183kB/s \n",
            "\u001b[?25hRequirement already satisfied: scikit-learn in /usr/local/lib/python3.7/dist-packages (from pyLDAvis) (0.22.2.post1)\n",
            "Requirement already satisfied: jinja2 in /usr/local/lib/python3.7/dist-packages (from pyLDAvis) (2.11.3)\n",
            "Requirement already satisfied: scipy in /usr/local/lib/python3.7/dist-packages (from pyLDAvis) (1.4.1)\n",
            "Requirement already satisfied: joblib in /usr/local/lib/python3.7/dist-packages (from pyLDAvis) (1.0.1)\n",
            "Collecting funcy\n",
            "  Downloading https://files.pythonhosted.org/packages/44/52/5cf7401456a461e4b481650dfb8279bc000f31a011d0918904f86e755947/funcy-1.16-py2.py3-none-any.whl\n",
            "Collecting pandas>=1.2.0\n",
            "\u001b[?25l  Downloading https://files.pythonhosted.org/packages/e6/0a/90da8840e044c329a0271fb0244ff40a68a2615bc360c296a3dc5e326ab6/pandas-1.2.5-cp37-cp37m-manylinux_2_5_x86_64.manylinux1_x86_64.whl (9.9MB)\n",
            "\u001b[K     |████████████████████████████████| 9.9MB 29.4MB/s \n",
            "\u001b[?25hRequirement already satisfied: sklearn in /usr/local/lib/python3.7/dist-packages (from pyLDAvis) (0.0)\n",
            "Requirement already satisfied: six>=1.5.0 in /usr/local/lib/python3.7/dist-packages (from gensim->pyLDAvis) (1.15.0)\n",
            "Requirement already satisfied: smart-open>=1.2.1 in /usr/local/lib/python3.7/dist-packages (from gensim->pyLDAvis) (5.1.0)\n",
            "Requirement already satisfied: MarkupSafe>=0.23 in /usr/local/lib/python3.7/dist-packages (from jinja2->pyLDAvis) (2.0.1)\n",
            "Requirement already satisfied: pytz>=2017.3 in /usr/local/lib/python3.7/dist-packages (from pandas>=1.2.0->pyLDAvis) (2018.9)\n",
            "Requirement already satisfied: python-dateutil>=2.7.3 in /usr/local/lib/python3.7/dist-packages (from pandas>=1.2.0->pyLDAvis) (2.8.1)\n",
            "Building wheels for collected packages: pyLDAvis\n",
            "  Building wheel for pyLDAvis (PEP 517) ... \u001b[?25l\u001b[?25hdone\n",
            "  Created wheel for pyLDAvis: filename=pyLDAvis-3.3.1-cp37-none-any.whl size=136897 sha256=80ed5590b4b261da07b87fe1835cd4a0d9e598d80ab0c470c79f8aedc6fb68d5\n",
            "  Stored in directory: /root/.cache/pip/wheels/a0/9c/fc/c6e00689d35c82cf96a8adc70edfe7ba7904374fdac3240ac2\n",
            "Successfully built pyLDAvis\n",
            "\u001b[31mERROR: tensorflow 2.5.0 has requirement numpy~=1.19.2, but you'll have numpy 1.21.0 which is incompatible.\u001b[0m\n",
            "\u001b[31mERROR: google-colab 1.0.0 has requirement pandas~=1.1.0; python_version >= \"3.0\", but you'll have pandas 1.2.5 which is incompatible.\u001b[0m\n",
            "\u001b[31mERROR: datascience 0.10.6 has requirement folium==0.2.1, but you'll have folium 0.8.3 which is incompatible.\u001b[0m\n",
            "\u001b[31mERROR: albumentations 0.1.12 has requirement imgaug<0.2.7,>=0.2.5, but you'll have imgaug 0.2.9 which is incompatible.\u001b[0m\n",
            "Installing collected packages: numpy, funcy, pandas, pyLDAvis\n",
            "  Found existing installation: numpy 1.19.5\n",
            "    Uninstalling numpy-1.19.5:\n",
            "      Successfully uninstalled numpy-1.19.5\n",
            "  Found existing installation: pandas 1.1.5\n",
            "    Uninstalling pandas-1.1.5:\n",
            "      Successfully uninstalled pandas-1.1.5\n",
            "Successfully installed funcy-1.16 numpy-1.21.0 pandas-1.2.5 pyLDAvis-3.3.1\n"
          ]
        },
        {
          "data": {
            "application/vnd.colab-display-data+json": {
              "pip_warning": {
                "packages": [
                  "numpy",
                  "pandas"
                ]
              }
            }
          },
          "metadata": {
            "tags": []
          },
          "output_type": "display_data"
        }
      ],
      "source": [
        "# !pip install pyLDAvis "
      ]
    },
    {
      "cell_type": "markdown",
      "metadata": {
        "id": "eylzfskkr8f7"
      },
      "source": [
        "**Anlayizing results**\n",
        "Exploring the Intertopic Distance Plot can help you learn about how topics relate to each other, including potential higher-level structure between groups of topics"
      ]
    },
    {
      "cell_type": "code",
      "execution_count": null,
      "metadata": {
        "colab": {
          "base_uri": "https://localhost:8080/",
          "height": 915
        },
        "id": "6gJXbv8Jkjg-",
        "outputId": "26a2d031-8393-439a-e4f7-8341fca8075b"
      },
      "outputs": [
        {
          "name": "stderr",
          "output_type": "stream",
          "text": [
            "/usr/local/lib/python3.7/dist-packages/past/types/oldstr.py:5: DeprecationWarning: Using or importing the ABCs from 'collections' instead of from 'collections.abc' is deprecated since Python 3.3,and in 3.9 it will stop working\n",
            "  from collections import Iterable\n"
          ]
        },
        {
          "data": {
            "text/html": [
              "\n",
              "<link rel=\"stylesheet\" type=\"text/css\" href=\"https://cdn.jsdelivr.net/gh/bmabey/pyLDAvis@3.3.1/pyLDAvis/js/ldavis.v1.0.0.css\">\n",
              "\n",
              "\n",
              "<div id=\"ldavis_el611399724349063207796545008\"></div>\n",
              "<script type=\"text/javascript\">\n",
              "\n",
              "var ldavis_el611399724349063207796545008_data = {\"mdsDat\": {\"x\": [-0.29834681575081173, -0.011717585311443299, 0.3039982817521926, -0.029315368214079856, 0.03538148752414219], \"y\": [0.1875977417171247, 0.01978782240235759, 0.1974701732156963, -0.16221590872455618, -0.2426398286106223], \"topics\": [1, 2, 3, 4, 5], \"cluster\": [1, 1, 1, 1, 1], \"Freq\": [27.315573825401803, 22.293761391818727, 20.110988383424928, 17.137186232753823, 13.142490166600723]}, \"tinfo\": {\"Term\": [\"tax\", \"protecting\", \"rights\", \"government\", \"oil\", \"i\", \"amp\", \"zero\", \"nt\", \"climate\", \"gt\", \"covid\", \"coal\", \"meat\", \"neutral\", \"resource\", \"reform\", \"indigenous\", \"minerals\", \"voted\", \"net\", \"electoral\", \"reef\", \"mines\", \"medivac\", \"lambie\", \"rent\", \"senate\", \"transgender\", \"whistleblowers\", \"tax\", \"protecting\", \"rights\", \"oil\", \"covid\", \"coal\", \"neutral\", \"resource\", \"reform\", \"indigenous\", \"minerals\", \"voted\", \"electoral\", \"against\", \"arts\", \"assisting\", \"banning\", \"barrier\", \"lambie\", \"medivac\", \"mines\", \"reef\", \"rent\", \"senate\", \"transgender\", \"whistleblowers\", \"scope\", \"pm\", \"development\", \"final\", \"selling\", \"amp\", \"new\", \"land\", \"carbon\", \"emissions\", \"reduce\", \"mobile\", \"help\", \"answer\", \"free\", \"find\", \"ve\", \"energy\", \"pushed\", \"top\", \"absolutely\", \"worlds\", \"truth\", \"helping\", \"god\", \"politicians\", \"refreshing\", \"senior\", \"per\", \"for\", \"ever\", \"first\", \"environmental\", \"live\", \"consumption\", \"income\", \"work\", \"chart\", \"cent\", \"dinosaur\", \"come\", \"this\", \"well\", \"see\", \"k\", \"airtime\", \"least\", \"co2\", \"global\", \"clean\", \"need\", \"year\", \"it\", \"pay\", \"money\", \"the\", \"carbon\", \"using\", \"emissions\", \"s\", \"one\", \"footprint\", \"amp\", \"nt\", \"meat\", \"uk\", \"giving\", \"rt\", \"th\", \"got\", \"similar\", \"u\", \"fb\", \"moon\", \"appreciated\", \"finally\", \"accs\", \"bc\", \"character\", \"entryends\", \"fave\", \"fine\", \"interests\", \"logging\", \"reply\", \"ta\", \"venmomobilepc\", \"welkin\", \"xtra\", \"talk\", \"questions\", \"tho\", \"reminder\", \"go\", \"june\", \"would\", \"follow\", \"giveaway\", \"like\", \"money\", \"carbon\", \"account\", \"government\", \"zero\", \"net\", \"gas\", \"cost\", \"target\", \"pays\", \"household\", \"challenges\", \"rishi\", \"boilers\", \"ask\", \"sunak\", \"andrew\", \"includes\", \"neil\", \"replacing\", \"that\", \"revolution\", \"policies\", \"ey\", \"expense\", \"grilled\", \"hateful\", \"incredibly\", \"properly\", \"scrutinising\", \"must\", \"eazzy\", \"banking\", \"news\", \"i\", \"away\", \"s\", \"emissions\", \"time\", \"carbon\", \"media\", \"costs\", \"green\", \"kuda\", \"gt\", \"bp\", \"change\", \"latest\", \"intense\", \"rc\", \"americans\", \"talks\", \"cleaning\", \"captured\", \"office\", \"mb\", \"box\", \"giants\", \"actual\", \"causes\", \"corporations\", \"fun\", \"giant\", \"insividual\", \"massively\", \"popularized\", \"degraded\", \"capsules\", \"episode\", \"kulve\", \"laundry\", \"peter\", \"podcast\", \"purple\", \"ter\", \"unilevers\", \"drags\", \"drought\", \"environmentmeanwhile\", \"feet\", \"heatwaves\", \"climate\", \"focus\", \"carbon\", \"large\", \"land\", \"future\", \"kuda\", \"footprint\"], \"Freq\": [617.0, 602.0, 600.0, 397.0, 504.0, 507.0, 638.0, 282.0, 289.0, 303.0, 222.0, 317.0, 317.0, 252.0, 311.0, 304.0, 303.0, 302.0, 302.0, 302.0, 219.0, 301.0, 300.0, 300.0, 300.0, 300.0, 300.0, 300.0, 300.0, 300.0, 616.8658063794439, 601.7914472117483, 599.9398318446453, 503.3034831713228, 317.0711802518627, 316.47978084454417, 310.7102826847751, 303.6092458329034, 302.32809164290376, 301.6936491878805, 301.69346816571726, 301.23554243343074, 300.32272811848543, 300.04990760490284, 300.04990760490284, 300.04990760490284, 300.04990760490284, 300.04990760490284, 300.04990760490284, 300.04990760490284, 300.04990760490284, 300.04990760490284, 300.04990760490284, 300.04990760490284, 300.04990760490284, 300.04990760490284, 264.73994569181633, 148.39803722386864, 142.3622353483938, 141.50387853422444, 160.08938380735037, 516.1688087673768, 357.8973903183398, 305.8255404046485, 926.8708870569411, 378.9213445846587, 178.01935739726565, 143.63130959746968, 126.02057862186902, 125.21372524765005, 117.12090431766846, 111.12340531627423, 116.76015052320169, 99.03056909838648, 85.00708612888594, 84.59038726108724, 80.94059502687834, 90.02200874036821, 77.13147096116715, 75.95440007922558, 74.28466617841617, 74.28466617841617, 74.28466617841617, 74.28466617841617, 62.34068029868493, 63.12657068621233, 61.03956336432763, 205.26600345359293, 60.284021701660095, 57.68502995500624, 52.67276260045223, 51.65575815741659, 50.50500181554283, 49.69890356848738, 49.43303724764941, 49.01105659365805, 58.691934572229826, 153.64956526005497, 97.1465596570249, 164.9505357363388, 119.47388876709448, 136.31776348443074, 91.38328140278445, 78.91511415301245, 103.05039826643103, 84.58899191741551, 111.5222684087868, 100.27491196111276, 157.2983889615976, 93.84026820317717, 204.83234705623087, 189.4511946941487, 398.51681746067726, 100.25735525456096, 201.74950757955287, 163.4952907815843, 104.99393142724732, 109.59812231710345, 119.90546035685291, 288.6650592322609, 252.0485083043306, 226.22606719214096, 193.80412489265424, 186.6814378846052, 186.32281940113083, 184.3279753952527, 182.92408110244926, 182.70269338605408, 181.4464550745333, 179.56655497866586, 178.98939201903363, 178.9891995079759, 178.07635649782554, 178.07635649782554, 178.07635649782554, 178.07635649782554, 178.07635649782554, 178.07635649782554, 178.07635649782554, 178.07635649782554, 178.07635649782554, 178.07635649782554, 178.07635649782554, 178.07635649782554, 178.07635649782554, 141.80037243957125, 134.79698305314625, 132.43235492244514, 130.34777114657678, 154.83796169652615, 192.61603549557162, 184.51770244692196, 182.06210543716963, 178.0765638174262, 203.70750085279826, 201.42759239604345, 238.71874649590566, 182.7750331181337, 396.938751300158, 282.1657456711746, 219.0337342515599, 206.2413769391853, 197.91084184612444, 185.56965749535553, 180.15153131781824, 178.33965936804614, 171.8602028699358, 171.06080120529072, 170.13813899667954, 168.68491888767372, 167.0598936695259, 165.90124708000664, 165.90124708000664, 165.90124708000664, 165.90124708000664, 158.45308233264913, 87.73560719468769, 84.57186942431431, 83.4782791139123, 83.06549888418796, 83.06549888418796, 83.06549888418796, 83.06549888418796, 83.06549888418796, 83.06549888418796, 76.06087902730309, 66.19183959239498, 61.94859410448059, 88.71077627506821, 352.46660446092625, 141.4242873807907, 268.4211350388456, 240.4801855849064, 133.2146278764534, 313.731549480009, 84.63281197110837, 85.1112226358417, 90.75118750737205, 94.11672530017643, 222.0406081262065, 132.9489919312307, 118.8403696258128, 81.70438959036728, 77.87321755687321, 71.41978775473392, 72.60027963444756, 72.19156631684436, 71.46493260548495, 71.44205534349665, 68.5045481304644, 68.2131098126096, 67.81841414051827, 66.65493020832766, 64.78316082566164, 64.78316082566164, 64.78316082566164, 64.78316082566164, 64.78316082566164, 64.78316082566164, 64.78316082566164, 64.78316082566164, 61.15794221417901, 69.45663996837732, 69.45663996837732, 69.45663996837732, 69.45663996837732, 69.45663996837732, 69.45663996837732, 69.45663996837732, 69.45663996837732, 69.45663996837732, 69.36446318308181, 69.36446318308181, 69.36446318308181, 69.36446318308181, 69.36446318308181, 236.82520320114426, 71.3339835062486, 348.3416941736918, 79.34078810701114, 88.18103536184243, 72.5929151689767, 71.13262198813456, 71.45838587632458], \"Total\": [617.0, 602.0, 600.0, 397.0, 504.0, 507.0, 638.0, 282.0, 289.0, 303.0, 222.0, 317.0, 317.0, 252.0, 311.0, 304.0, 303.0, 302.0, 302.0, 302.0, 219.0, 301.0, 300.0, 300.0, 300.0, 300.0, 300.0, 300.0, 300.0, 300.0, 617.7024310848565, 602.6228045272766, 600.771157212697, 504.147500157538, 317.90568762172353, 317.3186798436179, 311.54936022247125, 304.44100788130214, 303.1597081224872, 302.52503499606485, 302.5250376593403, 302.0671975048838, 301.15411926926384, 300.88123297295436, 300.88123297295436, 300.88123297295436, 300.88123297295436, 300.88123297295436, 300.88123297295436, 300.88123297295436, 300.88123297295436, 300.88123297295436, 300.88123297295436, 300.88123297295436, 300.88123297295436, 300.88123297295436, 265.57172942000415, 149.2435653708659, 143.1950727551098, 142.34596788870948, 161.0447022666634, 638.4198723159888, 430.9690396724197, 394.623877506618, 2226.179694667225, 821.5785680322206, 178.81042981640073, 144.41945118053096, 126.81056164940276, 126.00324749327993, 117.91950905903037, 111.91739042364034, 117.6166263719126, 99.81973910326944, 85.78858350866116, 85.37855993841278, 81.72344123643514, 90.9219146596638, 77.91364126091133, 76.74543588860759, 75.06580101532957, 75.06580101532957, 75.06580101532957, 75.06580101532957, 63.127678510179074, 63.925683137557215, 61.82310440074496, 208.02782109907866, 61.09920936271252, 58.47443129045068, 53.45761852072657, 52.43825406003379, 51.290545183330835, 50.48080845331929, 50.2141804935456, 49.792192026801914, 59.898402044734766, 168.66607829346134, 103.46656529614663, 184.0319932906179, 131.01596212776997, 154.30001342433292, 99.00834774278425, 84.32438458530346, 115.48778462762607, 93.50792984958878, 134.91204634135238, 117.7707208591726, 225.37287016206602, 109.10948181622462, 406.8480612241937, 473.5770377107268, 2226.179694667225, 142.62948988051656, 821.5785680322206, 733.2453830161812, 210.7568356999869, 317.0451816448077, 638.4198723159888, 289.4631073849906, 252.83875998008574, 227.0420120200538, 194.597876346283, 187.47375695542775, 187.11688462309067, 185.1183651909066, 183.7143327782044, 183.49364829992479, 182.2376061881899, 180.35682502885763, 179.77978609679818, 179.77979028615334, 178.8666081735807, 178.8666081735807, 178.8666081735807, 178.8666081735807, 178.8666081735807, 178.8666081735807, 178.8666081735807, 178.8666081735807, 178.8666081735807, 178.8666081735807, 178.8666081735807, 178.8666081735807, 178.8666081735807, 142.60896415751682, 135.60052683298215, 133.23377530213008, 131.14384714217144, 159.0025744932565, 212.94074413644728, 202.62884456750058, 199.5403477785001, 195.76524029946788, 240.29793360655796, 406.8480612241937, 2226.179694667225, 257.22163957492774, 397.739332355581, 282.95864396982296, 219.82424064031684, 207.03883876781495, 198.69875477271157, 186.35788412461025, 180.94079841857166, 179.12614182045124, 172.6488607447882, 171.84682549933154, 170.92407602160188, 169.47090805760726, 167.84590988766405, 166.6871160569241, 166.6871160569241, 166.6871160569241, 166.6871160569241, 159.24284765579048, 88.54463045724377, 85.36234948487254, 84.27004539174477, 83.85757057018824, 83.85757057018824, 83.85757057018824, 83.85757057018824, 83.85757057018824, 83.85757057018824, 76.8884134899572, 66.9874687959937, 62.74336580018559, 93.09638556971348, 507.88807720893794, 196.31729580500738, 733.2453830161812, 821.5785680322206, 238.77061552388017, 2226.179694667225, 92.88526728686304, 96.22393670965387, 140.4755672005831, 200.90960096556702, 222.82089079282426, 133.7271146838935, 119.62179223403821, 82.52301734547024, 78.65830440468572, 72.197248779306, 73.39820487513722, 72.99083751162948, 72.26780188714189, 72.24579750841856, 69.28208596316324, 68.9899653937758, 68.5953145810214, 67.43276063458839, 65.56081858757298, 65.56081858757298, 65.56081858757298, 65.56081858757298, 65.56081858757298, 65.56081858757298, 65.56081858757298, 65.56081858757298, 61.935002074238426, 70.38792546027138, 70.38792546027138, 70.38792546027138, 70.38792546027138, 70.38792546027138, 70.38792546027138, 70.38792546027138, 70.38792546027138, 70.38792546027138, 70.32815998181212, 70.32815998181212, 70.32815998181212, 70.32815998181212, 70.32815998181212, 303.40632352002444, 73.47777254657255, 2226.179694667225, 123.05935927160287, 394.623877506618, 115.87089903605542, 200.90960096556702, 317.0451816448077], \"Category\": [\"Default\", \"Default\", \"Default\", \"Default\", \"Default\", \"Default\", \"Default\", \"Default\", \"Default\", \"Default\", \"Default\", \"Default\", \"Default\", \"Default\", \"Default\", \"Default\", \"Default\", \"Default\", \"Default\", \"Default\", \"Default\", \"Default\", \"Default\", \"Default\", \"Default\", \"Default\", \"Default\", \"Default\", \"Default\", \"Default\", \"Topic1\", \"Topic1\", \"Topic1\", \"Topic1\", \"Topic1\", \"Topic1\", \"Topic1\", \"Topic1\", \"Topic1\", \"Topic1\", \"Topic1\", \"Topic1\", \"Topic1\", \"Topic1\", \"Topic1\", \"Topic1\", \"Topic1\", \"Topic1\", \"Topic1\", \"Topic1\", \"Topic1\", \"Topic1\", \"Topic1\", \"Topic1\", \"Topic1\", \"Topic1\", \"Topic1\", \"Topic1\", \"Topic1\", \"Topic1\", \"Topic1\", \"Topic1\", \"Topic1\", \"Topic1\", \"Topic1\", \"Topic1\", \"Topic2\", \"Topic2\", \"Topic2\", \"Topic2\", \"Topic2\", \"Topic2\", \"Topic2\", \"Topic2\", \"Topic2\", \"Topic2\", \"Topic2\", \"Topic2\", \"Topic2\", \"Topic2\", \"Topic2\", \"Topic2\", \"Topic2\", \"Topic2\", \"Topic2\", \"Topic2\", \"Topic2\", \"Topic2\", \"Topic2\", \"Topic2\", \"Topic2\", \"Topic2\", \"Topic2\", \"Topic2\", \"Topic2\", \"Topic2\", \"Topic2\", \"Topic2\", \"Topic2\", \"Topic2\", \"Topic2\", \"Topic2\", \"Topic2\", \"Topic2\", \"Topic2\", \"Topic2\", \"Topic2\", \"Topic2\", \"Topic2\", \"Topic2\", \"Topic2\", \"Topic2\", \"Topic2\", \"Topic2\", \"Topic2\", \"Topic2\", \"Topic2\", \"Topic2\", \"Topic2\", \"Topic3\", \"Topic3\", \"Topic3\", \"Topic3\", \"Topic3\", \"Topic3\", \"Topic3\", \"Topic3\", \"Topic3\", \"Topic3\", \"Topic3\", \"Topic3\", \"Topic3\", \"Topic3\", \"Topic3\", \"Topic3\", \"Topic3\", \"Topic3\", \"Topic3\", \"Topic3\", \"Topic3\", \"Topic3\", \"Topic3\", \"Topic3\", \"Topic3\", \"Topic3\", \"Topic3\", \"Topic3\", \"Topic3\", \"Topic3\", \"Topic3\", \"Topic3\", \"Topic3\", \"Topic3\", \"Topic3\", \"Topic3\", \"Topic3\", \"Topic3\", \"Topic3\", \"Topic4\", \"Topic4\", \"Topic4\", \"Topic4\", \"Topic4\", \"Topic4\", \"Topic4\", \"Topic4\", \"Topic4\", \"Topic4\", \"Topic4\", \"Topic4\", \"Topic4\", \"Topic4\", \"Topic4\", \"Topic4\", \"Topic4\", \"Topic4\", \"Topic4\", \"Topic4\", \"Topic4\", \"Topic4\", \"Topic4\", \"Topic4\", \"Topic4\", \"Topic4\", \"Topic4\", \"Topic4\", \"Topic4\", \"Topic4\", \"Topic4\", \"Topic4\", \"Topic4\", \"Topic4\", \"Topic4\", \"Topic4\", \"Topic4\", \"Topic4\", \"Topic4\", \"Topic4\", \"Topic4\", \"Topic5\", \"Topic5\", \"Topic5\", \"Topic5\", \"Topic5\", \"Topic5\", \"Topic5\", \"Topic5\", \"Topic5\", \"Topic5\", \"Topic5\", \"Topic5\", \"Topic5\", \"Topic5\", \"Topic5\", \"Topic5\", \"Topic5\", \"Topic5\", \"Topic5\", \"Topic5\", \"Topic5\", \"Topic5\", \"Topic5\", \"Topic5\", \"Topic5\", \"Topic5\", \"Topic5\", \"Topic5\", \"Topic5\", \"Topic5\", \"Topic5\", \"Topic5\", \"Topic5\", \"Topic5\", \"Topic5\", \"Topic5\", \"Topic5\", \"Topic5\", \"Topic5\", \"Topic5\", \"Topic5\", \"Topic5\", \"Topic5\", \"Topic5\", \"Topic5\"], \"logprob\": [30.0, 29.0, 28.0, 27.0, 26.0, 25.0, 24.0, 23.0, 22.0, 21.0, 20.0, 19.0, 18.0, 17.0, 16.0, 15.0, 14.0, 13.0, 12.0, 11.0, 10.0, 9.0, 8.0, 7.0, 6.0, 5.0, 4.0, 3.0, 2.0, 1.0, -3.5556, -3.5804, -3.5835, -3.7591, -4.2212, -4.223, -4.2414, -4.2646, -4.2688, -4.2709, -4.2709, -4.2724, -4.2754, -4.2764, -4.2764, -4.2764, -4.2764, -4.2764, -4.2764, -4.2764, -4.2764, -4.2764, -4.2764, -4.2764, -4.2764, -4.2764, -4.4016, -4.9804, -5.0219, -5.028, -4.9046, -3.7339, -4.1001, -4.2573, -3.1485, -4.043, -4.5953, -4.8099, -4.9407, -4.9471, -5.0139, -5.0665, -5.017, -5.1817, -5.3344, -5.3393, -5.3834, -5.2771, -5.4316, -5.447, -5.4692, -5.4692, -5.4692, -5.4692, -5.6445, -5.632, -5.6656, -4.4528, -5.6781, -5.7222, -5.8131, -5.8325, -5.8551, -5.8712, -5.8765, -5.8851, -5.7048, -4.7425, -5.2009, -4.6715, -4.9941, -4.8622, -5.2621, -5.4088, -5.1419, -5.3393, -5.0629, -5.1692, -4.719, -5.2356, -4.455, -4.533, -3.7894, -5.1694, -4.4701, -4.6804, -5.1232, -5.0803, -4.9904, -4.0088, -4.1445, -4.2526, -4.4073, -4.4447, -4.4466, -4.4574, -4.465, -4.4662, -4.4731, -4.4836, -4.4868, -4.4868, -4.4919, -4.4919, -4.4919, -4.4919, -4.4919, -4.4919, -4.4919, -4.4919, -4.4919, -4.4919, -4.4919, -4.4919, -4.4919, -4.7197, -4.7703, -4.788, -4.8039, -4.6317, -4.4134, -4.4564, -4.4698, -4.4919, -4.3574, -4.3687, -4.1988, -4.4659, -3.5303, -3.8716, -4.1249, -4.185, -4.2263, -4.2907, -4.3203, -4.3304, -4.3674, -4.3721, -4.3775, -4.3861, -4.3957, -4.4027, -4.4027, -4.4027, -4.4027, -4.4486, -5.0398, -5.0765, -5.0895, -5.0945, -5.0945, -5.0945, -5.0945, -5.0945, -5.0945, -5.1826, -5.3215, -5.3878, -5.0287, -3.6491, -4.5623, -3.9215, -4.0315, -4.6221, -3.7656, -5.0758, -5.0701, -5.006, -4.9696, -3.8458, -4.3587, -4.4709, -4.8456, -4.8936, -4.9801, -4.9637, -4.9694, -4.9795, -4.9798, -5.0218, -5.0261, -5.0319, -5.0492, -5.0776, -5.0776, -5.0776, -5.0776, -5.0776, -5.0776, -5.0776, -5.0776, -5.1352, -5.008, -5.008, -5.008, -5.008, -5.008, -5.008, -5.008, -5.008, -5.008, -5.0093, -5.0093, -5.0093, -5.0093, -5.0093, -3.7814, -4.9813, -3.3955, -4.8749, -4.7693, -4.9638, -4.9841, -4.9796], \"loglift\": [30.0, 29.0, 28.0, 27.0, 26.0, 25.0, 24.0, 23.0, 22.0, 21.0, 20.0, 19.0, 18.0, 17.0, 16.0, 15.0, 14.0, 13.0, 12.0, 11.0, 10.0, 9.0, 8.0, 7.0, 6.0, 5.0, 4.0, 3.0, 2.0, 1.0, 1.2964, 1.2963, 1.2963, 1.296, 1.2951, 1.2951, 1.295, 1.295, 1.295, 1.295, 1.295, 1.295, 1.2949, 1.2949, 1.2949, 1.2949, 1.2949, 1.2949, 1.2949, 1.2949, 1.2949, 1.2949, 1.2949, 1.2949, 1.2949, 1.2949, 1.2946, 1.292, 1.2919, 1.2918, 1.2918, 1.0852, 1.1119, 1.0428, 0.4215, 0.5238, 1.4964, 1.4954, 1.4946, 1.4946, 1.4941, 1.4937, 1.4936, 1.4929, 1.4917, 1.4916, 1.4912, 1.4909, 1.4908, 1.4905, 1.4904, 1.4904, 1.4904, 1.4904, 1.4883, 1.4883, 1.4881, 1.4875, 1.4874, 1.4873, 1.4861, 1.4858, 1.4854, 1.4853, 1.4852, 1.4851, 1.4805, 1.4076, 1.4378, 1.3914, 1.4086, 1.377, 1.4207, 1.4346, 1.3869, 1.4006, 1.3105, 1.34, 1.1413, 1.3501, 0.8146, 0.5847, -0.2194, 1.1484, 0.0967, 0.0002, 0.8041, 0.4386, -0.1714, 1.6011, 1.6008, 1.6003, 1.5998, 1.5997, 1.5997, 1.5996, 1.5996, 1.5996, 1.5996, 1.5995, 1.5995, 1.5995, 1.5995, 1.5995, 1.5995, 1.5995, 1.5995, 1.5995, 1.5995, 1.5995, 1.5995, 1.5995, 1.5995, 1.5995, 1.5995, 1.5982, 1.598, 1.5979, 1.5978, 1.5774, 1.5036, 1.5103, 1.5122, 1.5092, 1.4387, 0.9009, -0.6289, 1.2622, 1.7619, 1.7611, 1.7603, 1.7601, 1.7599, 1.7597, 1.7595, 1.7595, 1.7593, 1.7593, 1.7593, 1.7593, 1.7592, 1.7592, 1.7592, 1.7592, 1.7592, 1.7589, 1.7547, 1.7546, 1.7545, 1.7544, 1.7544, 1.7544, 1.7544, 1.7544, 1.7544, 1.7531, 1.752, 1.7512, 1.7157, 1.3986, 1.436, 0.759, 0.5353, 1.1804, -0.1956, 1.6709, 1.6412, 1.327, 1.0056, 2.0258, 2.0235, 2.0228, 2.0194, 2.0193, 2.0185, 2.0184, 2.0183, 2.0181, 2.0181, 2.018, 2.018, 2.0179, 2.0177, 2.0174, 2.0174, 2.0174, 2.0174, 2.0174, 2.0174, 2.0174, 2.0174, 2.0167, 2.016, 2.016, 2.016, 2.016, 2.016, 2.016, 2.016, 2.016, 2.016, 2.0155, 2.0155, 2.0155, 2.0155, 2.0155, 1.7816, 1.9997, 0.1745, 1.5904, 0.5308, 1.5617, 0.991, 0.5394]}, \"token.table\": {\"Topic\": [2, 1, 2, 3, 3, 5, 1, 1, 2, 5, 1, 2, 4, 4, 2, 3, 1, 4, 1, 4, 5, 4, 1, 1, 3, 4, 5, 5, 5, 5, 1, 2, 3, 4, 5, 5, 2, 4, 5, 3, 2, 1, 2, 5, 4, 5, 1, 2, 1, 2, 3, 2, 5, 4, 1, 4, 1, 5, 1, 2, 5, 5, 4, 1, 1, 2, 4, 2, 3, 2, 5, 5, 2, 4, 4, 3, 3, 5, 1, 3, 2, 3, 1, 2, 2, 5, 2, 3, 2, 3, 5, 2, 2, 5, 2, 5, 4, 5, 5, 2, 3, 3, 1, 2, 1, 3, 2, 3, 4, 1, 4, 5, 4, 5, 4, 5, 2, 2, 4, 3, 4, 4, 2, 4, 1, 5, 5, 3, 2, 5, 2, 3, 2, 4, 3, 4, 5, 5, 1, 1, 5, 2, 5, 5, 5, 2, 3, 4, 2, 3, 4, 2, 3, 5, 5, 3, 3, 4, 1, 1, 1, 2, 2, 3, 3, 4, 1, 2, 4, 4, 1, 1, 2, 4, 1, 4, 3, 5, 1, 1, 2, 4, 2, 4, 4, 2, 5, 1, 5, 4, 2, 5, 4, 1, 5, 2, 3, 5, 2, 1, 1, 2, 3, 1, 4, 3, 1, 4, 1, 4, 3, 1, 2, 3, 4, 1, 4, 2, 3, 1, 1, 2, 3, 4, 3, 3, 5, 4, 1, 5, 3, 4, 1, 2, 4, 2, 3, 3, 1, 3, 4, 5, 2, 1, 2, 3, 3, 5, 1, 2, 2, 3, 1, 3, 2, 5, 1, 2, 2, 2, 3, 3, 2, 3, 4], \"Freq\": [0.9911476899957977, 0.12440632931537829, 0.163283307226434, 0.7114486957723196, 0.9951550030358954, 0.9914458269488525, 0.997071160057917, 0.11017497421240743, 0.8813997936992595, 0.9945747327769849, 0.8082455173710562, 0.18796407380722238, 0.0031327345634537063, 0.9958778094361567, 0.9920379235199202, 0.9956625485338028, 0.997071160057917, 0.9972213044527549, 0.997071160057917, 0.7182250520608667, 0.27506491355522555, 0.9881522804729198, 0.997071160057917, 0.997071160057917, 0.9951550030358954, 0.9945936462369112, 0.991321352126489, 0.9945626981812009, 0.98028176777202, 0.9827561249043809, 0.4164084337938274, 0.17923081454556325, 0.10735880871275594, 0.14104881144688436, 0.15632161268635592, 0.9914458269488525, 0.9758199679530434, 0.9962417316743991, 0.9948020153984846, 0.9951550030358954, 0.990475420896559, 0.08555424136614208, 0.9090138145152596, 0.9824568915334969, 0.21753007397567994, 0.7811307201853962, 0.05929482942080586, 0.9368583048487326, 0.9958443043937163, 0.9850012351904848, 0.016694936189669232, 0.9914396014377419, 0.9914458269488525, 0.9964833459902108, 0.10392424527562204, 0.8833560848427873, 0.9971510807859431, 0.984903494907166, 0.9916542327042663, 0.9840900351128246, 0.981114819694478, 0.981114819694478, 0.9852589026911738, 0.9961676789543366, 0.4613070675732822, 0.2458681468332533, 0.29212057049495443, 0.9917878055920245, 0.9951550030358954, 0.9820094339324897, 0.981114819694478, 0.98028176777202, 0.9866861360534487, 0.9897734865873503, 0.9849288630872247, 0.9951550030358954, 0.993208832062292, 0.981114819694478, 0.9975695280039125, 0.9956625253321736, 0.9918029680627135, 0.9951550030358954, 0.00961409867888511, 0.9854451145857237, 0.027219115804474562, 0.9662786110588469, 0.08519580219871553, 0.9120962353038957, 0.3469537036624492, 0.42896094270993723, 0.22394284509121723, 0.9855193860726478, 0.9922022312815933, 0.9914458269488525, 0.37110266993457725, 0.6300115094238172, 0.9949823966652944, 0.9914458269488525, 0.9935823384581053, 0.08683870524713477, 0.9092523255288228, 0.9969276317012881, 0.10390709319338225, 0.891869216576531, 0.025156825370583197, 0.9748269831100989, 0.9858017765625132, 0.9939586480803606, 0.9981411635826853, 0.2776283504469674, 0.6477994843762572, 0.07118675652486343, 0.9897734865873503, 0.9963159163851135, 0.9897734865873503, 0.981114819694478, 0.993608090376228, 0.9902869026675468, 0.9937131352855239, 0.30518534881108306, 0.6930660824612983, 0.9958778094361567, 0.9916424742225006, 0.9897734865873503, 0.9982644907517433, 0.9914458269488525, 0.9916308340274049, 0.9951550030358954, 0.6966233330884104, 0.3017222079618593, 0.09392284262510364, 0.9063554313322502, 0.908286273423297, 0.08395923535845602, 0.17420770252785725, 0.46787211536053086, 0.35339276798508185, 0.98028176777202, 0.997071160057917, 0.7754219079023373, 0.2229971499849859, 0.3494248649962105, 0.6419666124348984, 0.9936621640568388, 0.98028176777202, 0.9191144188812311, 0.06060095069546579, 0.010100158449244298, 0.0707455105620436, 0.8489461267445233, 0.07906851180463698, 0.9918865172353004, 0.9951550030358954, 0.9914458269488525, 0.9856505886308922, 0.9966826289602441, 0.08612775990936354, 0.9151074490369877, 0.997071160057917, 0.9982644819635342, 0.997071160057917, 0.9970956046633453, 0.5038736067296501, 0.4940419265983399, 0.9980215607099951, 0.9884454178512444, 0.17048144049202066, 0.8301704928307093, 0.9958778094361567, 0.9962504561011291, 0.9982366831949873, 0.830686121379198, 0.11137691012905447, 0.055688455064527236, 0.042966222324546374, 0.9559984467211569, 0.9984001160314545, 0.9959284429843348, 0.99772388010021, 0.26570905666716405, 0.49820448125093253, 0.2324954245837685, 0.8615199929033315, 0.13747659461223374, 0.994800518032449, 0.9821365439567489, 0.98028176777202, 0.9916675444748612, 0.98028176777202, 0.995755160359817, 0.9858017765625132, 0.9914458269488525, 0.9897734865873503, 0.9989665101907899, 0.98028176777202, 0.9908078269111233, 0.9955713532461284, 0.9834169750295365, 0.9954676591447553, 0.997071160057917, 0.9961745967837565, 0.9858017765625132, 0.9912779198788381, 0.997071160057917, 0.9958778094361567, 0.9951550030358954, 0.9985514176149551, 0.9938490854337377, 0.9987163877569044, 0.9950722074913462, 0.9974729425434176, 0.24275638704713387, 0.2222993881386675, 0.16774739104942396, 0.3654983804979319, 0.9978471751445352, 0.9897734865873503, 0.8965832356085872, 0.09780908024820952, 0.993512967195074, 0.997071160057917, 0.9858017765625132, 0.9961117199327784, 0.9949601995769203, 0.9951550030358954, 0.9957298325451394, 0.9864251795785791, 0.998079586885785, 0.9988628325719509, 0.98028176777202, 0.9940310858352499, 0.9921952685845147, 0.506781327828226, 0.399090295664728, 0.09079832123589049, 0.9130466633133908, 0.08300424211939916, 0.9907397707575853, 0.32248524313201765, 0.016752480162702216, 0.5570199654098487, 0.10051488097621329, 0.995566100685162, 0.997071160057917, 0.988273667535935, 0.9973097254073999, 0.9954104880819954, 0.98028176777202, 0.2944692576211567, 0.7011172800503732, 0.9947573196840149, 0.9951550030358954, 0.9964670195449921, 0.9951550030358954, 0.9375009185079476, 0.05798974753657408, 0.997071160057917, 0.9943353071742107, 0.9898603690527781, 0.08883236756553564, 0.9129993333124495, 0.9951550030358954, 0.8491074799446766, 0.14434827159059502, 0.9966120703846559], \"Term\": [\"absolutely\", \"account\", \"account\", \"account\", \"accs\", \"actual\", \"against\", \"airtime\", \"airtime\", \"americans\", \"amp\", \"amp\", \"amp\", \"andrew\", \"answer\", \"appreciated\", \"arts\", \"ask\", \"assisting\", \"away\", \"away\", \"banking\", \"banning\", \"barrier\", \"bc\", \"boilers\", \"box\", \"bp\", \"capsules\", \"captured\", \"carbon\", \"carbon\", \"carbon\", \"carbon\", \"carbon\", \"causes\", \"cent\", \"challenges\", \"change\", \"character\", \"chart\", \"clean\", \"clean\", \"cleaning\", \"climate\", \"climate\", \"co2\", \"co2\", \"coal\", \"come\", \"come\", \"consumption\", \"corporations\", \"cost\", \"costs\", \"costs\", \"covid\", \"degraded\", \"development\", \"dinosaur\", \"drags\", \"drought\", \"eazzy\", \"electoral\", \"emissions\", \"emissions\", \"emissions\", \"energy\", \"entryends\", \"environmental\", \"environmentmeanwhile\", \"episode\", \"ever\", \"expense\", \"ey\", \"fave\", \"fb\", \"feet\", \"final\", \"finally\", \"find\", \"fine\", \"first\", \"first\", \"focus\", \"focus\", \"follow\", \"follow\", \"footprint\", \"footprint\", \"footprint\", \"for\", \"free\", \"fun\", \"future\", \"future\", \"gas\", \"giant\", \"giants\", \"giveaway\", \"giveaway\", \"giving\", \"global\", \"global\", \"go\", \"go\", \"god\", \"got\", \"government\", \"green\", \"green\", \"green\", \"grilled\", \"gt\", \"hateful\", \"heatwaves\", \"help\", \"helping\", \"household\", \"i\", \"i\", \"includes\", \"income\", \"incredibly\", \"indigenous\", \"insividual\", \"intense\", \"interests\", \"it\", \"it\", \"june\", \"june\", \"k\", \"k\", \"kuda\", \"kuda\", \"kuda\", \"kulve\", \"lambie\", \"land\", \"land\", \"large\", \"large\", \"latest\", \"laundry\", \"least\", \"least\", \"least\", \"like\", \"like\", \"like\", \"live\", \"logging\", \"massively\", \"mb\", \"meat\", \"media\", \"media\", \"medivac\", \"minerals\", \"mines\", \"mobile\", \"money\", \"money\", \"moon\", \"must\", \"need\", \"need\", \"neil\", \"net\", \"neutral\", \"new\", \"new\", \"new\", \"news\", \"news\", \"nt\", \"office\", \"oil\", \"one\", \"one\", \"one\", \"pay\", \"pay\", \"pays\", \"per\", \"peter\", \"pm\", \"podcast\", \"policies\", \"politicians\", \"popularized\", \"properly\", \"protecting\", \"purple\", \"pushed\", \"questions\", \"rc\", \"reduce\", \"reef\", \"reform\", \"refreshing\", \"reminder\", \"rent\", \"replacing\", \"reply\", \"resource\", \"revolution\", \"rights\", \"rishi\", \"rt\", \"s\", \"s\", \"s\", \"s\", \"scope\", \"scrutinising\", \"see\", \"see\", \"selling\", \"senate\", \"senior\", \"similar\", \"sunak\", \"ta\", \"talk\", \"talks\", \"target\", \"tax\", \"ter\", \"th\", \"that\", \"the\", \"the\", \"the\", \"this\", \"this\", \"tho\", \"time\", \"time\", \"time\", \"time\", \"top\", \"transgender\", \"truth\", \"u\", \"uk\", \"unilevers\", \"using\", \"using\", \"ve\", \"venmomobilepc\", \"voted\", \"welkin\", \"well\", \"well\", \"whistleblowers\", \"work\", \"worlds\", \"would\", \"would\", \"xtra\", \"year\", \"year\", \"zero\"]}, \"R\": 30, \"lambda.step\": 0.01, \"plot.opts\": {\"xlab\": \"PC1\", \"ylab\": \"PC2\"}, \"topic.order\": [4, 2, 3, 5, 1]};\n",
              "\n",
              "function LDAvis_load_lib(url, callback){\n",
              "  var s = document.createElement('script');\n",
              "  s.src = url;\n",
              "  s.async = true;\n",
              "  s.onreadystatechange = s.onload = callback;\n",
              "  s.onerror = function(){console.warn(\"failed to load library \" + url);};\n",
              "  document.getElementsByTagName(\"head\")[0].appendChild(s);\n",
              "}\n",
              "\n",
              "if(typeof(LDAvis) !== \"undefined\"){\n",
              "   // already loaded: just create the visualization\n",
              "   !function(LDAvis){\n",
              "       new LDAvis(\"#\" + \"ldavis_el611399724349063207796545008\", ldavis_el611399724349063207796545008_data);\n",
              "   }(LDAvis);\n",
              "}else if(typeof define === \"function\" && define.amd){\n",
              "   // require.js is available: use it to load d3/LDAvis\n",
              "   require.config({paths: {d3: \"https://d3js.org/d3.v5\"}});\n",
              "   require([\"d3\"], function(d3){\n",
              "      window.d3 = d3;\n",
              "      LDAvis_load_lib(\"https://cdn.jsdelivr.net/gh/bmabey/pyLDAvis@3.3.1/pyLDAvis/js/ldavis.v3.0.0.js\", function(){\n",
              "        new LDAvis(\"#\" + \"ldavis_el611399724349063207796545008\", ldavis_el611399724349063207796545008_data);\n",
              "      });\n",
              "    });\n",
              "}else{\n",
              "    // require.js not available: dynamically load d3 & LDAvis\n",
              "    LDAvis_load_lib(\"https://d3js.org/d3.v5.js\", function(){\n",
              "         LDAvis_load_lib(\"https://cdn.jsdelivr.net/gh/bmabey/pyLDAvis@3.3.1/pyLDAvis/js/ldavis.v3.0.0.js\", function(){\n",
              "                 new LDAvis(\"#\" + \"ldavis_el611399724349063207796545008\", ldavis_el611399724349063207796545008_data);\n",
              "            })\n",
              "         });\n",
              "}\n",
              "</script>"
            ],
            "text/plain": [
              "PreparedData(topic_coordinates=              x         y  topics  cluster       Freq\n",
              "topic                                                \n",
              "3     -0.298347  0.187598       1        1  27.315574\n",
              "1     -0.011718  0.019788       2        1  22.293761\n",
              "2      0.303998  0.197470       3        1  20.110988\n",
              "4     -0.029315 -0.162216       4        1  17.137186\n",
              "0      0.035381 -0.242640       5        1  13.142490, topic_info=            Term        Freq       Total Category  logprob  loglift\n",
              "973          tax  617.000000  617.000000  Default  30.0000  30.0000\n",
              "966   protecting  602.000000  602.000000  Default  29.0000  29.0000\n",
              "971       rights  600.000000  600.000000  Default  28.0000  28.0000\n",
              "364   government  397.000000  397.000000  Default  27.0000  27.0000\n",
              "208          oil  504.000000  504.000000  Default  26.0000  26.0000\n",
              "...          ...         ...         ...      ...      ...      ...\n",
              "1752       large   79.340788  123.059359   Topic5  -4.8749   1.5904\n",
              "37          land   88.181035  394.623878   Topic5  -4.7693   0.5308\n",
              "558       future   72.592915  115.870899   Topic5  -4.9638   1.5617\n",
              "114         kuda   71.132622  200.909601   Topic5  -4.9841   0.9910\n",
              "253    footprint   71.458386  317.045182   Topic5  -4.9796   0.5394\n",
              "\n",
              "[244 rows x 6 columns], token_table=      Topic      Freq        Term\n",
              "term                             \n",
              "468       2  0.991148  absolutely\n",
              "58        1  0.124406     account\n",
              "58        2  0.163283     account\n",
              "58        3  0.711449     account\n",
              "1186      3  0.995155        accs\n",
              "...     ...       ...         ...\n",
              "300       3  0.912999       would\n",
              "1208      3  0.995155        xtra\n",
              "277       2  0.849107        year\n",
              "277       3  0.144348        year\n",
              "373       4  0.996612        zero\n",
              "\n",
              "[265 rows x 3 columns], R=30, lambda_step=0.01, plot_opts={'xlab': 'PC1', 'ylab': 'PC2'}, topic_order=[4, 2, 3, 5, 1])"
            ]
          },
          "execution_count": 18,
          "metadata": {
            "tags": []
          },
          "output_type": "execute_result"
        }
      ],
      "source": [
        "import pyLDAvis.gensim_models as gensimvis\n",
        "import pickle \n",
        "import pyLDAvis\n",
        "# Visualize the topics\n",
        "pyLDAvis.enable_notebook()\n",
        "\n",
        "LDAvis_prepared = gensimvis.prepare(lda_model, corpus, id2word)\n",
        "LDAvis_prepared"
      ]
    },
    {
      "cell_type": "code",
      "execution_count": null,
      "metadata": {
        "id": "C3Ma_m5p2-MH"
      },
      "outputs": [],
      "source": [
        "# Tranining on different values of topics/k\n",
        "\n",
        "# for k in range(2,25): # Train LDA on different values of k\n",
        "#     print('Round: '+str(k))\n",
        "#     LDA = gensim.models.ldamulticore.LdaMulticore\n",
        "#     ldamodel = LDA(doc_term_matrix, num_topics=k, id2word = dictionary, passes=20, iterations=100,\n",
        "#                    chunksize = 10000, eval_every = 10, random_state=20)\n",
        "    \n",
        "#     ldamodel.save(f\"ldamodel_for_{k}topics_Run_10\")\n",
        "#     pprint(ldamodel.print_topics())"
      ]
    },
    {
      "cell_type": "code",
      "execution_count": null,
      "metadata": {
        "id": "zspW6g_E3Hqm"
      },
      "outputs": [],
      "source": [
        "# Coherence score\n",
        "# coherence = []\n",
        "# for k in range(2,25):\n",
        "#     LDA = gensim.models.ldamulticore.LdaMulticore\n",
        "#     ldamodel = LDA.load(f\"ldamodel_for_{k}topics_Run_10\")\n",
        "#     cm = gensim.models.coherencemodel.CoherenceModel(model=ldamodel, texts=Complete_Content, dictionary=dictionary, coherence='c_v')\n",
        "#     coherence.append((k, 'default', 'default', cm.get_coherence()))"
      ]
    },
    {
      "cell_type": "markdown",
      "metadata": {
        "id": "2bPy2I857NwK"
      },
      "source": [
        "# Sentiment Analysis\n",
        "\n",
        "[Notebook reference](https://github.com/lazuxd/simple-imdb-sentiment-analysis/blob/master/sentiment-analysis.ipynb)"
      ]
    },
    {
      "cell_type": "markdown",
      "metadata": {
        "id": "1koLQ9HL7il-"
      },
      "source": [
        "## Building a Sentiment Classifier using Scikit-Learn"
      ]
    },
    {
      "cell_type": "markdown",
      "metadata": {
        "id": "mwrqjIXn7yAV"
      },
      "source": [
        "<center><img src=\"https://raw.githubusercontent.com/lazuxd/simple-imdb-sentiment-analysis/master/smiley.jpg\"/></center>\n",
        "<center><i>Image by AbsolutVision @ <a href=\"https://pixabay.com/ro/photos/smiley-emoticon-furie-sup%C4%83rat-2979107/\">pixabay.com</a></i></center>\n",
        "\n",
        "> &nbsp;&nbsp;&nbsp;&nbsp;**Sentiment analysis**, an important area in Natural Language Processing, is the process of automatically detecting affective states of text. Sentiment analysis is widely applied to voice-of-customer materials such as product reviews in online shopping websites like Amazon, movie reviews or social media. It can be just a basic task of classifying the polarity of a text as being positive/negative or it can go beyond polarity, looking at emotional states such as \"happy\", \"angry\", etc.\n",
        "\n",
        "&nbsp;&nbsp;&nbsp;&nbsp;Here we will build a classifier of [tweets](https://raw.githubusercontent.com/kolaveridi/kaggle-Twitter-US-Airline-Sentiment-/master/Tweets.csv) about six US airlines, the task is to predict whether a tweet contains positive, negative, or neutral sentiment about the airline. This is a typical supervised learning task where given a text string, we have to categorize the text string into predefined categories.\n",
        "\n"
      ]
    },
    {
      "cell_type": "markdown",
      "metadata": {
        "id": "ZcTV8j86iNbT"
      },
      "source": [
        ">> ### Import required libraries"
      ]
    },
    {
      "cell_type": "code",
      "execution_count": null,
      "metadata": {
        "id": "kHlBILTNiMpw"
      },
      "outputs": [],
      "source": [
        "import numpy as np \n",
        "import pandas as pd \n",
        "import re\n",
        "import nltk \n",
        "import matplotlib.pyplot as plt\n",
        "import seaborn as sns\n",
        "%matplotlib inline"
      ]
    },
    {
      "cell_type": "code",
      "execution_count": null,
      "metadata": {
        "id": "ZTx7bB9qiRjq"
      },
      "outputs": [],
      "source": [
        "# Read the Data\n",
        "DataLoader_obj= DataLoader('/content/drive/MyDrive/data','airlines.csv')"
      ]
    },
    {
      "cell_type": "code",
      "execution_count": null,
      "metadata": {
        "id": "yyk3ewWqpy7F"
      },
      "outputs": [],
      "source": [
        "airline_tweets_df=DataLoader_obj.read_csv()"
      ]
    },
    {
      "cell_type": "code",
      "execution_count": null,
      "metadata": {
        "colab": {
          "base_uri": "https://localhost:8080/",
          "height": 496
        },
        "id": "KvlSl2buqDCY",
        "outputId": "895f0725-4770-41ea-b3a3-479bee2060b8"
      },
      "outputs": [
        {
          "data": {
            "text/html": [
              "\n",
              "  <div id=\"df-7880c5a8-d12a-40a2-93ab-74dc6830ee37\">\n",
              "    <div class=\"colab-df-container\">\n",
              "      <div>\n",
              "<style scoped>\n",
              "    .dataframe tbody tr th:only-of-type {\n",
              "        vertical-align: middle;\n",
              "    }\n",
              "\n",
              "    .dataframe tbody tr th {\n",
              "        vertical-align: top;\n",
              "    }\n",
              "\n",
              "    .dataframe thead th {\n",
              "        text-align: right;\n",
              "    }\n",
              "</style>\n",
              "<table border=\"1\" class=\"dataframe\">\n",
              "  <thead>\n",
              "    <tr style=\"text-align: right;\">\n",
              "      <th></th>\n",
              "      <th>tweet_id</th>\n",
              "      <th>airline_sentiment</th>\n",
              "      <th>airline_sentiment_confidence</th>\n",
              "      <th>negativereason</th>\n",
              "      <th>negativereason_confidence</th>\n",
              "      <th>airline</th>\n",
              "      <th>airline_sentiment_gold</th>\n",
              "      <th>name</th>\n",
              "      <th>negativereason_gold</th>\n",
              "      <th>retweet_count</th>\n",
              "      <th>text</th>\n",
              "      <th>tweet_coord</th>\n",
              "      <th>tweet_created</th>\n",
              "      <th>tweet_location</th>\n",
              "      <th>user_timezone</th>\n",
              "    </tr>\n",
              "  </thead>\n",
              "  <tbody>\n",
              "    <tr>\n",
              "      <th>0</th>\n",
              "      <td>570306133677760513</td>\n",
              "      <td>neutral</td>\n",
              "      <td>1.0000</td>\n",
              "      <td>NaN</td>\n",
              "      <td>NaN</td>\n",
              "      <td>Virgin America</td>\n",
              "      <td>NaN</td>\n",
              "      <td>cairdin</td>\n",
              "      <td>NaN</td>\n",
              "      <td>0</td>\n",
              "      <td>@VirginAmerica What @dhepburn said.</td>\n",
              "      <td>NaN</td>\n",
              "      <td>2015-02-24 11:35:52 -0800</td>\n",
              "      <td>NaN</td>\n",
              "      <td>Eastern Time (US &amp; Canada)</td>\n",
              "    </tr>\n",
              "    <tr>\n",
              "      <th>1</th>\n",
              "      <td>570301130888122368</td>\n",
              "      <td>positive</td>\n",
              "      <td>0.3486</td>\n",
              "      <td>NaN</td>\n",
              "      <td>0.0000</td>\n",
              "      <td>Virgin America</td>\n",
              "      <td>NaN</td>\n",
              "      <td>jnardino</td>\n",
              "      <td>NaN</td>\n",
              "      <td>0</td>\n",
              "      <td>@VirginAmerica plus you've added commercials t...</td>\n",
              "      <td>NaN</td>\n",
              "      <td>2015-02-24 11:15:59 -0800</td>\n",
              "      <td>NaN</td>\n",
              "      <td>Pacific Time (US &amp; Canada)</td>\n",
              "    </tr>\n",
              "    <tr>\n",
              "      <th>2</th>\n",
              "      <td>570301083672813571</td>\n",
              "      <td>neutral</td>\n",
              "      <td>0.6837</td>\n",
              "      <td>NaN</td>\n",
              "      <td>NaN</td>\n",
              "      <td>Virgin America</td>\n",
              "      <td>NaN</td>\n",
              "      <td>yvonnalynn</td>\n",
              "      <td>NaN</td>\n",
              "      <td>0</td>\n",
              "      <td>@VirginAmerica I didn't today... Must mean I n...</td>\n",
              "      <td>NaN</td>\n",
              "      <td>2015-02-24 11:15:48 -0800</td>\n",
              "      <td>Lets Play</td>\n",
              "      <td>Central Time (US &amp; Canada)</td>\n",
              "    </tr>\n",
              "    <tr>\n",
              "      <th>3</th>\n",
              "      <td>570301031407624196</td>\n",
              "      <td>negative</td>\n",
              "      <td>1.0000</td>\n",
              "      <td>Bad Flight</td>\n",
              "      <td>0.7033</td>\n",
              "      <td>Virgin America</td>\n",
              "      <td>NaN</td>\n",
              "      <td>jnardino</td>\n",
              "      <td>NaN</td>\n",
              "      <td>0</td>\n",
              "      <td>@VirginAmerica it's really aggressive to blast...</td>\n",
              "      <td>NaN</td>\n",
              "      <td>2015-02-24 11:15:36 -0800</td>\n",
              "      <td>NaN</td>\n",
              "      <td>Pacific Time (US &amp; Canada)</td>\n",
              "    </tr>\n",
              "    <tr>\n",
              "      <th>4</th>\n",
              "      <td>570300817074462722</td>\n",
              "      <td>negative</td>\n",
              "      <td>1.0000</td>\n",
              "      <td>Can't Tell</td>\n",
              "      <td>1.0000</td>\n",
              "      <td>Virgin America</td>\n",
              "      <td>NaN</td>\n",
              "      <td>jnardino</td>\n",
              "      <td>NaN</td>\n",
              "      <td>0</td>\n",
              "      <td>@VirginAmerica and it's a really big bad thing...</td>\n",
              "      <td>NaN</td>\n",
              "      <td>2015-02-24 11:14:45 -0800</td>\n",
              "      <td>NaN</td>\n",
              "      <td>Pacific Time (US &amp; Canada)</td>\n",
              "    </tr>\n",
              "  </tbody>\n",
              "</table>\n",
              "</div>\n",
              "      <button class=\"colab-df-convert\" onclick=\"convertToInteractive('df-7880c5a8-d12a-40a2-93ab-74dc6830ee37')\"\n",
              "              title=\"Convert this dataframe to an interactive table.\"\n",
              "              style=\"display:none;\">\n",
              "        \n",
              "  <svg xmlns=\"http://www.w3.org/2000/svg\" height=\"24px\"viewBox=\"0 0 24 24\"\n",
              "       width=\"24px\">\n",
              "    <path d=\"M0 0h24v24H0V0z\" fill=\"none\"/>\n",
              "    <path d=\"M18.56 5.44l.94 2.06.94-2.06 2.06-.94-2.06-.94-.94-2.06-.94 2.06-2.06.94zm-11 1L8.5 8.5l.94-2.06 2.06-.94-2.06-.94L8.5 2.5l-.94 2.06-2.06.94zm10 10l.94 2.06.94-2.06 2.06-.94-2.06-.94-.94-2.06-.94 2.06-2.06.94z\"/><path d=\"M17.41 7.96l-1.37-1.37c-.4-.4-.92-.59-1.43-.59-.52 0-1.04.2-1.43.59L10.3 9.45l-7.72 7.72c-.78.78-.78 2.05 0 2.83L4 21.41c.39.39.9.59 1.41.59.51 0 1.02-.2 1.41-.59l7.78-7.78 2.81-2.81c.8-.78.8-2.07 0-2.86zM5.41 20L4 18.59l7.72-7.72 1.47 1.35L5.41 20z\"/>\n",
              "  </svg>\n",
              "      </button>\n",
              "      \n",
              "  <style>\n",
              "    .colab-df-container {\n",
              "      display:flex;\n",
              "      flex-wrap:wrap;\n",
              "      gap: 12px;\n",
              "    }\n",
              "\n",
              "    .colab-df-convert {\n",
              "      background-color: #E8F0FE;\n",
              "      border: none;\n",
              "      border-radius: 50%;\n",
              "      cursor: pointer;\n",
              "      display: none;\n",
              "      fill: #1967D2;\n",
              "      height: 32px;\n",
              "      padding: 0 0 0 0;\n",
              "      width: 32px;\n",
              "    }\n",
              "\n",
              "    .colab-df-convert:hover {\n",
              "      background-color: #E2EBFA;\n",
              "      box-shadow: 0px 1px 2px rgba(60, 64, 67, 0.3), 0px 1px 3px 1px rgba(60, 64, 67, 0.15);\n",
              "      fill: #174EA6;\n",
              "    }\n",
              "\n",
              "    [theme=dark] .colab-df-convert {\n",
              "      background-color: #3B4455;\n",
              "      fill: #D2E3FC;\n",
              "    }\n",
              "\n",
              "    [theme=dark] .colab-df-convert:hover {\n",
              "      background-color: #434B5C;\n",
              "      box-shadow: 0px 1px 3px 1px rgba(0, 0, 0, 0.15);\n",
              "      filter: drop-shadow(0px 1px 2px rgba(0, 0, 0, 0.3));\n",
              "      fill: #FFFFFF;\n",
              "    }\n",
              "  </style>\n",
              "\n",
              "      <script>\n",
              "        const buttonEl =\n",
              "          document.querySelector('#df-7880c5a8-d12a-40a2-93ab-74dc6830ee37 button.colab-df-convert');\n",
              "        buttonEl.style.display =\n",
              "          google.colab.kernel.accessAllowed ? 'block' : 'none';\n",
              "\n",
              "        async function convertToInteractive(key) {\n",
              "          const element = document.querySelector('#df-7880c5a8-d12a-40a2-93ab-74dc6830ee37');\n",
              "          const dataTable =\n",
              "            await google.colab.kernel.invokeFunction('convertToInteractive',\n",
              "                                                     [key], {});\n",
              "          if (!dataTable) return;\n",
              "\n",
              "          const docLinkHtml = 'Like what you see? Visit the ' +\n",
              "            '<a target=\"_blank\" href=https://colab.research.google.com/notebooks/data_table.ipynb>data table notebook</a>'\n",
              "            + ' to learn more about interactive tables.';\n",
              "          element.innerHTML = '';\n",
              "          dataTable['output_type'] = 'display_data';\n",
              "          await google.colab.output.renderOutput(dataTable, element);\n",
              "          const docLink = document.createElement('div');\n",
              "          docLink.innerHTML = docLinkHtml;\n",
              "          element.appendChild(docLink);\n",
              "        }\n",
              "      </script>\n",
              "    </div>\n",
              "  </div>\n",
              "  "
            ],
            "text/plain": [
              "             tweet_id airline_sentiment  airline_sentiment_confidence  \\\n",
              "0  570306133677760513           neutral                        1.0000   \n",
              "1  570301130888122368          positive                        0.3486   \n",
              "2  570301083672813571           neutral                        0.6837   \n",
              "3  570301031407624196          negative                        1.0000   \n",
              "4  570300817074462722          negative                        1.0000   \n",
              "\n",
              "  negativereason  negativereason_confidence         airline  \\\n",
              "0            NaN                        NaN  Virgin America   \n",
              "1            NaN                     0.0000  Virgin America   \n",
              "2            NaN                        NaN  Virgin America   \n",
              "3     Bad Flight                     0.7033  Virgin America   \n",
              "4     Can't Tell                     1.0000  Virgin America   \n",
              "\n",
              "  airline_sentiment_gold        name negativereason_gold  retweet_count  \\\n",
              "0                    NaN     cairdin                 NaN              0   \n",
              "1                    NaN    jnardino                 NaN              0   \n",
              "2                    NaN  yvonnalynn                 NaN              0   \n",
              "3                    NaN    jnardino                 NaN              0   \n",
              "4                    NaN    jnardino                 NaN              0   \n",
              "\n",
              "                                                text tweet_coord  \\\n",
              "0                @VirginAmerica What @dhepburn said.         NaN   \n",
              "1  @VirginAmerica plus you've added commercials t...         NaN   \n",
              "2  @VirginAmerica I didn't today... Must mean I n...         NaN   \n",
              "3  @VirginAmerica it's really aggressive to blast...         NaN   \n",
              "4  @VirginAmerica and it's a really big bad thing...         NaN   \n",
              "\n",
              "               tweet_created tweet_location               user_timezone  \n",
              "0  2015-02-24 11:35:52 -0800            NaN  Eastern Time (US & Canada)  \n",
              "1  2015-02-24 11:15:59 -0800            NaN  Pacific Time (US & Canada)  \n",
              "2  2015-02-24 11:15:48 -0800      Lets Play  Central Time (US & Canada)  \n",
              "3  2015-02-24 11:15:36 -0800            NaN  Pacific Time (US & Canada)  \n",
              "4  2015-02-24 11:14:45 -0800            NaN  Pacific Time (US & Canada)  "
            ]
          },
          "execution_count": 56,
          "metadata": {},
          "output_type": "execute_result"
        }
      ],
      "source": [
        "airline_tweets_df.head()"
      ]
    },
    {
      "cell_type": "markdown",
      "metadata": {
        "id": "Rv1PhJN3qU1G"
      },
      "source": [
        ">> ### Basic EDA"
      ]
    },
    {
      "cell_type": "code",
      "execution_count": null,
      "metadata": {
        "id": "8QkHXjMVqQ2v"
      },
      "outputs": [],
      "source": [
        "# plot params\n",
        "plot_size = plt.rcParams[\"figure.figsize\"] \n",
        "plot_size[0] = 8\n",
        "plot_size[1] = 6\n",
        "plt.rcParams[\"figure.figsize\"] = plot_size \n"
      ]
    },
    {
      "cell_type": "code",
      "execution_count": null,
      "metadata": {
        "colab": {
          "base_uri": "https://localhost:8080/",
          "height": 592
        },
        "id": "FTa2GtCYqgrL",
        "outputId": "67f469cb-4b14-4379-9b1d-7426bc4fc247"
      },
      "outputs": [
        {
          "data": {
            "text/plain": [
              "<matplotlib.axes._subplots.AxesSubplot at 0x7f3da0f0ca90>"
            ]
          },
          "execution_count": 68,
          "metadata": {},
          "output_type": "execute_result"
        },
        {
          "data": {
            "image/png": "[encoded data removed]",
            "text/plain": [
              "<Figure size 1008x720 with 1 Axes>"
            ]
          },
          "metadata": {},
          "output_type": "display_data"
        }
      ],
      "source": [
        "# number of tweets for each airline\n",
        "sns.set(rc={'figure.figsize':(14,10)})\n",
        "airline_tweets_df.airline.value_counts().plot(kind='pie', autopct='%1.0f%%')"
      ]
    },
    {
      "cell_type": "code",
      "execution_count": null,
      "metadata": {
        "colab": {
          "base_uri": "https://localhost:8080/",
          "height": 592
        },
        "id": "ZYlJilS2qxsn",
        "outputId": "9570db50-e3d8-464a-b00f-90ee70f7ad94"
      },
      "outputs": [
        {
          "data": {
            "text/plain": [
              "<matplotlib.axes._subplots.AxesSubplot at 0x7f3d98077350>"
            ]
          },
          "execution_count": 67,
          "metadata": {},
          "output_type": "execute_result"
        },
        {
          "data": {
            "image/png": "[encoded data removed]",
            "text/plain": [
              "<Figure size 1008x720 with 1 Axes>"
            ]
          },
          "metadata": {},
          "output_type": "display_data"
        }
      ],
      "source": [
        "# Distribution of sentiments across all the tweets.\n",
        "sns.set(rc={'figure.figsize':(14,10)})\n",
        "airline_tweets_df.airline_sentiment.value_counts().plot(kind='pie', autopct='%1.0f%%', colors=[\"red\", \"yellow\", \"green\"])"
      ]
    },
    {
      "cell_type": "code",
      "execution_count": null,
      "metadata": {
        "colab": {
          "base_uri": "https://localhost:8080/",
          "height": 590
        },
        "id": "pGy6BR_sq9NC",
        "outputId": "01a189c3-38c3-49d9-ee3d-300642c078ae"
      },
      "outputs": [
        {
          "data": {
            "text/plain": [
              "<matplotlib.axes._subplots.AxesSubplot at 0x7f3d97f387d0>"
            ]
          },
          "execution_count": 70,
          "metadata": {},
          "output_type": "execute_result"
        },
        {
          "data": {
            "image/png": "[encoded data removed]",
            "text/plain": [
              "<Figure size 864x576 with 1 Axes>"
            ]
          },
          "metadata": {},
          "output_type": "display_data"
        }
      ],
      "source": [
        "sns.set(rc={'figure.figsize':(12,8)})\n",
        "airline_sentiment = airline_tweets_df.groupby(['airline', 'airline_sentiment']).airline_sentiment.count().unstack()\n",
        "airline_sentiment.plot(kind='bar')"
      ]
    },
    {
      "cell_type": "markdown",
      "metadata": {
        "id": "KaQmqpXIsLgf"
      },
      "source": [
        ">> ### Data Cleaning"
      ]
    },
    {
      "cell_type": "code",
      "execution_count": null,
      "metadata": {
        "id": "gWpHe6tDsN-Z"
      },
      "outputs": [],
      "source": [
        "airline_tweets_df.columns"
      ]
    },
    {
      "cell_type": "code",
      "execution_count": null,
      "metadata": {
        "id": "9FnNVR-vtBLm"
      },
      "outputs": [],
      "source": [
        "# Selecting the feature and the label\n",
        "features = airline_tweets_df.iloc[:, 10].values\n",
        "labels = airline_tweets_df.iloc[:, 1].values"
      ]
    },
    {
      "cell_type": "code",
      "execution_count": null,
      "metadata": {
        "id": "LoFm7i1ItH7C"
      },
      "outputs": [],
      "source": [
        "# Data Cleaning using regular expression\n",
        "processed_features = []\n",
        "\n",
        "for sentence in range(0, len(features)):\n",
        "    # Remove all the special characters\n",
        "    processed_feature = re.sub(r'\\W', ' ', str(features[sentence]))\n",
        "\n",
        "    # remove all single characters\n",
        "    processed_feature= re.sub(r'\\s+[a-zA-Z]\\s+', ' ', processed_feature)\n",
        "\n",
        "    # Remove single characters from the start\n",
        "    processed_feature = re.sub(r'\\^[a-zA-Z]\\s+', ' ', processed_feature) \n",
        "\n",
        "    # Substituting multiple spaces with single space\n",
        "    processed_feature = re.sub(r'\\s+', ' ', processed_feature, flags=re.I)\n",
        "\n",
        "    # Removing prefixed 'b'\n",
        "    processed_feature = re.sub(r'^b\\s+', '', processed_feature)\n",
        "\n",
        "    # Converting to Lowercase\n",
        "    processed_feature = processed_feature.lower()\n",
        "\n",
        "    processed_features.append(processed_feature)"
      ]
    },
    {
      "cell_type": "markdown",
      "metadata": {
        "id": "NClfKocjupbx"
      },
      "source": [
        ">> ### Representing Text in Numeric Form"
      ]
    },
    {
      "cell_type": "markdown",
      "metadata": {
        "id": "-V6DlsHDurvM"
      },
      "source": [
        "Statistical algorithms use mathematics to train machine learning models. However, mathematics only work with numbers. To make statistical algorithms work with text, we first have to convert text to numbers. We will be using TF-IDF(Term frequency and Inverse Document frequency.)\n",
        "\n",
        "TF-IDF gives weight for each unique word set. In TF-IDF,  words that occur less in all the documents and more in individual document contribute more towards classification.\n",
        " "
      ]
    },
    {
      "cell_type": "markdown",
      "metadata": {
        "id": "IIa0EaJ2urp8"
      },
      "source": []
    },
    {
      "cell_type": "markdown",
      "metadata": {
        "id": "oYUud0RmujUT"
      },
      "source": [
        "$$\\begin{align}\\frac{\\text{term frequency}}{\\text{document frequency}} &= \\text{term frequency} \\cdot \\frac{1}{\\text{document frequency}} \\\\ &= \\text{term frequency} \\cdot \\text{inverse document frequency} \\\\ &= \\text{tf} \\cdot \\text{idf}\\end{align}$$  \n",
        "  \n",
        "&nbsp;&nbsp;&nbsp;&nbsp;Now, there are more ways used to describe both term frequency and inverse document frequency. But the most common way is by putting them on a logarithmic scale:  \n",
        "  \n",
        "$$tf(t, d) = log(1+f_{t,d})$$  \n",
        "$$idf(t) = log(\\frac{1+N}{1+n_t})$$  \n",
        "  \n",
        "&nbsp;&nbsp;&nbsp;&nbsp;where:  \n",
        "$$\\begin{align}f_{t,d} &= \\text{count of term } \\textbf{t} \\text{ in document } \\textbf{d} \\\\  \n",
        "N &= \\text{total number of documents} \\\\  \n",
        "n_t &= \\text{number of documents that contain term } \\textbf{t}\\end{align}$$  \n",
        "  \n",
        "<b>We added 1 in the first logarithm to avoid getting $-\\infty$ when $f_{t,d}$ is 0. In the second logarithm we added one fake document to avoid division by zero.</b>"
      ]
    },
    {
      "cell_type": "markdown",
      "metadata": {
        "id": "TKBdydcqvMJU"
      },
      "source": [
        "There is Python's Scikit-Learn library contains the TfidfVectorizer class that can be used to convert text features into TF-IDF feature vectors. The following script performs this"
      ]
    },
    {
      "cell_type": "code",
      "execution_count": null,
      "metadata": {
        "id": "SC6myv4JvmbE"
      },
      "outputs": [],
      "source": [
        "import nltk\n",
        "nltk.download('stopwords')"
      ]
    },
    {
      "cell_type": "code",
      "execution_count": null,
      "metadata": {
        "id": "yvSsEXnQtSfg"
      },
      "outputs": [],
      "source": [
        "from nltk.corpus import stopwords\n",
        "from sklearn.feature_extraction.text import TfidfVectorizer\n",
        "\n",
        "vectorizer = TfidfVectorizer (max_features=2500, min_df=7, max_df=0.8, stop_words=stopwords.words('english'))\n",
        "processed_features_vectorized = vectorizer.fit_transform(processed_features).toarray()"
      ]
    },
    {
      "cell_type": "markdown",
      "metadata": {
        "id": "HLYNpKcPvzan"
      },
      "source": [
        ">> ### Train/test split"
      ]
    },
    {
      "cell_type": "code",
      "execution_count": null,
      "metadata": {
        "id": "F9rHh0n5vrVf"
      },
      "outputs": [],
      "source": [
        "from sklearn.model_selection import train_test_split\n",
        "\n",
        "X_train, X_test, y_train, y_test = train_test_split(processed_features_vectorized, labels, test_size=0.2, random_state=0)"
      ]
    },
    {
      "cell_type": "markdown",
      "metadata": {
        "id": "l15qnJLTwEsb"
      },
      "source": [
        ">> ### Training the Model"
      ]
    },
    {
      "cell_type": "code",
      "execution_count": null,
      "metadata": {
        "colab": {
          "base_uri": "https://localhost:8080/"
        },
        "id": "aKaDO66ywBmu",
        "outputId": "6a3be270-a41d-4805-a726-0fbaccf401c1"
      },
      "outputs": [
        {
          "data": {
            "text/plain": [
              "RandomForestClassifier(n_estimators=200, random_state=0)"
            ]
          },
          "execution_count": 86,
          "metadata": {},
          "output_type": "execute_result"
        }
      ],
      "source": [
        "from sklearn.ensemble import RandomForestClassifier\n",
        "\n",
        "text_classifier = RandomForestClassifier(n_estimators=200, random_state=0)\n",
        "text_classifier.fit(X_train, y_train)"
      ]
    },
    {
      "cell_type": "markdown",
      "metadata": {
        "id": "v5MnWBorwpyu"
      },
      "source": [
        ">> ### Prediction"
      ]
    },
    {
      "cell_type": "code",
      "execution_count": null,
      "metadata": {
        "id": "yuED_E0_wmr4"
      },
      "outputs": [],
      "source": [
        "predictions = text_classifier.predict(X_test)"
      ]
    },
    {
      "cell_type": "code",
      "execution_count": null,
      "metadata": {
        "colab": {
          "base_uri": "https://localhost:8080/"
        },
        "id": "LU25Txswuj_1",
        "outputId": "20e82326-e7e4-424d-b9c7-bccd658aa379"
      },
      "outputs": [
        {
          "data": {
            "text/plain": [
              "array(['negative', 'negative', 'negative', 'negative', 'positive',\n",
              "       'negative', 'negative', 'negative', 'negative', 'negative'],\n",
              "      dtype=object)"
            ]
          },
          "execution_count": 91,
          "metadata": {},
          "output_type": "execute_result"
        }
      ],
      "source": [
        "predictions[:10]"
      ]
    },
    {
      "cell_type": "markdown",
      "metadata": {
        "id": "lMVf3NL8xAbn"
      },
      "source": [
        ">> ### Evaluation\n"
      ]
    },
    {
      "cell_type": "code",
      "execution_count": null,
      "metadata": {
        "colab": {
          "base_uri": "https://localhost:8080/"
        },
        "id": "RCAgOi-1w-gk",
        "outputId": "b63abe41-e736-4e3a-829d-e8cb0ae3a3bc"
      },
      "outputs": [
        {
          "name": "stdout",
          "output_type": "stream",
          "text": [
            "0.7599043715846995\n"
          ]
        }
      ],
      "source": [
        "from sklearn.metrics import accuracy_score\n",
        "\n",
        "print(accuracy_score(y_test, predictions))"
      ]
    },
    {
      "cell_type": "markdown",
      "metadata": {
        "id": "CXAOwF0cA_8D"
      },
      "source": [
        "## References\n",
        "\n",
        "<sup>(1)</sup> &nbsp;[Sentiment Analysis - Wikipedia](https://en.wikipedia.org/wiki/Sentiment_analysis)  \n",
        "<sup>(1)</sup> &nbsp;[Sentiment Analysis - Airline tweet sentiment analysis with sckit-learn](https://stackabuse.com/python-for-nlp-sentiment-analysis-with-scikit-learn/)  \n",
        "<sup>(2)</sup> &nbsp;[Learning Word Vectors for Sentiment Analysis](http://ai.stanford.edu/~amaas/papers/wvSent_acl2011.pdf)  \n",
        "<sup>(3)</sup> &nbsp;[Bag-of-words model - Wikipedia](https://en.wikipedia.org/wiki/Bag-of-words_model)  \n",
        "<sup>(4)</sup> &nbsp;[Tf-idf - Wikipedia](https://en.wikipedia.org/wiki/Tf%E2%80%93idf)  \n",
        "<sup>(5)</sup> &nbsp;[TfidfTransformer - Scikit-learn documentation](https://scikit-learn.org/stable/modules/generated/sklearn.feature_extraction.text.TfidfTransformer.html)  \n",
        "<sup>(6)</sup> &nbsp;[Stop words - Wikipedia](https://en.wikipedia.org/wiki/Stop_words)  \n",
        "<sup>(7)</sup> &nbsp;[A list of English stopwords](https://gist.github.com/sebleier/554280)  \n",
        "<sup>(8)</sup> &nbsp;[CountVectorizer - Scikit-learn documentation](https://scikit-learn.org/stable/modules/generated/sklearn.feature_extraction.text.CountVectorizer.html)  \n",
        "<sup>(9)</sup> &nbsp;[Scipy sparse matrices](https://docs.scipy.org/doc/scipy/reference/sparse.html)  \n",
        "<sup>(10)</sup> [Compressed Sparse Row matrix](https://docs.scipy.org/doc/scipy/reference/generated/scipy.sparse.csr_matrix.html#scipy.sparse.csr_matrix)  \n",
        "<sup>(11)</sup> [SGDClassifier - Scikit-learn documentation](https://scikit-learn.org/stable/modules/generated/sklearn.linear_model.SGDClassifier.html)  \n",
        "<sup>(12)</sup> [RandomizedSearchCV - Scikit-learn documentation](https://scikit-learn.org/stable/modules/generated/sklearn.model_selection.RandomizedSearchCV.html)  \n",
        "<sup>(13)</sup> [Sentiment Classification using Document Embeddings trained with\n",
        "Cosine Similarity](https://www.aclweb.org/anthology/P19-2057.pdf)  "
      ]
    }
  ],
  "metadata": {
    "colab": {
      "collapsed_sections": [],
      "name": "Modeling_Twitter.ipynb",
      "provenance": []
    },
    "kernelspec": {
      "display_name": "Python 3.8.5 ('storeFront-V2DFqIRB')",
      "language": "python",
      "name": "python3"
    },
    "language_info": {
      "codemirror_mode": {
        "name": "ipython",
        "version": 3
      },
      "file_extension": ".py",
      "mimetype": "text/x-python",
      "name": "python",
      "nbconvert_exporter": "python",
      "pygments_lexer": "ipython3",
      "version": "3.8.5"
    },
    "vscode": {
      "interpreter": {
        "hash": "06776567ab883a2c3c8f8bfd069449d009c72850678d035532aeec46d1688dbc"
      }
    }
  },
  "nbformat": 4,
  "nbformat_minor": 0
}
